{
 "cells": [
  {
   "cell_type": "code",
   "execution_count": 69,
   "metadata": {},
   "outputs": [],
   "source": [
    "import pandas as pd\n",
    "import numpy as np\n",
    "import matplotlib as mpl\n",
    "import matplotlib.pyplot as plt\n",
    "import re"
   ]
  },
  {
   "cell_type": "code",
   "execution_count": 70,
   "metadata": {
    "scrolled": true
   },
   "outputs": [
    {
     "name": "stderr",
     "output_type": "stream",
     "text": [
      "C:\\Users\\achav\\anaconda3\\lib\\site-packages\\IPython\\core\\interactiveshell.py:3146: DtypeWarning: Columns (678,688,690,692) have mixed types.Specify dtype option on import or set low_memory=False.\n",
      "  has_raised = await self.run_ast_nodes(code_ast.body, cell_name,\n"
     ]
    }
   ],
   "source": [
    "#CARGA DE DATOS\n",
    "\n",
    "df = pd.read_csv('METABRIC_RNA_MUTATION.csv')"
   ]
  },
  {
   "cell_type": "code",
   "execution_count": 71,
   "metadata": {},
   "outputs": [
    {
     "data": {
      "text/plain": [
       "array(['rasgef1b_mut', 'hras_mut', 'smarcb1_mut', 'siah1_mut'],\n",
       "      dtype=object)"
      ]
     },
     "execution_count": 71,
     "metadata": {},
     "output_type": "execute_result"
    }
   ],
   "source": [
    "##columnas con la alerta\n",
    "\n",
    "df.columns.values[[678, 688, 690, 692]]"
   ]
  },
  {
   "cell_type": "code",
   "execution_count": 72,
   "metadata": {},
   "outputs": [
    {
     "data": {
      "text/html": [
       "<div>\n",
       "<style scoped>\n",
       "    .dataframe tbody tr th:only-of-type {\n",
       "        vertical-align: middle;\n",
       "    }\n",
       "\n",
       "    .dataframe tbody tr th {\n",
       "        vertical-align: top;\n",
       "    }\n",
       "\n",
       "    .dataframe thead th {\n",
       "        text-align: right;\n",
       "    }\n",
       "</style>\n",
       "<table border=\"1\" class=\"dataframe\">\n",
       "  <thead>\n",
       "    <tr style=\"text-align: right;\">\n",
       "      <th></th>\n",
       "      <th>patient_id</th>\n",
       "      <th>age_at_diagnosis</th>\n",
       "      <th>type_of_breast_surgery</th>\n",
       "      <th>cancer_type</th>\n",
       "      <th>cancer_type_detailed</th>\n",
       "      <th>cellularity</th>\n",
       "      <th>chemotherapy</th>\n",
       "      <th>pam50_+_claudin-low_subtype</th>\n",
       "      <th>cohort</th>\n",
       "      <th>er_status_measured_by_ihc</th>\n",
       "      <th>...</th>\n",
       "      <th>mtap_mut</th>\n",
       "      <th>ppp2cb_mut</th>\n",
       "      <th>smarcd1_mut</th>\n",
       "      <th>nras_mut</th>\n",
       "      <th>ndfip1_mut</th>\n",
       "      <th>hras_mut</th>\n",
       "      <th>prps2_mut</th>\n",
       "      <th>smarcb1_mut</th>\n",
       "      <th>stmn2_mut</th>\n",
       "      <th>siah1_mut</th>\n",
       "    </tr>\n",
       "  </thead>\n",
       "  <tbody>\n",
       "    <tr>\n",
       "      <th>0</th>\n",
       "      <td>0</td>\n",
       "      <td>75.65</td>\n",
       "      <td>MASTECTOMY</td>\n",
       "      <td>Breast Cancer</td>\n",
       "      <td>Breast Invasive Ductal Carcinoma</td>\n",
       "      <td>NaN</td>\n",
       "      <td>0</td>\n",
       "      <td>claudin-low</td>\n",
       "      <td>1.0</td>\n",
       "      <td>Positve</td>\n",
       "      <td>...</td>\n",
       "      <td>0</td>\n",
       "      <td>0</td>\n",
       "      <td>0</td>\n",
       "      <td>0</td>\n",
       "      <td>0</td>\n",
       "      <td>0</td>\n",
       "      <td>0</td>\n",
       "      <td>0</td>\n",
       "      <td>0</td>\n",
       "      <td>0</td>\n",
       "    </tr>\n",
       "    <tr>\n",
       "      <th>1</th>\n",
       "      <td>2</td>\n",
       "      <td>43.19</td>\n",
       "      <td>BREAST CONSERVING</td>\n",
       "      <td>Breast Cancer</td>\n",
       "      <td>Breast Invasive Ductal Carcinoma</td>\n",
       "      <td>High</td>\n",
       "      <td>0</td>\n",
       "      <td>LumA</td>\n",
       "      <td>1.0</td>\n",
       "      <td>Positve</td>\n",
       "      <td>...</td>\n",
       "      <td>0</td>\n",
       "      <td>0</td>\n",
       "      <td>0</td>\n",
       "      <td>0</td>\n",
       "      <td>0</td>\n",
       "      <td>0</td>\n",
       "      <td>0</td>\n",
       "      <td>0</td>\n",
       "      <td>0</td>\n",
       "      <td>0</td>\n",
       "    </tr>\n",
       "    <tr>\n",
       "      <th>2</th>\n",
       "      <td>5</td>\n",
       "      <td>48.87</td>\n",
       "      <td>MASTECTOMY</td>\n",
       "      <td>Breast Cancer</td>\n",
       "      <td>Breast Invasive Ductal Carcinoma</td>\n",
       "      <td>High</td>\n",
       "      <td>1</td>\n",
       "      <td>LumB</td>\n",
       "      <td>1.0</td>\n",
       "      <td>Positve</td>\n",
       "      <td>...</td>\n",
       "      <td>0</td>\n",
       "      <td>0</td>\n",
       "      <td>0</td>\n",
       "      <td>0</td>\n",
       "      <td>0</td>\n",
       "      <td>0</td>\n",
       "      <td>0</td>\n",
       "      <td>0</td>\n",
       "      <td>0</td>\n",
       "      <td>0</td>\n",
       "    </tr>\n",
       "    <tr>\n",
       "      <th>3</th>\n",
       "      <td>6</td>\n",
       "      <td>47.68</td>\n",
       "      <td>MASTECTOMY</td>\n",
       "      <td>Breast Cancer</td>\n",
       "      <td>Breast Mixed Ductal and Lobular Carcinoma</td>\n",
       "      <td>Moderate</td>\n",
       "      <td>1</td>\n",
       "      <td>LumB</td>\n",
       "      <td>1.0</td>\n",
       "      <td>Positve</td>\n",
       "      <td>...</td>\n",
       "      <td>0</td>\n",
       "      <td>0</td>\n",
       "      <td>0</td>\n",
       "      <td>0</td>\n",
       "      <td>0</td>\n",
       "      <td>0</td>\n",
       "      <td>0</td>\n",
       "      <td>0</td>\n",
       "      <td>0</td>\n",
       "      <td>0</td>\n",
       "    </tr>\n",
       "    <tr>\n",
       "      <th>4</th>\n",
       "      <td>8</td>\n",
       "      <td>76.97</td>\n",
       "      <td>MASTECTOMY</td>\n",
       "      <td>Breast Cancer</td>\n",
       "      <td>Breast Mixed Ductal and Lobular Carcinoma</td>\n",
       "      <td>High</td>\n",
       "      <td>1</td>\n",
       "      <td>LumB</td>\n",
       "      <td>1.0</td>\n",
       "      <td>Positve</td>\n",
       "      <td>...</td>\n",
       "      <td>0</td>\n",
       "      <td>0</td>\n",
       "      <td>0</td>\n",
       "      <td>0</td>\n",
       "      <td>0</td>\n",
       "      <td>0</td>\n",
       "      <td>0</td>\n",
       "      <td>0</td>\n",
       "      <td>0</td>\n",
       "      <td>0</td>\n",
       "    </tr>\n",
       "  </tbody>\n",
       "</table>\n",
       "<p>5 rows × 693 columns</p>\n",
       "</div>"
      ],
      "text/plain": [
       "   patient_id  age_at_diagnosis type_of_breast_surgery    cancer_type  \\\n",
       "0           0             75.65             MASTECTOMY  Breast Cancer   \n",
       "1           2             43.19      BREAST CONSERVING  Breast Cancer   \n",
       "2           5             48.87             MASTECTOMY  Breast Cancer   \n",
       "3           6             47.68             MASTECTOMY  Breast Cancer   \n",
       "4           8             76.97             MASTECTOMY  Breast Cancer   \n",
       "\n",
       "                        cancer_type_detailed cellularity  chemotherapy  \\\n",
       "0           Breast Invasive Ductal Carcinoma         NaN             0   \n",
       "1           Breast Invasive Ductal Carcinoma        High             0   \n",
       "2           Breast Invasive Ductal Carcinoma        High             1   \n",
       "3  Breast Mixed Ductal and Lobular Carcinoma    Moderate             1   \n",
       "4  Breast Mixed Ductal and Lobular Carcinoma        High             1   \n",
       "\n",
       "  pam50_+_claudin-low_subtype  cohort er_status_measured_by_ihc  ... mtap_mut  \\\n",
       "0                 claudin-low     1.0                   Positve  ...        0   \n",
       "1                        LumA     1.0                   Positve  ...        0   \n",
       "2                        LumB     1.0                   Positve  ...        0   \n",
       "3                        LumB     1.0                   Positve  ...        0   \n",
       "4                        LumB     1.0                   Positve  ...        0   \n",
       "\n",
       "   ppp2cb_mut smarcd1_mut nras_mut ndfip1_mut  hras_mut prps2_mut smarcb1_mut  \\\n",
       "0           0           0        0          0         0         0           0   \n",
       "1           0           0        0          0         0         0           0   \n",
       "2           0           0        0          0         0         0           0   \n",
       "3           0           0        0          0         0         0           0   \n",
       "4           0           0        0          0         0         0           0   \n",
       "\n",
       "  stmn2_mut  siah1_mut  \n",
       "0         0          0  \n",
       "1         0          0  \n",
       "2         0          0  \n",
       "3         0          0  \n",
       "4         0          0  \n",
       "\n",
       "[5 rows x 693 columns]"
      ]
     },
     "execution_count": 72,
     "metadata": {},
     "output_type": "execute_result"
    }
   ],
   "source": [
    "df.head()"
   ]
  },
  {
   "cell_type": "code",
   "execution_count": 73,
   "metadata": {
    "scrolled": true
   },
   "outputs": [
    {
     "data": {
      "text/plain": [
       "rasgef1b_mut    object\n",
       "hras_mut        object\n",
       "smarcb1_mut     object\n",
       "siah1_mut       object\n",
       "dtype: object"
      ]
     },
     "execution_count": 73,
     "metadata": {},
     "output_type": "execute_result"
    }
   ],
   "source": [
    "df[['rasgef1b_mut', 'hras_mut', 'smarcb1_mut', 'siah1_mut']].dtypes"
   ]
  },
  {
   "cell_type": "code",
   "execution_count": 74,
   "metadata": {},
   "outputs": [
    {
     "data": {
      "text/html": [
       "<div>\n",
       "<style scoped>\n",
       "    .dataframe tbody tr th:only-of-type {\n",
       "        vertical-align: middle;\n",
       "    }\n",
       "\n",
       "    .dataframe tbody tr th {\n",
       "        vertical-align: top;\n",
       "    }\n",
       "\n",
       "    .dataframe thead th {\n",
       "        text-align: right;\n",
       "    }\n",
       "</style>\n",
       "<table border=\"1\" class=\"dataframe\">\n",
       "  <thead>\n",
       "    <tr style=\"text-align: right;\">\n",
       "      <th></th>\n",
       "      <th>rasgef1b_mut</th>\n",
       "      <th>hras_mut</th>\n",
       "      <th>smarcb1_mut</th>\n",
       "      <th>siah1_mut</th>\n",
       "    </tr>\n",
       "  </thead>\n",
       "  <tbody>\n",
       "    <tr>\n",
       "      <th>count</th>\n",
       "      <td>1904</td>\n",
       "      <td>1904</td>\n",
       "      <td>1904</td>\n",
       "      <td>1904</td>\n",
       "    </tr>\n",
       "    <tr>\n",
       "      <th>unique</th>\n",
       "      <td>9</td>\n",
       "      <td>4</td>\n",
       "      <td>4</td>\n",
       "      <td>3</td>\n",
       "    </tr>\n",
       "    <tr>\n",
       "      <th>top</th>\n",
       "      <td>0</td>\n",
       "      <td>0</td>\n",
       "      <td>0</td>\n",
       "      <td>0</td>\n",
       "    </tr>\n",
       "    <tr>\n",
       "      <th>freq</th>\n",
       "      <td>1024</td>\n",
       "      <td>1024</td>\n",
       "      <td>1024</td>\n",
       "      <td>1024</td>\n",
       "    </tr>\n",
       "  </tbody>\n",
       "</table>\n",
       "</div>"
      ],
      "text/plain": [
       "        rasgef1b_mut  hras_mut  smarcb1_mut  siah1_mut\n",
       "count           1904      1904         1904       1904\n",
       "unique             9         4            4          3\n",
       "top                0         0            0          0\n",
       "freq            1024      1024         1024       1024"
      ]
     },
     "execution_count": 74,
     "metadata": {},
     "output_type": "execute_result"
    }
   ],
   "source": [
    "## descripcion de las variables con la alerta\n",
    "\n",
    "df[['rasgef1b_mut', 'hras_mut', 'smarcb1_mut', 'siah1_mut']].describe()"
   ]
  },
  {
   "cell_type": "code",
   "execution_count": 75,
   "metadata": {
    "scrolled": false
   },
   "outputs": [
    {
     "name": "stdout",
     "output_type": "stream",
     "text": [
      "[0 '0' 'V418A' 'S343G' 'R140Q' 'X2_splice' 'R353H' 'H396Y' 'E78K']\n",
      "[0 '0' 'Q61R' 'N86T']\n",
      "[0 '0' 'D159N' 'I28L']\n",
      "[0 '0' 'T249A']\n"
     ]
    }
   ],
   "source": [
    "## las variables con la alerta indican mutaciones en los genes correspondientes. 0 = no mutacion ; x = mutacion\n",
    "#hay valores de 0 como caracter\n",
    "\n",
    "print(df['rasgef1b_mut'].unique())\n",
    "print(df['hras_mut'].unique())\n",
    "print(df['smarcb1_mut'].unique())\n",
    "print(df['siah1_mut'].unique())"
   ]
  },
  {
   "cell_type": "code",
   "execution_count": 76,
   "metadata": {},
   "outputs": [],
   "source": [
    "# CONVERSION DE '0' a 0 para todas las columnas donde había ambigüedad\n",
    "df[['rasgef1b_mut', 'hras_mut', 'smarcb1_mut', 'siah1_mut']] = df[['rasgef1b_mut', 'hras_mut', 'smarcb1_mut', 'siah1_mut']].replace(['0'], 0)"
   ]
  },
  {
   "cell_type": "code",
   "execution_count": 77,
   "metadata": {
    "scrolled": false
   },
   "outputs": [
    {
     "name": "stdout",
     "output_type": "stream",
     "text": [
      "[0 'V418A' 'S343G' 'R140Q' 'X2_splice' 'R353H' 'H396Y' 'E78K']\n",
      "[0 'Q61R' 'N86T']\n",
      "[0 'D159N' 'I28L']\n",
      "[0 'T249A']\n"
     ]
    }
   ],
   "source": [
    "print(df['rasgef1b_mut'].unique())\n",
    "print(df['hras_mut'].unique())\n",
    "print(df['smarcb1_mut'].unique())\n",
    "print(df['siah1_mut'].unique())"
   ]
  },
  {
   "cell_type": "code",
   "execution_count": 78,
   "metadata": {},
   "outputs": [
    {
     "name": "stdout",
     "output_type": "stream",
     "text": [
      "(1904, 693)\n",
      "Index(['patient_id', 'age_at_diagnosis', 'type_of_breast_surgery',\n",
      "       'cancer_type', 'cancer_type_detailed', 'cellularity', 'chemotherapy',\n",
      "       'pam50_+_claudin-low_subtype', 'cohort', 'er_status_measured_by_ihc',\n",
      "       ...\n",
      "       'mtap_mut', 'ppp2cb_mut', 'smarcd1_mut', 'nras_mut', 'ndfip1_mut',\n",
      "       'hras_mut', 'prps2_mut', 'smarcb1_mut', 'stmn2_mut', 'siah1_mut'],\n",
      "      dtype='object', length=693)\n"
     ]
    }
   ],
   "source": [
    "print(df.shape)\n",
    "print(df.columns)"
   ]
  },
  {
   "cell_type": "code",
   "execution_count": 79,
   "metadata": {},
   "outputs": [
    {
     "data": {
      "text/plain": [
       "patient_id                  int64\n",
       "age_at_diagnosis          float64\n",
       "type_of_breast_surgery     object\n",
       "cancer_type                object\n",
       "cancer_type_detailed       object\n",
       "                           ...   \n",
       "hras_mut                   object\n",
       "prps2_mut                  object\n",
       "smarcb1_mut                object\n",
       "stmn2_mut                  object\n",
       "siah1_mut                  object\n",
       "Length: 693, dtype: object"
      ]
     },
     "execution_count": 79,
     "metadata": {},
     "output_type": "execute_result"
    }
   ],
   "source": [
    "df.dtypes"
   ]
  },
  {
   "cell_type": "code",
   "execution_count": 80,
   "metadata": {},
   "outputs": [
    {
     "data": {
      "text/plain": [
       "(array([ 10.,  54., 159., 265., 315., 389., 379., 237.,  86.,  10.]),\n",
       " array([21.93 , 29.366, 36.802, 44.238, 51.674, 59.11 , 66.546, 73.982,\n",
       "        81.418, 88.854, 96.29 ]),\n",
       " <BarContainer object of 10 artists>)"
      ]
     },
     "execution_count": 80,
     "metadata": {},
     "output_type": "execute_result"
    },
    {
     "data": {
      "image/png": "[encoded data removed]",
      "text/plain": [
       "<Figure size 432x288 with 1 Axes>"
      ]
     },
     "metadata": {
      "needs_background": "light"
     },
     "output_type": "display_data"
    }
   ],
   "source": [
    "plt.hist(df['age_at_diagnosis'])"
   ]
  },
  {
   "cell_type": "code",
   "execution_count": 81,
   "metadata": {
    "scrolled": true
   },
   "outputs": [
    {
     "name": "stdout",
     "output_type": "stream",
     "text": [
      "type_of_breast_surgery\n",
      "MASTECTOMY           1127\n",
      "BREAST CONSERVING     755\n",
      "Name: type_of_breast_surgery, dtype: int64\n",
      "nans: 22\n"
     ]
    }
   ],
   "source": [
    "# Tipo de intervención (conteo)\n",
    "print(df.columns[2])\n",
    "\n",
    "\n",
    "value_counts_2 = df.iloc[:,2].value_counts()\n",
    "nan_2 = df.iloc[:,2].isna().sum()\n",
    "print(value_counts_2)\n",
    "print('nans:',nan_2)"
   ]
  },
  {
   "cell_type": "code",
   "execution_count": 82,
   "metadata": {},
   "outputs": [
    {
     "data": {
      "text/plain": [
       "0         0\n",
       "1         0\n",
       "2       Yes\n",
       "3       Yes\n",
       "4       Yes\n",
       "       ... \n",
       "1899      0\n",
       "1900      0\n",
       "1901      0\n",
       "1902      0\n",
       "1903      0\n",
       "Name: chemotherapy, Length: 1904, dtype: object"
      ]
     },
     "execution_count": 82,
     "metadata": {},
     "output_type": "execute_result"
    }
   ],
   "source": [
    "df['chemotherapy'].replace(1, 'Yes')"
   ]
  },
  {
   "cell_type": "code",
   "execution_count": 83,
   "metadata": {},
   "outputs": [
    {
     "data": {
      "text/plain": [
       "0       No\n",
       "1       No\n",
       "2        1\n",
       "3        1\n",
       "4        1\n",
       "        ..\n",
       "1899    No\n",
       "1900    No\n",
       "1901    No\n",
       "1902    No\n",
       "1903    No\n",
       "Name: chemotherapy, Length: 1904, dtype: object"
      ]
     },
     "execution_count": 83,
     "metadata": {},
     "output_type": "execute_result"
    }
   ],
   "source": [
    "df['chemotherapy'].replace(0, 'No')"
   ]
  },
  {
   "cell_type": "code",
   "execution_count": 84,
   "metadata": {},
   "outputs": [
    {
     "data": {
      "text/plain": [
       "array([0, 1], dtype=int64)"
      ]
     },
     "execution_count": 84,
     "metadata": {},
     "output_type": "execute_result"
    }
   ],
   "source": [
    "df['chemotherapy'].unique()"
   ]
  },
  {
   "cell_type": "code",
   "execution_count": 85,
   "metadata": {
    "scrolled": true
   },
   "outputs": [
    {
     "name": "stdout",
     "output_type": "stream",
     "text": [
      "2 type_of_breast_surgery\n",
      "MASTECTOMY           1127\n",
      "BREAST CONSERVING     755\n",
      "Name: type_of_breast_surgery, dtype: int64\n",
      "nans: 22 \n",
      "\n",
      "3 cancer_type\n",
      "Breast Cancer     1903\n",
      "Breast Sarcoma       1\n",
      "Name: cancer_type, dtype: int64\n",
      "nans: 0 \n",
      "\n",
      "4 cancer_type_detailed\n",
      "Breast Invasive Ductal Carcinoma             1500\n",
      "Breast Mixed Ductal and Lobular Carcinoma     207\n",
      "Breast Invasive Lobular Carcinoma             142\n",
      "Breast Invasive Mixed Mucinous Carcinoma       22\n",
      "Breast                                         17\n",
      "Metaplastic Breast Cancer                       1\n",
      "Name: cancer_type_detailed, dtype: int64\n",
      "nans: 15 \n",
      "\n",
      "5 cellularity\n",
      "High        939\n",
      "Moderate    711\n",
      "Low         200\n",
      "Name: cellularity, dtype: int64\n",
      "nans: 54 \n",
      "\n",
      "6 chemotherapy\n",
      "0    1508\n",
      "1     396\n",
      "Name: chemotherapy, dtype: int64\n",
      "nans: 0 \n",
      "\n",
      "7 pam50_+_claudin-low_subtype\n",
      "LumA           679\n",
      "LumB           461\n",
      "Her2           220\n",
      "claudin-low    199\n",
      "Basal          199\n",
      "Normal         140\n",
      "NC               6\n",
      "Name: pam50_+_claudin-low_subtype, dtype: int64\n",
      "nans: 0 \n",
      "\n",
      "8 cohort\n",
      "3.0    734\n",
      "1.0    481\n",
      "2.0    286\n",
      "4.0    236\n",
      "5.0    167\n",
      "Name: cohort, dtype: int64\n",
      "nans: 0 \n",
      "\n",
      "9 er_status_measured_by_ihc\n",
      "Positve     1445\n",
      "Negative     429\n",
      "Name: er_status_measured_by_ihc, dtype: int64\n",
      "nans: 30 \n",
      "\n",
      "10 er_status\n",
      "Positive    1459\n",
      "Negative     445\n",
      "Name: er_status, dtype: int64\n",
      "nans: 0 \n",
      "\n",
      "11 neoplasm_histologic_grade\n",
      "3.0    927\n",
      "2.0    740\n",
      "1.0    165\n",
      "Name: neoplasm_histologic_grade, dtype: int64\n",
      "nans: 72 \n",
      "\n",
      "12 her2_status_measured_by_snp6\n",
      "NEUTRAL    1383\n",
      "GAIN        417\n",
      "LOSS        100\n",
      "UNDEF         4\n",
      "Name: her2_status_measured_by_snp6, dtype: int64\n",
      "nans: 0 \n",
      "\n",
      "13 her2_status\n",
      "Negative    1668\n",
      "Positive     236\n",
      "Name: her2_status, dtype: int64\n",
      "nans: 0 \n",
      "\n",
      "14 tumor_other_histologic_subtype\n",
      "Ductal/NST             1454\n",
      "Mixed                   207\n",
      "Lobular                 142\n",
      "Medullary                25\n",
      "Mucinous                 22\n",
      "Tubular/ cribriform      21\n",
      "Other                    17\n",
      "Metaplastic               1\n",
      "Name: tumor_other_histologic_subtype, dtype: int64\n",
      "nans: 15 \n",
      "\n",
      "15 hormone_therapy\n",
      "1    1174\n",
      "0     730\n",
      "Name: hormone_therapy, dtype: int64\n",
      "nans: 0 \n",
      "\n",
      "16 inferred_menopausal_state\n",
      "Post    1493\n",
      "Pre      411\n",
      "Name: inferred_menopausal_state, dtype: int64\n",
      "nans: 0 \n",
      "\n",
      "17 integrative_cluster\n",
      "8       289\n",
      "3       282\n",
      "4ER+    244\n",
      "10      219\n",
      "5       184\n",
      "7       182\n",
      "9       142\n",
      "1       132\n",
      "6        84\n",
      "4ER-     74\n",
      "2        72\n",
      "Name: integrative_cluster, dtype: int64\n",
      "nans: 0 \n",
      "\n",
      "18 primary_tumor_laterality\n",
      "Left     935\n",
      "Right    863\n",
      "Name: primary_tumor_laterality, dtype: int64\n",
      "nans: 106 \n",
      "\n",
      "19 lymph_nodes_examined_positive\n",
      "0.0     993\n",
      "1.0     332\n",
      "2.0     163\n",
      "3.0     109\n",
      "4.0      54\n",
      "6.0      48\n",
      "5.0      43\n",
      "7.0      24\n",
      "8.0      20\n",
      "9.0      15\n",
      "14.0     15\n",
      "10.0     12\n",
      "16.0     11\n",
      "11.0     11\n",
      "12.0      8\n",
      "13.0      7\n",
      "15.0      7\n",
      "18.0      5\n",
      "17.0      4\n",
      "22.0      4\n",
      "21.0      3\n",
      "19.0      3\n",
      "25.0      2\n",
      "24.0      2\n",
      "23.0      2\n",
      "20.0      2\n",
      "33.0      1\n",
      "41.0      1\n",
      "26.0      1\n",
      "31.0      1\n",
      "45.0      1\n",
      "Name: lymph_nodes_examined_positive, dtype: int64\n",
      "nans: 0 \n",
      "\n",
      "20 mutation_count\n",
      "5.0     268\n",
      "4.0     248\n",
      "6.0     232\n",
      "3.0     229\n",
      "2.0     193\n",
      "7.0     168\n",
      "8.0     121\n",
      "1.0     107\n",
      "9.0      90\n",
      "10.0     61\n",
      "11.0     38\n",
      "12.0     25\n",
      "13.0     17\n",
      "14.0     16\n",
      "15.0     11\n",
      "16.0      8\n",
      "17.0      5\n",
      "22.0      4\n",
      "20.0      4\n",
      "19.0      2\n",
      "23.0      2\n",
      "18.0      2\n",
      "21.0      1\n",
      "28.0      1\n",
      "26.0      1\n",
      "24.0      1\n",
      "40.0      1\n",
      "46.0      1\n",
      "30.0      1\n",
      "80.0      1\n",
      "Name: mutation_count, dtype: int64\n",
      "nans: 45 \n",
      "\n",
      "21 nottingham_prognostic_index\n",
      "4.0400    84\n",
      "3.0400    70\n",
      "4.0500    58\n",
      "4.0300    56\n",
      "3.0300    53\n",
      "          ..\n",
      "5.1800     1\n",
      "3.0160     1\n",
      "4.0652     1\n",
      "3.0046     1\n",
      "5.0100     1\n",
      "Name: nottingham_prognostic_index, Length: 310, dtype: int64\n",
      "nans: 0 \n",
      "\n",
      "22 oncotree_code\n",
      "IDC       1500\n",
      "MDLC       207\n",
      "ILC        142\n",
      "IMMC        22\n",
      "BREAST      17\n",
      "MBC          1\n",
      "Name: oncotree_code, dtype: int64\n",
      "nans: 15 \n",
      "\n",
      "23 overall_survival_months\n",
      "192.200000    4\n",
      "150.600000    3\n",
      "128.366667    3\n",
      "152.066667    3\n",
      "19.733333     3\n",
      "             ..\n",
      "89.900000     1\n",
      "49.300000     1\n",
      "91.100000     1\n",
      "80.833333     1\n",
      "252.300000    1\n",
      "Name: overall_survival_months, Length: 1685, dtype: int64\n",
      "nans: 0 \n",
      "\n",
      "24 overall_survival\n",
      "0    1103\n",
      "1     801\n",
      "Name: overall_survival, dtype: int64\n",
      "nans: 0 \n",
      "\n",
      "25 pr_status\n",
      "Positive    1009\n",
      "Negative     895\n",
      "Name: pr_status, dtype: int64\n",
      "nans: 0 \n",
      "\n",
      "26 radio_therapy\n",
      "1    1137\n",
      "0     767\n",
      "Name: radio_therapy, dtype: int64\n",
      "nans: 0 \n",
      "\n",
      "27 3-gene_classifier_subtype\n",
      "ER+/HER2- Low Prolif     619\n",
      "ER+/HER2- High Prolif    603\n",
      "ER-/HER2-                290\n",
      "HER2+                    188\n",
      "Name: 3-gene_classifier_subtype, dtype: int64\n",
      "nans: 204 \n",
      "\n",
      "28 tumor_size\n",
      "20.00    229\n",
      "25.00    166\n",
      "30.00    155\n",
      "15.00    147\n",
      "18.00     75\n",
      "        ... \n",
      "13.80      1\n",
      "25.10      1\n",
      "2.12       1\n",
      "17.20      1\n",
      "5.50       1\n",
      "Name: tumor_size, Length: 111, dtype: int64\n",
      "nans: 20 \n",
      "\n",
      "29 tumor_stage\n",
      "2.0    800\n",
      "1.0    475\n",
      "3.0    115\n",
      "4.0      9\n",
      "0.0      4\n",
      "Name: tumor_stage, dtype: int64\n",
      "nans: 501 \n",
      "\n",
      "30 death_from_cancer\n",
      "Living                  801\n",
      "Died of Disease         622\n",
      "Died of Other Causes    480\n",
      "Name: death_from_cancer, dtype: int64\n",
      "nans: 1 \n",
      "\n"
     ]
    }
   ],
   "source": [
    "for i in range(2,31):\n",
    "    print(i, df.columns[i])\n",
    "    value_counts = df.iloc[:,i].value_counts()\n",
    "    nan = df.iloc[:,i].isna().sum()\n",
    "    print(value_counts)\n",
    "    print('nans:',nan, '\\n')"
   ]
  },
  {
   "cell_type": "code",
   "execution_count": 112,
   "metadata": {},
   "outputs": [
    {
     "data": {
      "text/plain": [
       "<matplotlib.collections.PathCollection at 0x24f3efdb3a0>"
      ]
     },
     "execution_count": 112,
     "metadata": {},
     "output_type": "execute_result"
    },
    {
     "data": {
      "image/png": "[encoded data removed]",
      "text/plain": [
       "<Figure size 432x288 with 1 Axes>"
      ]
     },
     "metadata": {
      "needs_background": "light"
     },
     "output_type": "display_data"
    }
   ],
   "source": [
    "x = df.overall_survival_months\n",
    "y = df.tumor_size\n",
    "\n",
    "plt.scatter(x, y)"
   ]
  },
  {
   "cell_type": "code",
   "execution_count": 93,
   "metadata": {},
   "outputs": [
    {
     "data": {
      "text/plain": [
       "0                     Living\n",
       "1                     Living\n",
       "2            Died of Disease\n",
       "3                     Living\n",
       "4            Died of Disease\n",
       "                ...         \n",
       "1899                  Living\n",
       "1900         Died of Disease\n",
       "1901         Died of Disease\n",
       "1902    Died of Other Causes\n",
       "1903    Died of Other Causes\n",
       "Name: death_from_cancer, Length: 1904, dtype: object"
      ]
     },
     "execution_count": 93,
     "metadata": {},
     "output_type": "execute_result"
    }
   ],
   "source": [
    "df.death_from_cancer"
   ]
  },
  {
   "cell_type": "code",
   "execution_count": 116,
   "metadata": {},
   "outputs": [
    {
     "data": {
      "text/plain": [
       "Index(['age_at_diagnosis', 'type_of_breast_surgery', 'cancer_type',\n",
       "       'cancer_type_detailed', 'cellularity', 'chemotherapy',\n",
       "       'pam50_+_claudin-low_subtype', 'cohort', 'er_status_measured_by_ihc',\n",
       "       'er_status', 'neoplasm_histologic_grade',\n",
       "       'her2_status_measured_by_snp6', 'her2_status',\n",
       "       'tumor_other_histologic_subtype', 'hormone_therapy',\n",
       "       'inferred_menopausal_state', 'integrative_cluster',\n",
       "       'primary_tumor_laterality', 'lymph_nodes_examined_positive',\n",
       "       'mutation_count', 'nottingham_prognostic_index', 'oncotree_code',\n",
       "       'overall_survival_months', 'overall_survival', 'pr_status',\n",
       "       'radio_therapy', '3-gene_classifier_subtype', 'tumor_size',\n",
       "       'tumor_stage', 'death_from_cancer', 'brca1', 'brca2', 'palb2', 'pten',\n",
       "       'tp53', 'atm', 'cdh1', 'chek2', 'nbn', 'nf1', 'stk11', 'bard1', 'mlh1',\n",
       "       'msh2', 'msh6', 'pms2', 'epcam', 'rad51c', 'rad51d', 'rad50', 'rb1',\n",
       "       'rbl1', 'rbl2', 'ccna1', 'ccnb1', 'cdk1', 'ccne1', 'cdk2', 'cdc25a',\n",
       "       'ccnd1', 'cdk4', 'cdk6', 'ccnd2', 'cdkn2a', 'cdkn2b', 'myc', 'cdkn1a',\n",
       "       'cdkn1b', 'e2f1', 'e2f2', 'e2f3', 'e2f4', 'e2f5', 'e2f6', 'e2f7',\n",
       "       'e2f8', 'src', 'jak1', 'jak2', 'stat1', 'stat2', 'stat3', 'stat5a',\n",
       "       'stat5b', 'mdm2', 'tp53bp1', 'adam10', 'adam17', 'aph1a', 'aph1b',\n",
       "       'arrdc1', 'cir1', 'ctbp1', 'ctbp2', 'cul1', 'dll1', 'dll3', 'dll4',\n",
       "       'dtx1'],\n",
       "      dtype='object')"
      ]
     },
     "execution_count": 116,
     "metadata": {},
     "output_type": "execute_result"
    }
   ],
   "source": [
    "df.columns[1:100]"
   ]
  },
  {
   "cell_type": "code",
   "execution_count": 117,
   "metadata": {},
   "outputs": [
    {
     "data": {
      "text/plain": [
       "Index(['dtx2', 'dtx3', 'dtx4', 'ep300', 'fbxw7', 'hdac1', 'hdac2', 'hes1',\n",
       "       'hes5', 'heyl', 'itch', 'jag1', 'jag2', 'kdm5a', 'lfng', 'maml1',\n",
       "       'maml2', 'maml3', 'ncor2', 'ncstn', 'notch1', 'notch2', 'notch3',\n",
       "       'nrarp', 'numb', 'numbl', 'psen1', 'psen2', 'psenen', 'rbpj', 'rbpjl',\n",
       "       'rfng', 'snw1', 'spen', 'hes2', 'hes4', 'hes7', 'hey1', 'hey2', 'acvr1',\n",
       "       'acvr1b', 'acvr1c', 'acvr2a', 'acvr2b', 'acvrl1', 'akt1', 'akt1s1',\n",
       "       'akt2', 'apaf1', 'arl11', 'atr', 'aurka', 'bad', 'bcl2', 'bcl2l1',\n",
       "       'bmp10', 'bmp15', 'bmp2', 'bmp3', 'bmp4', 'bmp5', 'bmp6', 'bmp7',\n",
       "       'bmpr1a', 'bmpr1b', 'bmpr2', 'braf', 'casp10', 'casp3', 'casp6',\n",
       "       'casp7', 'casp8', 'casp9', 'chek1', 'csf1', 'csf1r', 'cxcl8', 'cxcr1',\n",
       "       'cxcr2', 'dab2', 'diras3', 'dlec1', 'dph1', 'egfr', 'eif4e', 'eif4ebp1',\n",
       "       'eif5a2', 'erbb2', 'erbb3', 'erbb4', 'fas', 'fgf1', 'fgfr1', 'folr1',\n",
       "       'folr2', 'folr3', 'foxo1', 'foxo3', 'gdf11', 'gdf2'],\n",
       "      dtype='object')"
      ]
     },
     "execution_count": 117,
     "metadata": {},
     "output_type": "execute_result"
    }
   ],
   "source": [
    "df.columns[100:200]"
   ]
  },
  {
   "cell_type": "code",
   "execution_count": 118,
   "metadata": {},
   "outputs": [
    {
     "data": {
      "text/plain": [
       "Index(['tgfbr3', 'tsc1', 'tsc2', 'vegfa', 'vegfb', 'wfdc2', 'wwox', 'zfyve9',\n",
       "       'arid1a', 'arid1b', 'cbfb', 'gata3', 'kmt2c', 'kmt2d', 'myh9', 'ncor1',\n",
       "       'pde4dip', 'ptprd', 'ros1', 'runx1', 'tbx3', 'abcb1', 'abcb11', 'abcc1',\n",
       "       'abcc10', 'bbc3', 'bmf', 'cyp2c8', 'cyp3a4', 'fgf2', 'fn1', 'map2',\n",
       "       'map4', 'mapt', 'nr1i2', 'slco1b3', 'tubb1', 'tubb4a', 'tubb4b',\n",
       "       'twist1', 'adgra2', 'afdn', 'aff2', 'agmo', 'agtr2', 'ahnak', 'ahnak2',\n",
       "       'akap9', 'alk', 'apc', 'arid2', 'arid5b', 'asxl1', 'asxl2', 'bap1',\n",
       "       'bcas3', 'birc6', 'cacna2d3', 'ccnd3', 'chd1', 'clk3', 'clrn2',\n",
       "       'col12a1', 'col22a1', 'col6a3', 'ctcf', 'ctnna1', 'ctnna3', 'dnah11',\n",
       "       'dnah2', 'dnah5', 'dtwd2', 'fam20c', 'fanca', 'fancd2', 'flt3', 'foxp1',\n",
       "       'frmd3', 'gh1', 'gldc', 'gpr32', 'gps2', 'hdac9', 'herc2', 'hist1h2bc',\n",
       "       'kdm3a', 'kdm6a', 'klrg1', 'l1cam', 'lama2', 'lamb3', 'large1',\n",
       "       'ldlrap1', 'lifr', 'lipi', 'magea8', 'map3k10', 'map3k13', 'men1',\n",
       "       'mtap'],\n",
       "      dtype='object')"
      ]
     },
     "execution_count": 118,
     "metadata": {},
     "output_type": "execute_result"
    }
   ],
   "source": [
    "df.columns[300:400]"
   ]
  },
  {
   "cell_type": "code",
   "execution_count": 119,
   "metadata": {},
   "outputs": [
    {
     "data": {
      "text/plain": [
       "Index(['muc16', 'myo1a', 'myo3a', 'ncoa3', 'nek1', 'nf2', 'npnt', 'nr2f1',\n",
       "       'nr3c1', 'nras', 'nrg3', 'nt5e', 'or6a2', 'palld', 'pbrm1', 'ppp2cb',\n",
       "       'ppp2r2a', 'prkacg', 'prkce', 'prkcq', 'prkcz', 'prkg1', 'prps2',\n",
       "       'prr16', 'ptpn22', 'ptprm', 'rasgef1b', 'rpgr', 'ryr2', 'sbno1',\n",
       "       'setd1a', 'setd2', 'setdb1', 'sf3b1', 'sgcd', 'shank2', 'siah1', 'sik1',\n",
       "       'sik2', 'smarcb1', 'smarcc1', 'smarcc2', 'smarcd1', 'spaca1', 'stab2',\n",
       "       'stmn2', 'syne1', 'taf1', 'taf4b', 'tbl1xr1', 'tg', 'thada', 'thsd7a',\n",
       "       'ttyh1', 'ubr5', 'ush2a', 'usp9x', 'utrn', 'zfp36l1', 'ackr3', 'akr1c1',\n",
       "       'akr1c2', 'akr1c3', 'akr1c4', 'akt3', 'ar', 'bche', 'cdk8', 'cdkn2c',\n",
       "       'cyb5a', 'cyp11a1', 'cyp11b2', 'cyp17a1', 'cyp19a1', 'cyp21a2',\n",
       "       'cyp3a43', 'cyp3a5', 'cyp3a7', 'ddc', 'hes6', 'hsd17b1', 'hsd17b10',\n",
       "       'hsd17b11', 'hsd17b12', 'hsd17b13', 'hsd17b14', 'hsd17b2', 'hsd17b3',\n",
       "       'hsd17b4', 'hsd17b6', 'hsd17b7', 'hsd17b8', 'hsd3b1', 'hsd3b2',\n",
       "       'hsd3b7', 'mecom', 'met', 'ncoa2', 'nrip1', 'pik3r3'],\n",
       "      dtype='object')"
      ]
     },
     "execution_count": 119,
     "metadata": {},
     "output_type": "execute_result"
    }
   ],
   "source": [
    "df.columns[400:500]"
   ]
  },
  {
   "cell_type": "code",
   "execution_count": 120,
   "metadata": {},
   "outputs": [
    {
     "data": {
      "text/plain": [
       "Index(['prkci', 'prkd1', 'ran', 'rdh5', 'sdc4', 'serpini1', 'shbg', 'slc29a1',\n",
       "       'sox9', 'spry2', 'srd5a1', 'srd5a2', 'srd5a3', 'st7', 'star', 'tnk2',\n",
       "       'tulp4', 'ugt2b15', 'ugt2b17', 'ugt2b7', 'pik3ca_mut', 'tp53_mut',\n",
       "       'muc16_mut', 'ahnak2_mut', 'kmt2c_mut', 'syne1_mut', 'gata3_mut',\n",
       "       'map3k1_mut', 'ahnak_mut', 'dnah11_mut', 'cdh1_mut', 'dnah2_mut',\n",
       "       'kmt2d_mut', 'ush2a_mut', 'ryr2_mut', 'dnah5_mut', 'herc2_mut',\n",
       "       'pde4dip_mut', 'akap9_mut', 'tg_mut', 'birc6_mut', 'utrn_mut',\n",
       "       'tbx3_mut', 'col6a3_mut', 'arid1a_mut', 'lama2_mut', 'notch1_mut',\n",
       "       'cbfb_mut', 'ncor2_mut', 'col12a1_mut', 'col22a1_mut', 'pten_mut',\n",
       "       'akt1_mut', 'atr_mut', 'thada_mut', 'ncor1_mut', 'stab2_mut',\n",
       "       'myh9_mut', 'runx1_mut', 'nf1_mut', 'map2k4_mut', 'ros1_mut',\n",
       "       'lamb3_mut', 'arid1b_mut', 'erbb2_mut', 'sf3b1_mut', 'shank2_mut',\n",
       "       'ep300_mut', 'ptprd_mut', 'usp9x_mut', 'setd2_mut', 'setd1a_mut',\n",
       "       'thsd7a_mut', 'afdn_mut', 'erbb3_mut', 'rb1_mut', 'myo1a_mut',\n",
       "       'alk_mut', 'fanca_mut', 'adgra2_mut', 'ubr5_mut', 'pik3r1_mut',\n",
       "       'myo3a_mut', 'asxl2_mut', 'apc_mut', 'ctcf_mut', 'asxl1_mut',\n",
       "       'fancd2_mut', 'taf1_mut', 'kdm6a_mut', 'ctnna3_mut', 'brca1_mut',\n",
       "       'ptprm_mut', 'foxo3_mut', 'usp28_mut', 'gldc_mut', 'brca2_mut',\n",
       "       'cacna2d3_mut', 'arid2_mut', 'aff2_mut'],\n",
       "      dtype='object')"
      ]
     },
     "execution_count": 120,
     "metadata": {},
     "output_type": "execute_result"
    }
   ],
   "source": [
    "df.columns[500:600]"
   ]
  },
  {
   "cell_type": "code",
   "execution_count": 121,
   "metadata": {},
   "outputs": [
    {
     "data": {
      "text/plain": [
       "Index(['lifr_mut', 'sbno1_mut', 'kdm3a_mut', 'ncoa3_mut', 'bap1_mut',\n",
       "       'l1cam_mut', 'pbrm1_mut', 'chd1_mut', 'jak1_mut', 'setdb1_mut',\n",
       "       'fam20c_mut', 'arid5b_mut', 'egfr_mut', 'map3k10_mut', 'smarcc2_mut',\n",
       "       'erbb4_mut', 'npnt_mut', 'nek1_mut', 'agmo_mut', 'zfp36l1_mut',\n",
       "       'smad4_mut', 'sik1_mut', 'casp8_mut', 'prkcq_mut', 'smarcc1_mut',\n",
       "       'palld_mut', 'dcaf4l2_mut', 'bcas3_mut', 'cdkn1b_mut', 'gps2_mut',\n",
       "       'men1_mut', 'stk11_mut', 'sik2_mut', 'ptpn22_mut', 'brip1_mut',\n",
       "       'flt3_mut', 'nrg3_mut', 'fbxw7_mut', 'ttyh1_mut', 'taf4b_mut',\n",
       "       'or6a2_mut', 'map3k13_mut', 'hdac9_mut', 'prkacg_mut', 'rpgr_mut',\n",
       "       'large1_mut', 'foxp1_mut', 'clk3_mut', 'prkcz_mut', 'lipi_mut',\n",
       "       'ppp2r2a_mut', 'prkce_mut', 'gh1_mut', 'gpr32_mut', 'kras_mut',\n",
       "       'nf2_mut', 'chek2_mut', 'ldlrap1_mut', 'clrn2_mut', 'acvrl1_mut',\n",
       "       'agtr2_mut', 'cdkn2a_mut', 'ctnna1_mut', 'magea8_mut', 'prr16_mut',\n",
       "       'dtwd2_mut', 'akt2_mut', 'braf_mut', 'foxo1_mut', 'nt5e_mut',\n",
       "       'ccnd3_mut', 'nr3c1_mut', 'prkg1_mut', 'tbl1xr1_mut', 'frmd3_mut',\n",
       "       'smad2_mut', 'sgcd_mut', 'spaca1_mut', 'rasgef1b_mut', 'hist1h2bc_mut',\n",
       "       'nr2f1_mut', 'klrg1_mut', 'mbl2_mut', 'mtap_mut', 'ppp2cb_mut',\n",
       "       'smarcd1_mut', 'nras_mut', 'ndfip1_mut', 'hras_mut', 'prps2_mut',\n",
       "       'smarcb1_mut', 'stmn2_mut'],\n",
       "      dtype='object')"
      ]
     },
     "execution_count": 121,
     "metadata": {},
     "output_type": "execute_result"
    }
   ],
   "source": [
    "df.columns[600:-1]"
   ]
  },
  {
   "cell_type": "code",
   "execution_count": null,
   "metadata": {},
   "outputs": [],
   "source": []
  },
  {
   "cell_type": "code",
   "execution_count": null,
   "metadata": {},
   "outputs": [],
   "source": []
  },
  {
   "cell_type": "code",
   "execution_count": null,
   "metadata": {},
   "outputs": [],
   "source": []
  }
 ],
 "metadata": {
  "kernelspec": {
   "display_name": "Python 3",
   "language": "python",
   "name": "python3"
  },
  "language_info": {
   "codemirror_mode": {
    "name": "ipython",
    "version": 3
   },
   "file_extension": ".py",
   "mimetype": "text/x-python",
   "name": "python",
   "nbconvert_exporter": "python",
   "pygments_lexer": "ipython3",
   "version": "3.8.5"
  }
 },
 "nbformat": 4,
 "nbformat_minor": 4
}
