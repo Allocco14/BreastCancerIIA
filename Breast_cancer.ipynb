{
 "cells": [
  {
   "cell_type": "markdown",
   "metadata": {},
   "source": [
    "# Análisis de datos genéticos de cáncer de seno\n",
    "## Importación de librerías"
   ]
  },
  {
   "cell_type": "code",
   "execution_count": 1,
   "metadata": {},
   "outputs": [],
   "source": [
    "import pandas as pd\n",
    "import numpy as np\n",
    "import tensorflow as tf\n",
    "import matplotlib as mpl\n",
    "import matplotlib.pyplot as plt\n",
    "import re\n",
    "\n",
    "from sklearn import datasets\n",
    "from sklearn.linear_model import LogisticRegression\n",
    "from sklearn.preprocessing import OneHotEncoder, LabelBinarizer\n",
    "\n",
    "\n",
    "import seaborn as sns\n",
    "from sklearn import metrics"
   ]
  },
  {
   "cell_type": "markdown",
   "metadata": {},
   "source": [
    "## Carga de datos"
   ]
  },
  {
   "cell_type": "code",
   "execution_count": 2,
   "metadata": {
    "scrolled": true
   },
   "outputs": [
    {
     "name": "stderr",
     "output_type": "stream",
     "text": [
      "C:\\Users\\achav\\AppData\\Local\\Temp\\ipykernel_7532\\1524619863.py:1: DtypeWarning: Columns (678,688,690,692) have mixed types. Specify dtype option on import or set low_memory=False.\n",
      "  df = pd.read_csv('METABRIC_RNA_MUTATION.csv')\n"
     ]
    }
   ],
   "source": [
    "df = pd.read_csv('METABRIC_RNA_MUTATION.csv')"
   ]
  },
  {
   "cell_type": "markdown",
   "metadata": {},
   "source": [
    "## Encabezado de la tabla"
   ]
  },
  {
   "cell_type": "code",
   "execution_count": 3,
   "metadata": {},
   "outputs": [
    {
     "data": {
      "text/html": [
       "<div>\n",
       "<style scoped>\n",
       "    .dataframe tbody tr th:only-of-type {\n",
       "        vertical-align: middle;\n",
       "    }\n",
       "\n",
       "    .dataframe tbody tr th {\n",
       "        vertical-align: top;\n",
       "    }\n",
       "\n",
       "    .dataframe thead th {\n",
       "        text-align: right;\n",
       "    }\n",
       "</style>\n",
       "<table border=\"1\" class=\"dataframe\">\n",
       "  <thead>\n",
       "    <tr style=\"text-align: right;\">\n",
       "      <th></th>\n",
       "      <th>patient_id</th>\n",
       "      <th>age_at_diagnosis</th>\n",
       "      <th>type_of_breast_surgery</th>\n",
       "      <th>cancer_type</th>\n",
       "      <th>cancer_type_detailed</th>\n",
       "      <th>cellularity</th>\n",
       "      <th>chemotherapy</th>\n",
       "      <th>pam50_+_claudin-low_subtype</th>\n",
       "      <th>cohort</th>\n",
       "      <th>er_status_measured_by_ihc</th>\n",
       "      <th>...</th>\n",
       "      <th>mtap_mut</th>\n",
       "      <th>ppp2cb_mut</th>\n",
       "      <th>smarcd1_mut</th>\n",
       "      <th>nras_mut</th>\n",
       "      <th>ndfip1_mut</th>\n",
       "      <th>hras_mut</th>\n",
       "      <th>prps2_mut</th>\n",
       "      <th>smarcb1_mut</th>\n",
       "      <th>stmn2_mut</th>\n",
       "      <th>siah1_mut</th>\n",
       "    </tr>\n",
       "  </thead>\n",
       "  <tbody>\n",
       "    <tr>\n",
       "      <th>0</th>\n",
       "      <td>0</td>\n",
       "      <td>75.65</td>\n",
       "      <td>MASTECTOMY</td>\n",
       "      <td>Breast Cancer</td>\n",
       "      <td>Breast Invasive Ductal Carcinoma</td>\n",
       "      <td>NaN</td>\n",
       "      <td>0</td>\n",
       "      <td>claudin-low</td>\n",
       "      <td>1.0</td>\n",
       "      <td>Positve</td>\n",
       "      <td>...</td>\n",
       "      <td>0</td>\n",
       "      <td>0</td>\n",
       "      <td>0</td>\n",
       "      <td>0</td>\n",
       "      <td>0</td>\n",
       "      <td>0</td>\n",
       "      <td>0</td>\n",
       "      <td>0</td>\n",
       "      <td>0</td>\n",
       "      <td>0</td>\n",
       "    </tr>\n",
       "    <tr>\n",
       "      <th>1</th>\n",
       "      <td>2</td>\n",
       "      <td>43.19</td>\n",
       "      <td>BREAST CONSERVING</td>\n",
       "      <td>Breast Cancer</td>\n",
       "      <td>Breast Invasive Ductal Carcinoma</td>\n",
       "      <td>High</td>\n",
       "      <td>0</td>\n",
       "      <td>LumA</td>\n",
       "      <td>1.0</td>\n",
       "      <td>Positve</td>\n",
       "      <td>...</td>\n",
       "      <td>0</td>\n",
       "      <td>0</td>\n",
       "      <td>0</td>\n",
       "      <td>0</td>\n",
       "      <td>0</td>\n",
       "      <td>0</td>\n",
       "      <td>0</td>\n",
       "      <td>0</td>\n",
       "      <td>0</td>\n",
       "      <td>0</td>\n",
       "    </tr>\n",
       "    <tr>\n",
       "      <th>2</th>\n",
       "      <td>5</td>\n",
       "      <td>48.87</td>\n",
       "      <td>MASTECTOMY</td>\n",
       "      <td>Breast Cancer</td>\n",
       "      <td>Breast Invasive Ductal Carcinoma</td>\n",
       "      <td>High</td>\n",
       "      <td>1</td>\n",
       "      <td>LumB</td>\n",
       "      <td>1.0</td>\n",
       "      <td>Positve</td>\n",
       "      <td>...</td>\n",
       "      <td>0</td>\n",
       "      <td>0</td>\n",
       "      <td>0</td>\n",
       "      <td>0</td>\n",
       "      <td>0</td>\n",
       "      <td>0</td>\n",
       "      <td>0</td>\n",
       "      <td>0</td>\n",
       "      <td>0</td>\n",
       "      <td>0</td>\n",
       "    </tr>\n",
       "    <tr>\n",
       "      <th>3</th>\n",
       "      <td>6</td>\n",
       "      <td>47.68</td>\n",
       "      <td>MASTECTOMY</td>\n",
       "      <td>Breast Cancer</td>\n",
       "      <td>Breast Mixed Ductal and Lobular Carcinoma</td>\n",
       "      <td>Moderate</td>\n",
       "      <td>1</td>\n",
       "      <td>LumB</td>\n",
       "      <td>1.0</td>\n",
       "      <td>Positve</td>\n",
       "      <td>...</td>\n",
       "      <td>0</td>\n",
       "      <td>0</td>\n",
       "      <td>0</td>\n",
       "      <td>0</td>\n",
       "      <td>0</td>\n",
       "      <td>0</td>\n",
       "      <td>0</td>\n",
       "      <td>0</td>\n",
       "      <td>0</td>\n",
       "      <td>0</td>\n",
       "    </tr>\n",
       "    <tr>\n",
       "      <th>4</th>\n",
       "      <td>8</td>\n",
       "      <td>76.97</td>\n",
       "      <td>MASTECTOMY</td>\n",
       "      <td>Breast Cancer</td>\n",
       "      <td>Breast Mixed Ductal and Lobular Carcinoma</td>\n",
       "      <td>High</td>\n",
       "      <td>1</td>\n",
       "      <td>LumB</td>\n",
       "      <td>1.0</td>\n",
       "      <td>Positve</td>\n",
       "      <td>...</td>\n",
       "      <td>0</td>\n",
       "      <td>0</td>\n",
       "      <td>0</td>\n",
       "      <td>0</td>\n",
       "      <td>0</td>\n",
       "      <td>0</td>\n",
       "      <td>0</td>\n",
       "      <td>0</td>\n",
       "      <td>0</td>\n",
       "      <td>0</td>\n",
       "    </tr>\n",
       "  </tbody>\n",
       "</table>\n",
       "<p>5 rows × 693 columns</p>\n",
       "</div>"
      ],
      "text/plain": [
       "   patient_id  age_at_diagnosis type_of_breast_surgery    cancer_type  \\\n",
       "0           0             75.65             MASTECTOMY  Breast Cancer   \n",
       "1           2             43.19      BREAST CONSERVING  Breast Cancer   \n",
       "2           5             48.87             MASTECTOMY  Breast Cancer   \n",
       "3           6             47.68             MASTECTOMY  Breast Cancer   \n",
       "4           8             76.97             MASTECTOMY  Breast Cancer   \n",
       "\n",
       "                        cancer_type_detailed cellularity  chemotherapy  \\\n",
       "0           Breast Invasive Ductal Carcinoma         NaN             0   \n",
       "1           Breast Invasive Ductal Carcinoma        High             0   \n",
       "2           Breast Invasive Ductal Carcinoma        High             1   \n",
       "3  Breast Mixed Ductal and Lobular Carcinoma    Moderate             1   \n",
       "4  Breast Mixed Ductal and Lobular Carcinoma        High             1   \n",
       "\n",
       "  pam50_+_claudin-low_subtype  cohort er_status_measured_by_ihc  ... mtap_mut  \\\n",
       "0                 claudin-low     1.0                   Positve  ...        0   \n",
       "1                        LumA     1.0                   Positve  ...        0   \n",
       "2                        LumB     1.0                   Positve  ...        0   \n",
       "3                        LumB     1.0                   Positve  ...        0   \n",
       "4                        LumB     1.0                   Positve  ...        0   \n",
       "\n",
       "   ppp2cb_mut smarcd1_mut nras_mut ndfip1_mut  hras_mut prps2_mut smarcb1_mut  \\\n",
       "0           0           0        0          0         0         0           0   \n",
       "1           0           0        0          0         0         0           0   \n",
       "2           0           0        0          0         0         0           0   \n",
       "3           0           0        0          0         0         0           0   \n",
       "4           0           0        0          0         0         0           0   \n",
       "\n",
       "  stmn2_mut  siah1_mut  \n",
       "0         0          0  \n",
       "1         0          0  \n",
       "2         0          0  \n",
       "3         0          0  \n",
       "4         0          0  \n",
       "\n",
       "[5 rows x 693 columns]"
      ]
     },
     "execution_count": 3,
     "metadata": {},
     "output_type": "execute_result"
    }
   ],
   "source": [
    "df.head()"
   ]
  },
  {
   "cell_type": "markdown",
   "metadata": {},
   "source": [
    "## Forma y columnas de los datos"
   ]
  },
  {
   "cell_type": "code",
   "execution_count": 4,
   "metadata": {},
   "outputs": [
    {
     "name": "stdout",
     "output_type": "stream",
     "text": [
      "(1904, 693)\n",
      "Index(['patient_id', 'age_at_diagnosis', 'type_of_breast_surgery',\n",
      "       'cancer_type', 'cancer_type_detailed', 'cellularity', 'chemotherapy',\n",
      "       'pam50_+_claudin-low_subtype', 'cohort', 'er_status_measured_by_ihc',\n",
      "       ...\n",
      "       'mtap_mut', 'ppp2cb_mut', 'smarcd1_mut', 'nras_mut', 'ndfip1_mut',\n",
      "       'hras_mut', 'prps2_mut', 'smarcb1_mut', 'stmn2_mut', 'siah1_mut'],\n",
      "      dtype='object', length=693)\n"
     ]
    }
   ],
   "source": [
    "print(df.shape)\n",
    "print(df.columns)"
   ]
  },
  {
   "cell_type": "markdown",
   "metadata": {},
   "source": [
    "## Tipos de datos de cada columna"
   ]
  },
  {
   "cell_type": "code",
   "execution_count": 5,
   "metadata": {},
   "outputs": [
    {
     "data": {
      "text/plain": [
       "patient_id                  int64\n",
       "age_at_diagnosis          float64\n",
       "type_of_breast_surgery     object\n",
       "cancer_type                object\n",
       "cancer_type_detailed       object\n",
       "                           ...   \n",
       "hras_mut                   object\n",
       "prps2_mut                  object\n",
       "smarcb1_mut                object\n",
       "stmn2_mut                  object\n",
       "siah1_mut                  object\n",
       "Length: 693, dtype: object"
      ]
     },
     "execution_count": 5,
     "metadata": {},
     "output_type": "execute_result"
    }
   ],
   "source": [
    "df.dtypes"
   ]
  },
  {
   "cell_type": "markdown",
   "metadata": {},
   "source": [
    "## Algunas columnas muestran una alerta de diferentes tipos de datos"
   ]
  },
  {
   "cell_type": "code",
   "execution_count": 6,
   "metadata": {},
   "outputs": [
    {
     "data": {
      "text/plain": [
       "array(['rasgef1b_mut', 'hras_mut', 'smarcb1_mut', 'siah1_mut'],\n",
       "      dtype=object)"
      ]
     },
     "execution_count": 6,
     "metadata": {},
     "output_type": "execute_result"
    }
   ],
   "source": [
    "df.columns.values[[678, 688, 690, 692]]"
   ]
  },
  {
   "cell_type": "code",
   "execution_count": 7,
   "metadata": {
    "scrolled": true
   },
   "outputs": [
    {
     "data": {
      "text/plain": [
       "rasgef1b_mut    object\n",
       "hras_mut        object\n",
       "smarcb1_mut     object\n",
       "siah1_mut       object\n",
       "dtype: object"
      ]
     },
     "execution_count": 7,
     "metadata": {},
     "output_type": "execute_result"
    }
   ],
   "source": [
    "df[['rasgef1b_mut', 'hras_mut', 'smarcb1_mut', 'siah1_mut']].dtypes"
   ]
  },
  {
   "cell_type": "markdown",
   "metadata": {},
   "source": [
    "## Descripcion de las variables con la alerta"
   ]
  },
  {
   "cell_type": "code",
   "execution_count": 8,
   "metadata": {},
   "outputs": [
    {
     "data": {
      "text/html": [
       "<div>\n",
       "<style scoped>\n",
       "    .dataframe tbody tr th:only-of-type {\n",
       "        vertical-align: middle;\n",
       "    }\n",
       "\n",
       "    .dataframe tbody tr th {\n",
       "        vertical-align: top;\n",
       "    }\n",
       "\n",
       "    .dataframe thead th {\n",
       "        text-align: right;\n",
       "    }\n",
       "</style>\n",
       "<table border=\"1\" class=\"dataframe\">\n",
       "  <thead>\n",
       "    <tr style=\"text-align: right;\">\n",
       "      <th></th>\n",
       "      <th>rasgef1b_mut</th>\n",
       "      <th>hras_mut</th>\n",
       "      <th>smarcb1_mut</th>\n",
       "      <th>siah1_mut</th>\n",
       "    </tr>\n",
       "  </thead>\n",
       "  <tbody>\n",
       "    <tr>\n",
       "      <th>count</th>\n",
       "      <td>1904</td>\n",
       "      <td>1904</td>\n",
       "      <td>1904</td>\n",
       "      <td>1904</td>\n",
       "    </tr>\n",
       "    <tr>\n",
       "      <th>unique</th>\n",
       "      <td>9</td>\n",
       "      <td>4</td>\n",
       "      <td>4</td>\n",
       "      <td>3</td>\n",
       "    </tr>\n",
       "    <tr>\n",
       "      <th>top</th>\n",
       "      <td>0</td>\n",
       "      <td>0</td>\n",
       "      <td>0</td>\n",
       "      <td>0</td>\n",
       "    </tr>\n",
       "    <tr>\n",
       "      <th>freq</th>\n",
       "      <td>1024</td>\n",
       "      <td>1024</td>\n",
       "      <td>1024</td>\n",
       "      <td>1024</td>\n",
       "    </tr>\n",
       "  </tbody>\n",
       "</table>\n",
       "</div>"
      ],
      "text/plain": [
       "        rasgef1b_mut  hras_mut  smarcb1_mut  siah1_mut\n",
       "count           1904      1904         1904       1904\n",
       "unique             9         4            4          3\n",
       "top                0         0            0          0\n",
       "freq            1024      1024         1024       1024"
      ]
     },
     "execution_count": 8,
     "metadata": {},
     "output_type": "execute_result"
    }
   ],
   "source": [
    "df[['rasgef1b_mut', 'hras_mut', 'smarcb1_mut', 'siah1_mut']].describe()"
   ]
  },
  {
   "cell_type": "markdown",
   "metadata": {},
   "source": [
    "## Las variables con la alerta indican mutaciones en los genes correspondientes. 0 = no mutacion ; x = mutacion hay valores de 0 como caracter. Estas columnas habrá que binarizarlas."
   ]
  },
  {
   "cell_type": "code",
   "execution_count": 9,
   "metadata": {
    "scrolled": false
   },
   "outputs": [
    {
     "name": "stdout",
     "output_type": "stream",
     "text": [
      "[0 '0' 'V418A' 'S343G' 'R140Q' 'X2_splice' 'R353H' 'H396Y' 'E78K']\n",
      "[0 '0' 'Q61R' 'N86T']\n",
      "[0 '0' 'D159N' 'I28L']\n",
      "[0 '0' 'T249A']\n"
     ]
    }
   ],
   "source": [
    "print(df['rasgef1b_mut'].unique())\n",
    "print(df['hras_mut'].unique())\n",
    "print(df['smarcb1_mut'].unique())\n",
    "print(df['siah1_mut'].unique())"
   ]
  },
  {
   "cell_type": "markdown",
   "metadata": {},
   "source": [
    "## Empezamos haciendo la conversión de '0' a 0 para todas las columnas donde había ambigüedad"
   ]
  },
  {
   "cell_type": "code",
   "execution_count": 10,
   "metadata": {},
   "outputs": [],
   "source": [
    "df[['rasgef1b_mut', 'hras_mut', 'smarcb1_mut', 'siah1_mut']] = df[['rasgef1b_mut', 'hras_mut', 'smarcb1_mut', 'siah1_mut']].replace(['0'], 0)"
   ]
  },
  {
   "cell_type": "code",
   "execution_count": 11,
   "metadata": {
    "scrolled": false
   },
   "outputs": [
    {
     "name": "stdout",
     "output_type": "stream",
     "text": [
      "[0 'V418A' 'S343G' 'R140Q' 'X2_splice' 'R353H' 'H396Y' 'E78K']\n",
      "[0 'Q61R' 'N86T']\n",
      "[0 'D159N' 'I28L']\n",
      "[0 'T249A']\n"
     ]
    }
   ],
   "source": [
    "print(df['rasgef1b_mut'].unique())\n",
    "print(df['hras_mut'].unique())\n",
    "print(df['smarcb1_mut'].unique())\n",
    "print(df['siah1_mut'].unique())"
   ]
  },
  {
   "cell_type": "markdown",
   "metadata": {},
   "source": [
    "## Algoritmo de binarización aplicado a mutaciones"
   ]
  },
  {
   "cell_type": "code",
   "execution_count": 12,
   "metadata": {},
   "outputs": [],
   "source": [
    "for mut in df['rasgef1b_mut'].unique():\n",
    "    if mut != 0:\n",
    "        column = df['rasgef1b_mut'] == mut\n",
    "        column = column.replace([False], 0).replace([True],1)\n",
    "        df[mut] = column"
   ]
  },
  {
   "cell_type": "markdown",
   "metadata": {},
   "source": [
    "## Histograma de edad de diagnóstico"
   ]
  },
  {
   "cell_type": "code",
   "execution_count": 13,
   "metadata": {},
   "outputs": [
    {
     "data": {
      "text/plain": [
       "(array([ 10.,  54., 159., 265., 315., 389., 379., 237.,  86.,  10.]),\n",
       " array([21.93 , 29.366, 36.802, 44.238, 51.674, 59.11 , 66.546, 73.982,\n",
       "        81.418, 88.854, 96.29 ]),\n",
       " <BarContainer object of 10 artists>)"
      ]
     },
     "execution_count": 13,
     "metadata": {},
     "output_type": "execute_result"
    },
    {
     "data": {
      "image/png": "[encoded data removed]",
      "text/plain": [
       "<Figure size 640x480 with 1 Axes>"
      ]
     },
     "metadata": {},
     "output_type": "display_data"
    }
   ],
   "source": [
    "plt.hist(df['age_at_diagnosis'])"
   ]
  },
  {
   "cell_type": "markdown",
   "metadata": {},
   "source": [
    "## Descripción de edad de diagnóstico"
   ]
  },
  {
   "cell_type": "code",
   "execution_count": 14,
   "metadata": {
    "scrolled": true
   },
   "outputs": [
    {
     "data": {
      "text/plain": [
       "count    1904.000000\n",
       "mean       61.087054\n",
       "std        12.978711\n",
       "min        21.930000\n",
       "25%        51.375000\n",
       "50%        61.770000\n",
       "75%        70.592500\n",
       "max        96.290000\n",
       "Name: age_at_diagnosis, dtype: float64"
      ]
     },
     "execution_count": 14,
     "metadata": {},
     "output_type": "execute_result"
    }
   ],
   "source": [
    "df['age_at_diagnosis'].describe()"
   ]
  },
  {
   "cell_type": "markdown",
   "metadata": {},
   "source": [
    "## Conteo de valores de las variables no genéticas"
   ]
  },
  {
   "cell_type": "code",
   "execution_count": 15,
   "metadata": {
    "scrolled": true
   },
   "outputs": [
    {
     "name": "stdout",
     "output_type": "stream",
     "text": [
      "2 type_of_breast_surgery\n",
      "MASTECTOMY           1127\n",
      "BREAST CONSERVING     755\n",
      "Name: type_of_breast_surgery, dtype: int64\n",
      "nans: 22 \n",
      "\n",
      "3 cancer_type\n",
      "Breast Cancer     1903\n",
      "Breast Sarcoma       1\n",
      "Name: cancer_type, dtype: int64\n",
      "nans: 0 \n",
      "\n",
      "4 cancer_type_detailed\n",
      "Breast Invasive Ductal Carcinoma             1500\n",
      "Breast Mixed Ductal and Lobular Carcinoma     207\n",
      "Breast Invasive Lobular Carcinoma             142\n",
      "Breast Invasive Mixed Mucinous Carcinoma       22\n",
      "Breast                                         17\n",
      "Metaplastic Breast Cancer                       1\n",
      "Name: cancer_type_detailed, dtype: int64\n",
      "nans: 15 \n",
      "\n",
      "5 cellularity\n",
      "High        939\n",
      "Moderate    711\n",
      "Low         200\n",
      "Name: cellularity, dtype: int64\n",
      "nans: 54 \n",
      "\n",
      "6 chemotherapy\n",
      "0    1508\n",
      "1     396\n",
      "Name: chemotherapy, dtype: int64\n",
      "nans: 0 \n",
      "\n",
      "7 pam50_+_claudin-low_subtype\n",
      "LumA           679\n",
      "LumB           461\n",
      "Her2           220\n",
      "claudin-low    199\n",
      "Basal          199\n",
      "Normal         140\n",
      "NC               6\n",
      "Name: pam50_+_claudin-low_subtype, dtype: int64\n",
      "nans: 0 \n",
      "\n",
      "8 cohort\n",
      "3.0    734\n",
      "1.0    481\n",
      "2.0    286\n",
      "4.0    236\n",
      "5.0    167\n",
      "Name: cohort, dtype: int64\n",
      "nans: 0 \n",
      "\n",
      "9 er_status_measured_by_ihc\n",
      "Positve     1445\n",
      "Negative     429\n",
      "Name: er_status_measured_by_ihc, dtype: int64\n",
      "nans: 30 \n",
      "\n",
      "10 er_status\n",
      "Positive    1459\n",
      "Negative     445\n",
      "Name: er_status, dtype: int64\n",
      "nans: 0 \n",
      "\n",
      "11 neoplasm_histologic_grade\n",
      "3.0    927\n",
      "2.0    740\n",
      "1.0    165\n",
      "Name: neoplasm_histologic_grade, dtype: int64\n",
      "nans: 72 \n",
      "\n",
      "12 her2_status_measured_by_snp6\n",
      "NEUTRAL    1383\n",
      "GAIN        417\n",
      "LOSS        100\n",
      "UNDEF         4\n",
      "Name: her2_status_measured_by_snp6, dtype: int64\n",
      "nans: 0 \n",
      "\n",
      "13 her2_status\n",
      "Negative    1668\n",
      "Positive     236\n",
      "Name: her2_status, dtype: int64\n",
      "nans: 0 \n",
      "\n",
      "14 tumor_other_histologic_subtype\n",
      "Ductal/NST             1454\n",
      "Mixed                   207\n",
      "Lobular                 142\n",
      "Medullary                25\n",
      "Mucinous                 22\n",
      "Tubular/ cribriform      21\n",
      "Other                    17\n",
      "Metaplastic               1\n",
      "Name: tumor_other_histologic_subtype, dtype: int64\n",
      "nans: 15 \n",
      "\n",
      "15 hormone_therapy\n",
      "1    1174\n",
      "0     730\n",
      "Name: hormone_therapy, dtype: int64\n",
      "nans: 0 \n",
      "\n",
      "16 inferred_menopausal_state\n",
      "Post    1493\n",
      "Pre      411\n",
      "Name: inferred_menopausal_state, dtype: int64\n",
      "nans: 0 \n",
      "\n",
      "17 integrative_cluster\n",
      "8       289\n",
      "3       282\n",
      "4ER+    244\n",
      "10      219\n",
      "5       184\n",
      "7       182\n",
      "9       142\n",
      "1       132\n",
      "6        84\n",
      "4ER-     74\n",
      "2        72\n",
      "Name: integrative_cluster, dtype: int64\n",
      "nans: 0 \n",
      "\n",
      "18 primary_tumor_laterality\n",
      "Left     935\n",
      "Right    863\n",
      "Name: primary_tumor_laterality, dtype: int64\n",
      "nans: 106 \n",
      "\n",
      "19 lymph_nodes_examined_positive\n",
      "0.0     993\n",
      "1.0     332\n",
      "2.0     163\n",
      "3.0     109\n",
      "4.0      54\n",
      "6.0      48\n",
      "5.0      43\n",
      "7.0      24\n",
      "8.0      20\n",
      "14.0     15\n",
      "9.0      15\n",
      "10.0     12\n",
      "11.0     11\n",
      "16.0     11\n",
      "12.0      8\n",
      "13.0      7\n",
      "15.0      7\n",
      "18.0      5\n",
      "22.0      4\n",
      "17.0      4\n",
      "19.0      3\n",
      "21.0      3\n",
      "25.0      2\n",
      "24.0      2\n",
      "23.0      2\n",
      "20.0      2\n",
      "41.0      1\n",
      "26.0      1\n",
      "31.0      1\n",
      "33.0      1\n",
      "45.0      1\n",
      "Name: lymph_nodes_examined_positive, dtype: int64\n",
      "nans: 0 \n",
      "\n",
      "20 mutation_count\n",
      "5.0     268\n",
      "4.0     248\n",
      "6.0     232\n",
      "3.0     229\n",
      "2.0     193\n",
      "7.0     168\n",
      "8.0     121\n",
      "1.0     107\n",
      "9.0      90\n",
      "10.0     61\n",
      "11.0     38\n",
      "12.0     25\n",
      "13.0     17\n",
      "14.0     16\n",
      "15.0     11\n",
      "16.0      8\n",
      "17.0      5\n",
      "20.0      4\n",
      "22.0      4\n",
      "19.0      2\n",
      "23.0      2\n",
      "18.0      2\n",
      "40.0      1\n",
      "30.0      1\n",
      "46.0      1\n",
      "21.0      1\n",
      "24.0      1\n",
      "26.0      1\n",
      "28.0      1\n",
      "80.0      1\n",
      "Name: mutation_count, dtype: int64\n",
      "nans: 45 \n",
      "\n",
      "21 nottingham_prognostic_index\n",
      "4.040    84\n",
      "3.040    70\n",
      "4.050    58\n",
      "4.030    56\n",
      "3.030    53\n",
      "         ..\n",
      "5.072     1\n",
      "5.086     1\n",
      "6.104     1\n",
      "6.088     1\n",
      "5.041     1\n",
      "Name: nottingham_prognostic_index, Length: 310, dtype: int64\n",
      "nans: 0 \n",
      "\n",
      "22 oncotree_code\n",
      "IDC       1500\n",
      "MDLC       207\n",
      "ILC        142\n",
      "IMMC        22\n",
      "BREAST      17\n",
      "MBC          1\n",
      "Name: oncotree_code, dtype: int64\n",
      "nans: 15 \n",
      "\n",
      "23 overall_survival_months\n",
      "192.200000    4\n",
      "96.966667     3\n",
      "152.066667    3\n",
      "119.466667    3\n",
      "102.066667    3\n",
      "             ..\n",
      "221.233333    1\n",
      "227.933333    1\n",
      "167.433333    1\n",
      "257.766667    1\n",
      "201.900000    1\n",
      "Name: overall_survival_months, Length: 1685, dtype: int64\n",
      "nans: 0 \n",
      "\n",
      "24 overall_survival\n",
      "0    1103\n",
      "1     801\n",
      "Name: overall_survival, dtype: int64\n",
      "nans: 0 \n",
      "\n",
      "25 pr_status\n",
      "Positive    1009\n",
      "Negative     895\n",
      "Name: pr_status, dtype: int64\n",
      "nans: 0 \n",
      "\n",
      "26 radio_therapy\n",
      "1    1137\n",
      "0     767\n",
      "Name: radio_therapy, dtype: int64\n",
      "nans: 0 \n",
      "\n",
      "27 3-gene_classifier_subtype\n",
      "ER+/HER2- Low Prolif     619\n",
      "ER+/HER2- High Prolif    603\n",
      "ER-/HER2-                290\n",
      "HER2+                    188\n",
      "Name: 3-gene_classifier_subtype, dtype: int64\n",
      "nans: 204 \n",
      "\n",
      "28 tumor_size\n",
      "20.0     229\n",
      "25.0     166\n",
      "30.0     155\n",
      "15.0     147\n",
      "18.0      75\n",
      "        ... \n",
      "180.0      1\n",
      "16.9       1\n",
      "24.4       1\n",
      "67.0       1\n",
      "20.5       1\n",
      "Name: tumor_size, Length: 111, dtype: int64\n",
      "nans: 20 \n",
      "\n",
      "29 tumor_stage\n",
      "2.0    800\n",
      "1.0    475\n",
      "3.0    115\n",
      "4.0      9\n",
      "0.0      4\n",
      "Name: tumor_stage, dtype: int64\n",
      "nans: 501 \n",
      "\n",
      "30 death_from_cancer\n",
      "Living                  801\n",
      "Died of Disease         622\n",
      "Died of Other Causes    480\n",
      "Name: death_from_cancer, dtype: int64\n",
      "nans: 1 \n",
      "\n"
     ]
    }
   ],
   "source": [
    "for i in range(2,31):\n",
    "    print(i, df.columns[i])\n",
    "    value_counts = df.iloc[:,i].value_counts()\n",
    "    nan = df.iloc[:,i].isna().sum()\n",
    "    print(value_counts)\n",
    "    print('nans:',nan, '\\n')"
   ]
  },
  {
   "cell_type": "code",
   "execution_count": 16,
   "metadata": {},
   "outputs": [
    {
     "data": {
      "text/plain": [
       "<matplotlib.collections.PathCollection at 0x1d67d158f10>"
      ]
     },
     "execution_count": 16,
     "metadata": {},
     "output_type": "execute_result"
    },
    {
     "data": {
      "image/png": "[encoded data removed]",
      "text/plain": [
       "<Figure size 640x480 with 1 Axes>"
      ]
     },
     "metadata": {},
     "output_type": "display_data"
    }
   ],
   "source": [
    "x1 = df.overall_survival_months[df.type_of_breast_surgery == 'MASTECTOMY']\n",
    "y1 = df.age_at_diagnosis[df.type_of_breast_surgery == 'MASTECTOMY']\n",
    "\n",
    "x2 = df.overall_survival_months[df.type_of_breast_surgery == 'BREAST CONSERVING']\n",
    "y2 = df.age_at_diagnosis[df.type_of_breast_surgery == 'BREAST CONSERVING']\n",
    "\n",
    "plt.scatter(x1, y1)\n",
    "plt.scatter(x2, y2)"
   ]
  },
  {
   "cell_type": "markdown",
   "metadata": {},
   "source": [
    "## Seleccionando los datos de entrenamiento y prueba"
   ]
  },
  {
   "cell_type": "code",
   "execution_count": 172,
   "metadata": {},
   "outputs": [],
   "source": [
    "train_dataset = df.dropna().sample(frac=0.75, random_state=1)\n",
    "test_dataset = df.drop(train_dataset.index).dropna()\n",
    "\n",
    "x_train, y_train = train_dataset.loc[:,'brca1':'ugt2b7'], train_dataset['overall_survival']\n",
    "x_test, y_test = test_dataset.loc[:,'brca1':'ugt2b7'], test_dataset['overall_survival']\n"
   ]
  },
  {
   "cell_type": "code",
   "execution_count": 173,
   "metadata": {},
   "outputs": [
    {
     "name": "stdout",
     "output_type": "stream",
     "text": [
      "['Breast Invasive Lobular Carcinoma' 'Breast Invasive Ductal Carcinoma'\n",
      " 'Breast Mixed Ductal and Lobular Carcinoma'\n",
      " 'Breast Invasive Mixed Mucinous Carcinoma' 'Breast']\n"
     ]
    }
   ],
   "source": [
    "print(test_dataset['cancer_type_detailed'].unique())\n",
    "y_train = pd.get_dummies(train_dataset['cancer_type_detailed'])\n",
    "y_test = pd.get_dummies(test_dataset['cancer_type_detailed'])\n"
   ]
  },
  {
   "cell_type": "code",
   "execution_count": 174,
   "metadata": {
    "scrolled": true
   },
   "outputs": [
    {
     "name": "stdout",
     "output_type": "stream",
     "text": [
      "819\n",
      "273\n"
     ]
    }
   ],
   "source": [
    "print(len(train_dataset))\n",
    "print(len(test_dataset))"
   ]
  },
  {
   "cell_type": "code",
   "execution_count": 175,
   "metadata": {
    "scrolled": true
   },
   "outputs": [
    {
     "name": "stdout",
     "output_type": "stream",
     "text": [
      "Breast Invasive Lobular Carcinoma\n",
      "0    255\n",
      "1     18\n",
      "Name: Breast Invasive Lobular Carcinoma, dtype: int64\n",
      "0.8827838827838828\n",
      "[[238  17]\n",
      " [ 15   3]]\n",
      "Breast Invasive Ductal Carcinoma\n",
      "1    214\n",
      "0     59\n",
      "Name: Breast Invasive Ductal Carcinoma, dtype: int64\n",
      "0.73992673992674\n",
      "[[ 16  43]\n",
      " [ 28 186]]\n",
      "Breast Mixed Ductal and Lobular Carcinoma\n",
      "0    238\n",
      "1     35\n",
      "Name: Breast Mixed Ductal and Lobular Carcinoma, dtype: int64\n",
      "0.8278388278388278\n",
      "[[217  21]\n",
      " [ 26   9]]\n",
      "Breast Invasive Mixed Mucinous Carcinoma\n",
      "0    269\n",
      "1      4\n",
      "Name: Breast Invasive Mixed Mucinous Carcinoma, dtype: int64\n",
      "0.9816849816849816\n",
      "[[268   1]\n",
      " [  4   0]]\n",
      "Breast\n",
      "0    271\n",
      "1      2\n",
      "Name: Breast, dtype: int64\n",
      "0.9926739926739927\n",
      "[[271   0]\n",
      " [  2   0]]\n"
     ]
    },
    {
     "name": "stderr",
     "output_type": "stream",
     "text": [
      "C:\\Users\\achav\\Anaconda3\\lib\\site-packages\\sklearn\\linear_model\\_logistic.py:814: ConvergenceWarning: lbfgs failed to converge (status=1):\n",
      "STOP: TOTAL NO. of ITERATIONS REACHED LIMIT.\n",
      "\n",
      "Increase the number of iterations (max_iter) or scale the data as shown in:\n",
      "    https://scikit-learn.org/stable/modules/preprocessing.html\n",
      "Please also refer to the documentation for alternative solver options:\n",
      "    https://scikit-learn.org/stable/modules/linear_model.html#logistic-regression\n",
      "  n_iter_i = _check_optimize_result(\n"
     ]
    }
   ],
   "source": [
    "max_iter = 100\n",
    "log_reg = LogisticRegression(multi_class='multinomial', max_iter=max_iter)\n",
    "x_train = train_dataset.loc[:,'brca1':'gdf2']\n",
    "x_test = test_dataset.loc[:,'brca1':'gdf2']\n",
    "\n",
    "for cancer_type in test_dataset['cancer_type_detailed'].dropna().unique():\n",
    "    print(cancer_type)\n",
    "    print(y_test[cancer_type].value_counts())\n",
    "    log_reg.fit(x_train, y_train[cancer_type])\n",
    "    predictions = log_reg.predict(x_test)\n",
    "    score = log_reg.score(x_test, y_test[cancer_type])\n",
    "    print(score)\n",
    "    cm = metrics.confusion_matrix(y_test[cancer_type], predictions)\n",
    "    print(cm)\n"
   ]
  },
  {
   "cell_type": "code",
   "execution_count": 176,
   "metadata": {},
   "outputs": [
    {
     "name": "stdout",
     "output_type": "stream",
     "text": [
      "Breast Invasive Lobular Carcinoma\n",
      "0    760\n",
      "1     59\n",
      "Name: Breast Invasive Lobular Carcinoma, dtype: int64\n",
      "0.8827838827838828\n",
      "[[238  17]\n",
      " [ 15   3]]\n",
      "Breast Invasive Ductal Carcinoma\n",
      "1    645\n",
      "0    174\n",
      "Name: Breast Invasive Ductal Carcinoma, dtype: int64\n",
      "0.73992673992674\n",
      "[[ 16  43]\n",
      " [ 28 186]]\n",
      "Breast Mixed Ductal and Lobular Carcinoma\n",
      "0    716\n",
      "1    103\n",
      "Name: Breast Mixed Ductal and Lobular Carcinoma, dtype: int64\n"
     ]
    },
    {
     "name": "stderr",
     "output_type": "stream",
     "text": [
      "C:\\Users\\achav\\Anaconda3\\lib\\site-packages\\sklearn\\linear_model\\_logistic.py:814: ConvergenceWarning: lbfgs failed to converge (status=1):\n",
      "STOP: TOTAL NO. of ITERATIONS REACHED LIMIT.\n",
      "\n",
      "Increase the number of iterations (max_iter) or scale the data as shown in:\n",
      "    https://scikit-learn.org/stable/modules/preprocessing.html\n",
      "Please also refer to the documentation for alternative solver options:\n",
      "    https://scikit-learn.org/stable/modules/linear_model.html#logistic-regression\n",
      "  n_iter_i = _check_optimize_result(\n"
     ]
    },
    {
     "name": "stdout",
     "output_type": "stream",
     "text": [
      "0.8278388278388278\n",
      "[[217  21]\n",
      " [ 26   9]]\n",
      "Breast Invasive Mixed Mucinous Carcinoma\n",
      "0    810\n",
      "1      9\n",
      "Name: Breast Invasive Mixed Mucinous Carcinoma, dtype: int64\n",
      "0.9816849816849816\n",
      "[[268   1]\n",
      " [  4   0]]\n",
      "Breast\n",
      "0    816\n",
      "1      3\n",
      "Name: Breast, dtype: int64\n",
      "0.9926739926739927\n",
      "[[271   0]\n",
      " [  2   0]]\n"
     ]
    }
   ],
   "source": [
    "for cancer_type in test_dataset['cancer_type_detailed'].dropna().unique():\n",
    "    print(cancer_type)\n",
    "    print(y_train[cancer_type].value_counts())\n",
    "    log_reg.fit(x_train, y_train[cancer_type])\n",
    "    predictions = log_reg.predict(x_test)\n",
    "    score = log_reg.score(x_test, y_test[cancer_type])\n",
    "    print(score)\n",
    "    cm = metrics.confusion_matrix(y_test[cancer_type], predictions)\n",
    "    print(cm)"
   ]
  },
  {
   "cell_type": "code",
   "execution_count": 177,
   "metadata": {},
   "outputs": [
    {
     "name": "stdout",
     "output_type": "stream",
     "text": [
      "[[ 59   0]\n",
      " [214   0]]\n"
     ]
    }
   ],
   "source": [
    "cm = metrics.confusion_matrix(y_test['Breast Invasive Ductal Carcinoma'], predictions)\n",
    "print(cm)"
   ]
  },
  {
   "cell_type": "code",
   "execution_count": 178,
   "metadata": {},
   "outputs": [
    {
     "data": {
      "image/png": "[encoded data removed]",
      "text/plain": [
       "<Figure size 900x900 with 2 Axes>"
      ]
     },
     "metadata": {},
     "output_type": "display_data"
    }
   ],
   "source": [
    "plt.figure(figsize=(9,9))\n",
    "sns.heatmap(cm, annot=True, fmt=\".3f\", linewidths=.5, square = True, cmap = 'Blues_r');\n",
    "plt.ylabel('Actual label');\n",
    "plt.xlabel('Predicted label');\n",
    "all_sample_title = 'Accuracy Score: {0}'.format(score)\n",
    "plt.title(all_sample_title, size = 15);"
   ]
  },
  {
   "cell_type": "code",
   "execution_count": 106,
   "metadata": {},
   "outputs": [],
   "source": [
    "from sklearn.neural_network import MLPClassifier"
   ]
  },
  {
   "cell_type": "code",
   "execution_count": 182,
   "metadata": {},
   "outputs": [
    {
     "name": "stdout",
     "output_type": "stream",
     "text": [
      "(819, 169) (819, 5)\n",
      "(273, 169) (273, 5)\n",
      "0.6593406593406593\n"
     ]
    },
    {
     "ename": "ValueError",
     "evalue": "Found input variables with inconsistent numbers of samples: [273, 1]",
     "output_type": "error",
     "traceback": [
      "\u001b[1;31m---------------------------------------------------------------------------\u001b[0m",
      "\u001b[1;31mValueError\u001b[0m                                Traceback (most recent call last)",
      "\u001b[1;32m~\\AppData\\Local\\Temp\\ipykernel_7532\\1026711645.py\u001b[0m in \u001b[0;36m<module>\u001b[1;34m\u001b[0m\n\u001b[0;32m      6\u001b[0m \u001b[0mprint\u001b[0m\u001b[1;33m(\u001b[0m\u001b[0mclf\u001b[0m\u001b[1;33m.\u001b[0m\u001b[0mscore\u001b[0m\u001b[1;33m(\u001b[0m\u001b[0mx_test\u001b[0m\u001b[1;33m,\u001b[0m\u001b[0my_test\u001b[0m\u001b[1;33m)\u001b[0m\u001b[1;33m)\u001b[0m\u001b[1;33m\u001b[0m\u001b[1;33m\u001b[0m\u001b[0m\n\u001b[0;32m      7\u001b[0m \u001b[0mpredictions\u001b[0m \u001b[1;33m=\u001b[0m \u001b[0mclf\u001b[0m\u001b[1;33m.\u001b[0m\u001b[0mpredict\u001b[0m\u001b[1;33m(\u001b[0m\u001b[0mx_test\u001b[0m\u001b[1;33m[\u001b[0m\u001b[1;33m:\u001b[0m\u001b[1;36m1\u001b[0m\u001b[1;33m]\u001b[0m\u001b[1;33m)\u001b[0m\u001b[1;33m\u001b[0m\u001b[1;33m\u001b[0m\u001b[0m\n\u001b[1;32m----> 8\u001b[1;33m \u001b[0mcm\u001b[0m \u001b[1;33m=\u001b[0m \u001b[0mmetrics\u001b[0m\u001b[1;33m.\u001b[0m\u001b[0mconfusion_matrix\u001b[0m\u001b[1;33m(\u001b[0m\u001b[0my_test\u001b[0m\u001b[1;33m,\u001b[0m \u001b[0mpredictions\u001b[0m\u001b[1;33m)\u001b[0m\u001b[1;33m\u001b[0m\u001b[1;33m\u001b[0m\u001b[0m\n\u001b[0m",
      "\u001b[1;32m~\\Anaconda3\\lib\\site-packages\\sklearn\\metrics\\_classification.py\u001b[0m in \u001b[0;36mconfusion_matrix\u001b[1;34m(y_true, y_pred, labels, sample_weight, normalize)\u001b[0m\n\u001b[0;32m    305\u001b[0m     \u001b[1;33m(\u001b[0m\u001b[1;36m0\u001b[0m\u001b[1;33m,\u001b[0m \u001b[1;36m2\u001b[0m\u001b[1;33m,\u001b[0m \u001b[1;36m1\u001b[0m\u001b[1;33m,\u001b[0m \u001b[1;36m1\u001b[0m\u001b[1;33m)\u001b[0m\u001b[1;33m\u001b[0m\u001b[1;33m\u001b[0m\u001b[0m\n\u001b[0;32m    306\u001b[0m     \"\"\"\n\u001b[1;32m--> 307\u001b[1;33m     \u001b[0my_type\u001b[0m\u001b[1;33m,\u001b[0m \u001b[0my_true\u001b[0m\u001b[1;33m,\u001b[0m \u001b[0my_pred\u001b[0m \u001b[1;33m=\u001b[0m \u001b[0m_check_targets\u001b[0m\u001b[1;33m(\u001b[0m\u001b[0my_true\u001b[0m\u001b[1;33m,\u001b[0m \u001b[0my_pred\u001b[0m\u001b[1;33m)\u001b[0m\u001b[1;33m\u001b[0m\u001b[1;33m\u001b[0m\u001b[0m\n\u001b[0m\u001b[0;32m    308\u001b[0m     \u001b[1;32mif\u001b[0m \u001b[0my_type\u001b[0m \u001b[1;32mnot\u001b[0m \u001b[1;32min\u001b[0m \u001b[1;33m(\u001b[0m\u001b[1;34m\"binary\"\u001b[0m\u001b[1;33m,\u001b[0m \u001b[1;34m\"multiclass\"\u001b[0m\u001b[1;33m)\u001b[0m\u001b[1;33m:\u001b[0m\u001b[1;33m\u001b[0m\u001b[1;33m\u001b[0m\u001b[0m\n\u001b[0;32m    309\u001b[0m         \u001b[1;32mraise\u001b[0m \u001b[0mValueError\u001b[0m\u001b[1;33m(\u001b[0m\u001b[1;34m\"%s is not supported\"\u001b[0m \u001b[1;33m%\u001b[0m \u001b[0my_type\u001b[0m\u001b[1;33m)\u001b[0m\u001b[1;33m\u001b[0m\u001b[1;33m\u001b[0m\u001b[0m\n",
      "\u001b[1;32m~\\Anaconda3\\lib\\site-packages\\sklearn\\metrics\\_classification.py\u001b[0m in \u001b[0;36m_check_targets\u001b[1;34m(y_true, y_pred)\u001b[0m\n\u001b[0;32m     82\u001b[0m     \u001b[0my_pred\u001b[0m \u001b[1;33m:\u001b[0m \u001b[0marray\u001b[0m \u001b[1;32mor\u001b[0m \u001b[0mindicator\u001b[0m \u001b[0mmatrix\u001b[0m\u001b[1;33m\u001b[0m\u001b[1;33m\u001b[0m\u001b[0m\n\u001b[0;32m     83\u001b[0m     \"\"\"\n\u001b[1;32m---> 84\u001b[1;33m     \u001b[0mcheck_consistent_length\u001b[0m\u001b[1;33m(\u001b[0m\u001b[0my_true\u001b[0m\u001b[1;33m,\u001b[0m \u001b[0my_pred\u001b[0m\u001b[1;33m)\u001b[0m\u001b[1;33m\u001b[0m\u001b[1;33m\u001b[0m\u001b[0m\n\u001b[0m\u001b[0;32m     85\u001b[0m     \u001b[0mtype_true\u001b[0m \u001b[1;33m=\u001b[0m \u001b[0mtype_of_target\u001b[0m\u001b[1;33m(\u001b[0m\u001b[0my_true\u001b[0m\u001b[1;33m)\u001b[0m\u001b[1;33m\u001b[0m\u001b[1;33m\u001b[0m\u001b[0m\n\u001b[0;32m     86\u001b[0m     \u001b[0mtype_pred\u001b[0m \u001b[1;33m=\u001b[0m \u001b[0mtype_of_target\u001b[0m\u001b[1;33m(\u001b[0m\u001b[0my_pred\u001b[0m\u001b[1;33m)\u001b[0m\u001b[1;33m\u001b[0m\u001b[1;33m\u001b[0m\u001b[0m\n",
      "\u001b[1;32m~\\Anaconda3\\lib\\site-packages\\sklearn\\utils\\validation.py\u001b[0m in \u001b[0;36mcheck_consistent_length\u001b[1;34m(*arrays)\u001b[0m\n\u001b[0;32m    330\u001b[0m     \u001b[0muniques\u001b[0m \u001b[1;33m=\u001b[0m \u001b[0mnp\u001b[0m\u001b[1;33m.\u001b[0m\u001b[0munique\u001b[0m\u001b[1;33m(\u001b[0m\u001b[0mlengths\u001b[0m\u001b[1;33m)\u001b[0m\u001b[1;33m\u001b[0m\u001b[1;33m\u001b[0m\u001b[0m\n\u001b[0;32m    331\u001b[0m     \u001b[1;32mif\u001b[0m \u001b[0mlen\u001b[0m\u001b[1;33m(\u001b[0m\u001b[0muniques\u001b[0m\u001b[1;33m)\u001b[0m \u001b[1;33m>\u001b[0m \u001b[1;36m1\u001b[0m\u001b[1;33m:\u001b[0m\u001b[1;33m\u001b[0m\u001b[1;33m\u001b[0m\u001b[0m\n\u001b[1;32m--> 332\u001b[1;33m         raise ValueError(\n\u001b[0m\u001b[0;32m    333\u001b[0m             \u001b[1;34m\"Found input variables with inconsistent numbers of samples: %r\"\u001b[0m\u001b[1;33m\u001b[0m\u001b[1;33m\u001b[0m\u001b[0m\n\u001b[0;32m    334\u001b[0m             \u001b[1;33m%\u001b[0m \u001b[1;33m[\u001b[0m\u001b[0mint\u001b[0m\u001b[1;33m(\u001b[0m\u001b[0ml\u001b[0m\u001b[1;33m)\u001b[0m \u001b[1;32mfor\u001b[0m \u001b[0ml\u001b[0m \u001b[1;32min\u001b[0m \u001b[0mlengths\u001b[0m\u001b[1;33m]\u001b[0m\u001b[1;33m\u001b[0m\u001b[1;33m\u001b[0m\u001b[0m\n",
      "\u001b[1;31mValueError\u001b[0m: Found input variables with inconsistent numbers of samples: [273, 1]"
     ]
    }
   ],
   "source": [
    "clf = MLPClassifier(solver='lbfgs', alpha=1e-3, random_state=1)\n",
    "model = clf.fit(x_train, y_train)\n",
    "print(x_train.shape, y_train.shape)\n",
    "print(x_test.shape, y_test.shape)\n",
    "\n",
    "print(clf.score(x_test,y_test))\n",
    "predictions = clf.predict(x_test[:1])\n",
    "cm = metrics.confusion_matrix(y_test, predictions)\n"
   ]
  },
  {
   "cell_type": "code",
   "execution_count": null,
   "metadata": {},
   "outputs": [],
   "source": []
  },
  {
   "cell_type": "code",
   "execution_count": null,
   "metadata": {},
   "outputs": [],
   "source": []
  }
 ],
 "metadata": {
  "kernelspec": {
   "display_name": "Python 3 (ipykernel)",
   "language": "python",
   "name": "python3"
  },
  "language_info": {
   "codemirror_mode": {
    "name": "ipython",
    "version": 3
   },
   "file_extension": ".py",
   "mimetype": "text/x-python",
   "name": "python",
   "nbconvert_exporter": "python",
   "pygments_lexer": "ipython3",
   "version": "3.9.13"
  }
 },
 "nbformat": 4,
 "nbformat_minor": 4
}
