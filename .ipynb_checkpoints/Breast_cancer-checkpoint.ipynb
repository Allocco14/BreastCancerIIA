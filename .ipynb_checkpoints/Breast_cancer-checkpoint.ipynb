{
 "cells": [
  {
   "cell_type": "code",
   "execution_count": 32,
   "metadata": {},
   "outputs": [],
   "source": [
    "import pandas as pd\n",
    "import numpy as np\n",
    "import matplotlib as mpl\n",
    "import matplotlib.pyplot as plt\n",
    "import re"
   ]
  },
  {
   "cell_type": "code",
   "execution_count": 33,
   "metadata": {
    "scrolled": true
   },
   "outputs": [
    {
     "name": "stderr",
     "output_type": "stream",
     "text": [
      "C:\\Users\\achav\\anaconda3\\lib\\site-packages\\IPython\\core\\interactiveshell.py:3146: DtypeWarning: Columns (678,688,690,692) have mixed types.Specify dtype option on import or set low_memory=False.\n",
      "  has_raised = await self.run_ast_nodes(code_ast.body, cell_name,\n"
     ]
    }
   ],
   "source": [
    "#CARGA DE DATOS\n",
    "\n",
    "df = pd.read_csv('METABRIC_RNA_MUTATION.csv')"
   ]
  },
  {
   "cell_type": "code",
   "execution_count": 34,
   "metadata": {},
   "outputs": [
    {
     "data": {
      "text/plain": [
       "array(['rasgef1b_mut', 'hras_mut', 'smarcb1_mut', 'siah1_mut'],\n",
       "      dtype=object)"
      ]
     },
     "execution_count": 34,
     "metadata": {},
     "output_type": "execute_result"
    }
   ],
   "source": [
    "##columnas con la alerta\n",
    "\n",
    "df.columns.values[[678, 688, 690, 692]]"
   ]
  },
  {
   "cell_type": "code",
   "execution_count": 35,
   "metadata": {},
   "outputs": [
    {
     "data": {
      "text/html": [
       "<div>\n",
       "<style scoped>\n",
       "    .dataframe tbody tr th:only-of-type {\n",
       "        vertical-align: middle;\n",
       "    }\n",
       "\n",
       "    .dataframe tbody tr th {\n",
       "        vertical-align: top;\n",
       "    }\n",
       "\n",
       "    .dataframe thead th {\n",
       "        text-align: right;\n",
       "    }\n",
       "</style>\n",
       "<table border=\"1\" class=\"dataframe\">\n",
       "  <thead>\n",
       "    <tr style=\"text-align: right;\">\n",
       "      <th></th>\n",
       "      <th>patient_id</th>\n",
       "      <th>age_at_diagnosis</th>\n",
       "      <th>type_of_breast_surgery</th>\n",
       "      <th>cancer_type</th>\n",
       "      <th>cancer_type_detailed</th>\n",
       "      <th>cellularity</th>\n",
       "      <th>chemotherapy</th>\n",
       "      <th>pam50_+_claudin-low_subtype</th>\n",
       "      <th>cohort</th>\n",
       "      <th>er_status_measured_by_ihc</th>\n",
       "      <th>...</th>\n",
       "      <th>mtap_mut</th>\n",
       "      <th>ppp2cb_mut</th>\n",
       "      <th>smarcd1_mut</th>\n",
       "      <th>nras_mut</th>\n",
       "      <th>ndfip1_mut</th>\n",
       "      <th>hras_mut</th>\n",
       "      <th>prps2_mut</th>\n",
       "      <th>smarcb1_mut</th>\n",
       "      <th>stmn2_mut</th>\n",
       "      <th>siah1_mut</th>\n",
       "    </tr>\n",
       "  </thead>\n",
       "  <tbody>\n",
       "    <tr>\n",
       "      <th>0</th>\n",
       "      <td>0</td>\n",
       "      <td>75.65</td>\n",
       "      <td>MASTECTOMY</td>\n",
       "      <td>Breast Cancer</td>\n",
       "      <td>Breast Invasive Ductal Carcinoma</td>\n",
       "      <td>NaN</td>\n",
       "      <td>0</td>\n",
       "      <td>claudin-low</td>\n",
       "      <td>1.0</td>\n",
       "      <td>Positve</td>\n",
       "      <td>...</td>\n",
       "      <td>0</td>\n",
       "      <td>0</td>\n",
       "      <td>0</td>\n",
       "      <td>0</td>\n",
       "      <td>0</td>\n",
       "      <td>0</td>\n",
       "      <td>0</td>\n",
       "      <td>0</td>\n",
       "      <td>0</td>\n",
       "      <td>0</td>\n",
       "    </tr>\n",
       "    <tr>\n",
       "      <th>1</th>\n",
       "      <td>2</td>\n",
       "      <td>43.19</td>\n",
       "      <td>BREAST CONSERVING</td>\n",
       "      <td>Breast Cancer</td>\n",
       "      <td>Breast Invasive Ductal Carcinoma</td>\n",
       "      <td>High</td>\n",
       "      <td>0</td>\n",
       "      <td>LumA</td>\n",
       "      <td>1.0</td>\n",
       "      <td>Positve</td>\n",
       "      <td>...</td>\n",
       "      <td>0</td>\n",
       "      <td>0</td>\n",
       "      <td>0</td>\n",
       "      <td>0</td>\n",
       "      <td>0</td>\n",
       "      <td>0</td>\n",
       "      <td>0</td>\n",
       "      <td>0</td>\n",
       "      <td>0</td>\n",
       "      <td>0</td>\n",
       "    </tr>\n",
       "    <tr>\n",
       "      <th>2</th>\n",
       "      <td>5</td>\n",
       "      <td>48.87</td>\n",
       "      <td>MASTECTOMY</td>\n",
       "      <td>Breast Cancer</td>\n",
       "      <td>Breast Invasive Ductal Carcinoma</td>\n",
       "      <td>High</td>\n",
       "      <td>1</td>\n",
       "      <td>LumB</td>\n",
       "      <td>1.0</td>\n",
       "      <td>Positve</td>\n",
       "      <td>...</td>\n",
       "      <td>0</td>\n",
       "      <td>0</td>\n",
       "      <td>0</td>\n",
       "      <td>0</td>\n",
       "      <td>0</td>\n",
       "      <td>0</td>\n",
       "      <td>0</td>\n",
       "      <td>0</td>\n",
       "      <td>0</td>\n",
       "      <td>0</td>\n",
       "    </tr>\n",
       "    <tr>\n",
       "      <th>3</th>\n",
       "      <td>6</td>\n",
       "      <td>47.68</td>\n",
       "      <td>MASTECTOMY</td>\n",
       "      <td>Breast Cancer</td>\n",
       "      <td>Breast Mixed Ductal and Lobular Carcinoma</td>\n",
       "      <td>Moderate</td>\n",
       "      <td>1</td>\n",
       "      <td>LumB</td>\n",
       "      <td>1.0</td>\n",
       "      <td>Positve</td>\n",
       "      <td>...</td>\n",
       "      <td>0</td>\n",
       "      <td>0</td>\n",
       "      <td>0</td>\n",
       "      <td>0</td>\n",
       "      <td>0</td>\n",
       "      <td>0</td>\n",
       "      <td>0</td>\n",
       "      <td>0</td>\n",
       "      <td>0</td>\n",
       "      <td>0</td>\n",
       "    </tr>\n",
       "    <tr>\n",
       "      <th>4</th>\n",
       "      <td>8</td>\n",
       "      <td>76.97</td>\n",
       "      <td>MASTECTOMY</td>\n",
       "      <td>Breast Cancer</td>\n",
       "      <td>Breast Mixed Ductal and Lobular Carcinoma</td>\n",
       "      <td>High</td>\n",
       "      <td>1</td>\n",
       "      <td>LumB</td>\n",
       "      <td>1.0</td>\n",
       "      <td>Positve</td>\n",
       "      <td>...</td>\n",
       "      <td>0</td>\n",
       "      <td>0</td>\n",
       "      <td>0</td>\n",
       "      <td>0</td>\n",
       "      <td>0</td>\n",
       "      <td>0</td>\n",
       "      <td>0</td>\n",
       "      <td>0</td>\n",
       "      <td>0</td>\n",
       "      <td>0</td>\n",
       "    </tr>\n",
       "  </tbody>\n",
       "</table>\n",
       "<p>5 rows × 693 columns</p>\n",
       "</div>"
      ],
      "text/plain": [
       "   patient_id  age_at_diagnosis type_of_breast_surgery    cancer_type  \\\n",
       "0           0             75.65             MASTECTOMY  Breast Cancer   \n",
       "1           2             43.19      BREAST CONSERVING  Breast Cancer   \n",
       "2           5             48.87             MASTECTOMY  Breast Cancer   \n",
       "3           6             47.68             MASTECTOMY  Breast Cancer   \n",
       "4           8             76.97             MASTECTOMY  Breast Cancer   \n",
       "\n",
       "                        cancer_type_detailed cellularity  chemotherapy  \\\n",
       "0           Breast Invasive Ductal Carcinoma         NaN             0   \n",
       "1           Breast Invasive Ductal Carcinoma        High             0   \n",
       "2           Breast Invasive Ductal Carcinoma        High             1   \n",
       "3  Breast Mixed Ductal and Lobular Carcinoma    Moderate             1   \n",
       "4  Breast Mixed Ductal and Lobular Carcinoma        High             1   \n",
       "\n",
       "  pam50_+_claudin-low_subtype  cohort er_status_measured_by_ihc  ... mtap_mut  \\\n",
       "0                 claudin-low     1.0                   Positve  ...        0   \n",
       "1                        LumA     1.0                   Positve  ...        0   \n",
       "2                        LumB     1.0                   Positve  ...        0   \n",
       "3                        LumB     1.0                   Positve  ...        0   \n",
       "4                        LumB     1.0                   Positve  ...        0   \n",
       "\n",
       "   ppp2cb_mut smarcd1_mut nras_mut ndfip1_mut  hras_mut prps2_mut smarcb1_mut  \\\n",
       "0           0           0        0          0         0         0           0   \n",
       "1           0           0        0          0         0         0           0   \n",
       "2           0           0        0          0         0         0           0   \n",
       "3           0           0        0          0         0         0           0   \n",
       "4           0           0        0          0         0         0           0   \n",
       "\n",
       "  stmn2_mut  siah1_mut  \n",
       "0         0          0  \n",
       "1         0          0  \n",
       "2         0          0  \n",
       "3         0          0  \n",
       "4         0          0  \n",
       "\n",
       "[5 rows x 693 columns]"
      ]
     },
     "execution_count": 35,
     "metadata": {},
     "output_type": "execute_result"
    }
   ],
   "source": [
    "df.head()"
   ]
  },
  {
   "cell_type": "code",
   "execution_count": 36,
   "metadata": {
    "scrolled": true
   },
   "outputs": [
    {
     "data": {
      "text/plain": [
       "rasgef1b_mut    object\n",
       "hras_mut        object\n",
       "smarcb1_mut     object\n",
       "siah1_mut       object\n",
       "dtype: object"
      ]
     },
     "execution_count": 36,
     "metadata": {},
     "output_type": "execute_result"
    }
   ],
   "source": [
    "df[['rasgef1b_mut', 'hras_mut', 'smarcb1_mut', 'siah1_mut']].dtypes"
   ]
  },
  {
   "cell_type": "code",
   "execution_count": 37,
   "metadata": {},
   "outputs": [
    {
     "data": {
      "text/html": [
       "<div>\n",
       "<style scoped>\n",
       "    .dataframe tbody tr th:only-of-type {\n",
       "        vertical-align: middle;\n",
       "    }\n",
       "\n",
       "    .dataframe tbody tr th {\n",
       "        vertical-align: top;\n",
       "    }\n",
       "\n",
       "    .dataframe thead th {\n",
       "        text-align: right;\n",
       "    }\n",
       "</style>\n",
       "<table border=\"1\" class=\"dataframe\">\n",
       "  <thead>\n",
       "    <tr style=\"text-align: right;\">\n",
       "      <th></th>\n",
       "      <th>rasgef1b_mut</th>\n",
       "      <th>hras_mut</th>\n",
       "      <th>smarcb1_mut</th>\n",
       "      <th>siah1_mut</th>\n",
       "    </tr>\n",
       "  </thead>\n",
       "  <tbody>\n",
       "    <tr>\n",
       "      <th>count</th>\n",
       "      <td>1904</td>\n",
       "      <td>1904</td>\n",
       "      <td>1904</td>\n",
       "      <td>1904</td>\n",
       "    </tr>\n",
       "    <tr>\n",
       "      <th>unique</th>\n",
       "      <td>9</td>\n",
       "      <td>4</td>\n",
       "      <td>4</td>\n",
       "      <td>3</td>\n",
       "    </tr>\n",
       "    <tr>\n",
       "      <th>top</th>\n",
       "      <td>0</td>\n",
       "      <td>0</td>\n",
       "      <td>0</td>\n",
       "      <td>0</td>\n",
       "    </tr>\n",
       "    <tr>\n",
       "      <th>freq</th>\n",
       "      <td>1024</td>\n",
       "      <td>1024</td>\n",
       "      <td>1024</td>\n",
       "      <td>1024</td>\n",
       "    </tr>\n",
       "  </tbody>\n",
       "</table>\n",
       "</div>"
      ],
      "text/plain": [
       "        rasgef1b_mut  hras_mut  smarcb1_mut  siah1_mut\n",
       "count           1904      1904         1904       1904\n",
       "unique             9         4            4          3\n",
       "top                0         0            0          0\n",
       "freq            1024      1024         1024       1024"
      ]
     },
     "execution_count": 37,
     "metadata": {},
     "output_type": "execute_result"
    }
   ],
   "source": [
    "## descripcion de las variables con la alerta\n",
    "\n",
    "df[['rasgef1b_mut', 'hras_mut', 'smarcb1_mut', 'siah1_mut']].describe()"
   ]
  },
  {
   "cell_type": "code",
   "execution_count": 38,
   "metadata": {
    "scrolled": false
   },
   "outputs": [
    {
     "name": "stdout",
     "output_type": "stream",
     "text": [
      "[0 '0' 'V418A' 'S343G' 'R140Q' 'X2_splice' 'R353H' 'H396Y' 'E78K']\n",
      "[0 '0' 'Q61R' 'N86T']\n",
      "[0 '0' 'D159N' 'I28L']\n",
      "[0 '0' 'T249A']\n"
     ]
    }
   ],
   "source": [
    "## las variables con la alerta indican mutaciones en los genes correspondientes. 0 = no mutacion ; x = mutacion\n",
    "#hay valores de 0 como caracter\n",
    "\n",
    "print(df['rasgef1b_mut'].unique())\n",
    "print(df['hras_mut'].unique())\n",
    "print(df['smarcb1_mut'].unique())\n",
    "print(df['siah1_mut'].unique())"
   ]
  },
  {
   "cell_type": "code",
   "execution_count": 39,
   "metadata": {},
   "outputs": [],
   "source": [
    "# CONVERSION DE '0' a 0 para todas las columnas donde había ambigüedad\n",
    "df[['rasgef1b_mut', 'hras_mut', 'smarcb1_mut', 'siah1_mut']] = df[['rasgef1b_mut', 'hras_mut', 'smarcb1_mut', 'siah1_mut']].replace(['0'], 0)"
   ]
  },
  {
   "cell_type": "code",
   "execution_count": 40,
   "metadata": {
    "scrolled": false
   },
   "outputs": [
    {
     "name": "stdout",
     "output_type": "stream",
     "text": [
      "[0 'V418A' 'S343G' 'R140Q' 'X2_splice' 'R353H' 'H396Y' 'E78K']\n",
      "[0 'Q61R' 'N86T']\n",
      "[0 'D159N' 'I28L']\n",
      "[0 'T249A']\n"
     ]
    }
   ],
   "source": [
    "print(df['rasgef1b_mut'].unique())\n",
    "print(df['hras_mut'].unique())\n",
    "print(df['smarcb1_mut'].unique())\n",
    "print(df['siah1_mut'].unique())"
   ]
  },
  {
   "cell_type": "code",
   "execution_count": 41,
   "metadata": {},
   "outputs": [
    {
     "name": "stdout",
     "output_type": "stream",
     "text": [
      "(1904, 693)\n",
      "Index(['patient_id', 'age_at_diagnosis', 'type_of_breast_surgery',\n",
      "       'cancer_type', 'cancer_type_detailed', 'cellularity', 'chemotherapy',\n",
      "       'pam50_+_claudin-low_subtype', 'cohort', 'er_status_measured_by_ihc',\n",
      "       ...\n",
      "       'mtap_mut', 'ppp2cb_mut', 'smarcd1_mut', 'nras_mut', 'ndfip1_mut',\n",
      "       'hras_mut', 'prps2_mut', 'smarcb1_mut', 'stmn2_mut', 'siah1_mut'],\n",
      "      dtype='object', length=693)\n"
     ]
    }
   ],
   "source": [
    "print(df.shape)\n",
    "print(df.columns)"
   ]
  },
  {
   "cell_type": "code",
   "execution_count": 42,
   "metadata": {},
   "outputs": [
    {
     "data": {
      "text/plain": [
       "patient_id                  int64\n",
       "age_at_diagnosis          float64\n",
       "type_of_breast_surgery     object\n",
       "cancer_type                object\n",
       "cancer_type_detailed       object\n",
       "                           ...   \n",
       "hras_mut                   object\n",
       "prps2_mut                  object\n",
       "smarcb1_mut                object\n",
       "stmn2_mut                  object\n",
       "siah1_mut                  object\n",
       "Length: 693, dtype: object"
      ]
     },
     "execution_count": 42,
     "metadata": {},
     "output_type": "execute_result"
    }
   ],
   "source": [
    "df.dtypes"
   ]
  },
  {
   "cell_type": "code",
   "execution_count": 43,
   "metadata": {},
   "outputs": [
    {
     "data": {
      "text/plain": [
       "(array([ 10.,  54., 159., 265., 315., 389., 379., 237.,  86.,  10.]),\n",
       " array([21.93 , 29.366, 36.802, 44.238, 51.674, 59.11 , 66.546, 73.982,\n",
       "        81.418, 88.854, 96.29 ]),\n",
       " <BarContainer object of 10 artists>)"
      ]
     },
     "execution_count": 43,
     "metadata": {},
     "output_type": "execute_result"
    },
    {
     "data": {
      "image/png": "[encoded data removed]",
      "text/plain": [
       "<Figure size 432x288 with 1 Axes>"
      ]
     },
     "metadata": {
      "needs_background": "light"
     },
     "output_type": "display_data"
    }
   ],
   "source": [
    "plt.hist(df['age_at_diagnosis'])"
   ]
  },
  {
   "cell_type": "code",
   "execution_count": 44,
   "metadata": {
    "scrolled": true
   },
   "outputs": [
    {
     "name": "stdout",
     "output_type": "stream",
     "text": [
      "type_of_breast_surgery\n",
      "MASTECTOMY           1127\n",
      "BREAST CONSERVING     755\n",
      "Name: type_of_breast_surgery, dtype: int64\n",
      "nans: 22\n"
     ]
    }
   ],
   "source": [
    "# Tipo de intervención (conteo)\n",
    "print(df.columns[2])\n",
    "\n",
    "\n",
    "value_counts_2 = df.iloc[:,2].value_counts()\n",
    "nan_2 = df.iloc[:,2].isna().sum()\n",
    "print(value_counts_2)\n",
    "print('nans:',nan_2)"
   ]
  },
  {
   "cell_type": "code",
   "execution_count": 45,
   "metadata": {},
   "outputs": [
    {
     "data": {
      "text/plain": [
       "0       No\n",
       "1       No\n",
       "2        1\n",
       "3        1\n",
       "4        1\n",
       "        ..\n",
       "1899    No\n",
       "1900    No\n",
       "1901    No\n",
       "1902    No\n",
       "1903    No\n",
       "Name: chemotherapy, Length: 1904, dtype: object"
      ]
     },
     "execution_count": 45,
     "metadata": {},
     "output_type": "execute_result"
    }
   ],
   "source": [
    "df['chemotherapy'].replace(0, 'No')\n",
    "df['chemotherapy'].replace(1, 'Yes')"
   ]
  },
  {
   "cell_type": "code",
   "execution_count": 46,
   "metadata": {
    "scrolled": true
   },
   "outputs": [
    {
     "name": "stdout",
     "output_type": "stream",
     "text": [
      "2 type_of_breast_surgery\n",
      "MASTECTOMY           1127\n",
      "BREAST CONSERVING     755\n",
      "Name: type_of_breast_surgery, dtype: int64\n",
      "nans: 22 \n",
      "\n",
      "3 cancer_type\n",
      "Breast Cancer     1903\n",
      "Breast Sarcoma       1\n",
      "Name: cancer_type, dtype: int64\n",
      "nans: 0 \n",
      "\n",
      "4 cancer_type_detailed\n",
      "Breast Invasive Ductal Carcinoma             1500\n",
      "Breast Mixed Ductal and Lobular Carcinoma     207\n",
      "Breast Invasive Lobular Carcinoma             142\n",
      "Breast Invasive Mixed Mucinous Carcinoma       22\n",
      "Breast                                         17\n",
      "Metaplastic Breast Cancer                       1\n",
      "Name: cancer_type_detailed, dtype: int64\n",
      "nans: 15 \n",
      "\n",
      "5 cellularity\n",
      "High        939\n",
      "Moderate    711\n",
      "Low         200\n",
      "Name: cellularity, dtype: int64\n",
      "nans: 54 \n",
      "\n",
      "6 chemotherapy\n",
      "0    1508\n",
      "1     396\n",
      "Name: chemotherapy, dtype: int64\n",
      "nans: 0 \n",
      "\n",
      "7 pam50_+_claudin-low_subtype\n",
      "LumA           679\n",
      "LumB           461\n",
      "Her2           220\n",
      "claudin-low    199\n",
      "Basal          199\n",
      "Normal         140\n",
      "NC               6\n",
      "Name: pam50_+_claudin-low_subtype, dtype: int64\n",
      "nans: 0 \n",
      "\n",
      "8 cohort\n",
      "3.0    734\n",
      "1.0    481\n",
      "2.0    286\n",
      "4.0    236\n",
      "5.0    167\n",
      "Name: cohort, dtype: int64\n",
      "nans: 0 \n",
      "\n",
      "9 er_status_measured_by_ihc\n",
      "Positve     1445\n",
      "Negative     429\n",
      "Name: er_status_measured_by_ihc, dtype: int64\n",
      "nans: 30 \n",
      "\n",
      "10 er_status\n",
      "Positive    1459\n",
      "Negative     445\n",
      "Name: er_status, dtype: int64\n",
      "nans: 0 \n",
      "\n",
      "11 neoplasm_histologic_grade\n",
      "3.0    927\n",
      "2.0    740\n",
      "1.0    165\n",
      "Name: neoplasm_histologic_grade, dtype: int64\n",
      "nans: 72 \n",
      "\n",
      "12 her2_status_measured_by_snp6\n",
      "NEUTRAL    1383\n",
      "GAIN        417\n",
      "LOSS        100\n",
      "UNDEF         4\n",
      "Name: her2_status_measured_by_snp6, dtype: int64\n",
      "nans: 0 \n",
      "\n",
      "13 her2_status\n",
      "Negative    1668\n",
      "Positive     236\n",
      "Name: her2_status, dtype: int64\n",
      "nans: 0 \n",
      "\n",
      "14 tumor_other_histologic_subtype\n",
      "Ductal/NST             1454\n",
      "Mixed                   207\n",
      "Lobular                 142\n",
      "Medullary                25\n",
      "Mucinous                 22\n",
      "Tubular/ cribriform      21\n",
      "Other                    17\n",
      "Metaplastic               1\n",
      "Name: tumor_other_histologic_subtype, dtype: int64\n",
      "nans: 15 \n",
      "\n",
      "15 hormone_therapy\n",
      "1    1174\n",
      "0     730\n",
      "Name: hormone_therapy, dtype: int64\n",
      "nans: 0 \n",
      "\n",
      "16 inferred_menopausal_state\n",
      "Post    1493\n",
      "Pre      411\n",
      "Name: inferred_menopausal_state, dtype: int64\n",
      "nans: 0 \n",
      "\n",
      "17 integrative_cluster\n",
      "8       289\n",
      "3       282\n",
      "4ER+    244\n",
      "10      219\n",
      "5       184\n",
      "7       182\n",
      "9       142\n",
      "1       132\n",
      "6        84\n",
      "4ER-     74\n",
      "2        72\n",
      "Name: integrative_cluster, dtype: int64\n",
      "nans: 0 \n",
      "\n",
      "18 primary_tumor_laterality\n",
      "Left     935\n",
      "Right    863\n",
      "Name: primary_tumor_laterality, dtype: int64\n",
      "nans: 106 \n",
      "\n",
      "19 lymph_nodes_examined_positive\n",
      "0.0     993\n",
      "1.0     332\n",
      "2.0     163\n",
      "3.0     109\n",
      "4.0      54\n",
      "6.0      48\n",
      "5.0      43\n",
      "7.0      24\n",
      "8.0      20\n",
      "9.0      15\n",
      "14.0     15\n",
      "10.0     12\n",
      "16.0     11\n",
      "11.0     11\n",
      "12.0      8\n",
      "13.0      7\n",
      "15.0      7\n",
      "18.0      5\n",
      "17.0      4\n",
      "22.0      4\n",
      "21.0      3\n",
      "19.0      3\n",
      "25.0      2\n",
      "24.0      2\n",
      "23.0      2\n",
      "20.0      2\n",
      "33.0      1\n",
      "41.0      1\n",
      "26.0      1\n",
      "31.0      1\n",
      "45.0      1\n",
      "Name: lymph_nodes_examined_positive, dtype: int64\n",
      "nans: 0 \n",
      "\n",
      "20 mutation_count\n",
      "5.0     268\n",
      "4.0     248\n",
      "6.0     232\n",
      "3.0     229\n",
      "2.0     193\n",
      "7.0     168\n",
      "8.0     121\n",
      "1.0     107\n",
      "9.0      90\n",
      "10.0     61\n",
      "11.0     38\n",
      "12.0     25\n",
      "13.0     17\n",
      "14.0     16\n",
      "15.0     11\n",
      "16.0      8\n",
      "17.0      5\n",
      "22.0      4\n",
      "20.0      4\n",
      "19.0      2\n",
      "23.0      2\n",
      "18.0      2\n",
      "21.0      1\n",
      "28.0      1\n",
      "26.0      1\n",
      "24.0      1\n",
      "40.0      1\n",
      "46.0      1\n",
      "30.0      1\n",
      "80.0      1\n",
      "Name: mutation_count, dtype: int64\n",
      "nans: 45 \n",
      "\n",
      "21 nottingham_prognostic_index\n",
      "4.0400    84\n",
      "3.0400    70\n",
      "4.0500    58\n",
      "4.0300    56\n",
      "3.0300    53\n",
      "          ..\n",
      "5.1800     1\n",
      "3.0160     1\n",
      "4.0652     1\n",
      "3.0046     1\n",
      "5.0100     1\n",
      "Name: nottingham_prognostic_index, Length: 310, dtype: int64\n",
      "nans: 0 \n",
      "\n",
      "22 oncotree_code\n",
      "IDC       1500\n",
      "MDLC       207\n",
      "ILC        142\n",
      "IMMC        22\n",
      "BREAST      17\n",
      "MBC          1\n",
      "Name: oncotree_code, dtype: int64\n",
      "nans: 15 \n",
      "\n",
      "23 overall_survival_months\n",
      "192.200000    4\n",
      "150.600000    3\n",
      "128.366667    3\n",
      "152.066667    3\n",
      "19.733333     3\n",
      "             ..\n",
      "89.900000     1\n",
      "49.300000     1\n",
      "91.100000     1\n",
      "80.833333     1\n",
      "252.300000    1\n",
      "Name: overall_survival_months, Length: 1685, dtype: int64\n",
      "nans: 0 \n",
      "\n",
      "24 overall_survival\n",
      "0    1103\n",
      "1     801\n",
      "Name: overall_survival, dtype: int64\n",
      "nans: 0 \n",
      "\n",
      "25 pr_status\n",
      "Positive    1009\n",
      "Negative     895\n",
      "Name: pr_status, dtype: int64\n",
      "nans: 0 \n",
      "\n",
      "26 radio_therapy\n",
      "1    1137\n",
      "0     767\n",
      "Name: radio_therapy, dtype: int64\n",
      "nans: 0 \n",
      "\n",
      "27 3-gene_classifier_subtype\n",
      "ER+/HER2- Low Prolif     619\n",
      "ER+/HER2- High Prolif    603\n",
      "ER-/HER2-                290\n",
      "HER2+                    188\n",
      "Name: 3-gene_classifier_subtype, dtype: int64\n",
      "nans: 204 \n",
      "\n",
      "28 tumor_size\n",
      "20.00    229\n",
      "25.00    166\n",
      "30.00    155\n",
      "15.00    147\n",
      "18.00     75\n",
      "        ... \n",
      "13.80      1\n",
      "25.10      1\n",
      "2.12       1\n",
      "17.20      1\n",
      "5.50       1\n",
      "Name: tumor_size, Length: 111, dtype: int64\n",
      "nans: 20 \n",
      "\n",
      "29 tumor_stage\n",
      "2.0    800\n",
      "1.0    475\n",
      "3.0    115\n",
      "4.0      9\n",
      "0.0      4\n",
      "Name: tumor_stage, dtype: int64\n",
      "nans: 501 \n",
      "\n",
      "30 death_from_cancer\n",
      "Living                  801\n",
      "Died of Disease         622\n",
      "Died of Other Causes    480\n",
      "Name: death_from_cancer, dtype: int64\n",
      "nans: 1 \n",
      "\n"
     ]
    }
   ],
   "source": [
    "for i in range(2,31):\n",
    "    print(i, df.columns[i])\n",
    "    value_counts = df.iloc[:,i].value_counts()\n",
    "    nan = df.iloc[:,i].isna().sum()\n",
    "    print(value_counts)\n",
    "    print('nans:',nan, '\\n')"
   ]
  },
  {
   "cell_type": "code",
   "execution_count": 24,
   "metadata": {},
   "outputs": [
    {
     "data": {
      "text/plain": [
       "'death_from_cancer'"
      ]
     },
     "execution_count": 24,
     "metadata": {},
     "output_type": "execute_result"
    }
   ],
   "source": [
    "df.columns[30]"
   ]
  },
  {
   "cell_type": "code",
   "execution_count": null,
   "metadata": {},
   "outputs": [],
   "source": [
    "print(df.columns[4])\n",
    "value_counts_4 = df.iloc[:,4].value_counts()\n",
    "nan_4 = df.iloc[:,4].isna().sum()\n",
    "print(value_counts_4)\n",
    "print('nans:',nan_4)"
   ]
  },
  {
   "cell_type": "code",
   "execution_count": null,
   "metadata": {},
   "outputs": [],
   "source": [
    "print(df.columns[5])\n",
    "value_counts_5 = df.iloc[:,5].value_counts()\n",
    "nan_5 = df.iloc[:,5].isna().sum()\n",
    "print(value_counts_5)\n",
    "print('nans:',nan_5)"
   ]
  },
  {
   "cell_type": "code",
   "execution_count": null,
   "metadata": {},
   "outputs": [],
   "source": [
    "print(df.columns[6])\n",
    "value_counts_6 = df.iloc[:,6].value_counts()\n",
    "nan_6 = df.iloc[:,6].isna().sum()\n",
    "print(value_counts_6)\n",
    "print('nans:',nan_6)"
   ]
  },
  {
   "cell_type": "code",
   "execution_count": null,
   "metadata": {},
   "outputs": [],
   "source": [
    "print(df.columns[7])\n",
    "value_counts_7 = df.iloc[:,7].value_counts()\n",
    "nan_7 = df.iloc[:,5].isna().sum()\n",
    "print(value_counts_7)\n",
    "print('nans:',nan_7)"
   ]
  },
  {
   "cell_type": "code",
   "execution_count": null,
   "metadata": {},
   "outputs": [],
   "source": [
    "print(df.columns[8])\n",
    "value_counts_8 = df.iloc[:,8].value_counts()\n",
    "nan_8 = df.iloc[:,8].isna().sum()\n",
    "print(value_counts_8)\n",
    "print('nans:',nan_8)"
   ]
  },
  {
   "cell_type": "code",
   "execution_count": null,
   "metadata": {},
   "outputs": [],
   "source": [
    "print(df.columns[9])\n",
    "value_counts_9 = df.iloc[:,9].value_counts()\n",
    "nan_9 = df.iloc[:,9].isna().sum()\n",
    "print(value_counts_9)\n",
    "print('nans:',nan_9)"
   ]
  },
  {
   "cell_type": "code",
   "execution_count": null,
   "metadata": {},
   "outputs": [],
   "source": [
    "print(df.columns[10])\n",
    "value_counts_10 = df.iloc[:,10].value_counts()\n",
    "nan_10 = df.iloc[:,10].isna().sum()\n",
    "print(value_counts_10)\n",
    "print('nans:',nan_10)"
   ]
  },
  {
   "cell_type": "code",
   "execution_count": null,
   "metadata": {},
   "outputs": [],
   "source": [
    "print(df.columns[11])\n",
    "value_counts_11 = df.iloc[:,11].value_counts()\n",
    "nan_11 = df.iloc[:,11].isna().sum()\n",
    "print(value_counts_11)\n",
    "print('nans:',nan_11)"
   ]
  },
  {
   "cell_type": "code",
   "execution_count": null,
   "metadata": {},
   "outputs": [],
   "source": [
    "print(df.columns[11])\n",
    "value_counts_11 = df.iloc[:,11].value_counts()\n",
    "nan_11 = df.iloc[:,11].isna().sum()\n",
    "print(value_counts_10)\n",
    "print('nans:',nan_10)"
   ]
  },
  {
   "cell_type": "code",
   "execution_count": null,
   "metadata": {},
   "outputs": [],
   "source": []
  }
 ],
 "metadata": {
  "kernelspec": {
   "display_name": "Python 3",
   "language": "python",
   "name": "python3"
  },
  "language_info": {
   "codemirror_mode": {
    "name": "ipython",
    "version": 3
   },
   "file_extension": ".py",
   "mimetype": "text/x-python",
   "name": "python",
   "nbconvert_exporter": "python",
   "pygments_lexer": "ipython3",
   "version": "3.8.5"
  }
 },
 "nbformat": 4,
 "nbformat_minor": 4
}
