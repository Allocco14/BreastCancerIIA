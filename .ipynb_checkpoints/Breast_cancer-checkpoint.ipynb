{
 "cells": [
  {
   "cell_type": "markdown",
   "metadata": {},
   "source": [
    "# Análisis de datos genéticos de cáncer de seno\n",
    "## Importación de librerías"
   ]
  },
  {
   "cell_type": "code",
   "execution_count": 49,
   "metadata": {},
   "outputs": [],
   "source": [
    "import pandas as pd\n",
    "import numpy as np\n",
    "import tensorflow as tf\n",
    "import matplotlib as mpl\n",
    "import matplotlib.pyplot as plt\n",
<<<<<<< Updated upstream
    "import re\n",
    "\n",
=======
    "import seaborn as sns\n",
    "import collections\n",
>>>>>>> Stashed changes
    "from sklearn import datasets\n",
    "from sklearn.linear_model import LogisticRegression\n",
    "from sklearn.preprocessing import OneHotEncoder, LabelBinarizer\n",
    "\n",
    "\n",
    "import seaborn as sns\n",
    "from sklearn import metrics"
   ]
  },
  {
   "cell_type": "markdown",
   "metadata": {},
   "source": [
    "## Carga de datos"
   ]
  },
  {
   "cell_type": "code",
   "execution_count": 50,
   "metadata": {
    "scrolled": true
   },
   "outputs": [
    {
     "name": "stderr",
     "output_type": "stream",
     "text": [
<<<<<<< Updated upstream
      "C:\\Users\\achav\\AppData\\Local\\Temp\\ipykernel_7532\\1524619863.py:1: DtypeWarning: Columns (678,688,690,692) have mixed types. Specify dtype option on import or set low_memory=False.\n",
=======
      "/tmp/ipykernel_6655/1524619863.py:1: DtypeWarning: Columns (679,689,691,693) have mixed types. Specify dtype option on import or set low_memory=False.\n",
>>>>>>> Stashed changes
      "  df = pd.read_csv('METABRIC_RNA_MUTATION.csv')\n"
     ]
    }
   ],
   "source": [
    "df = pd.read_csv('METABRIC_RNA_MUTATION.csv')"
   ]
  },
  {
   "cell_type": "markdown",
   "metadata": {},
   "source": [
    "## Encabezado de la tabla"
   ]
  },
  {
   "cell_type": "code",
   "execution_count": 51,
   "metadata": {},
   "outputs": [
    {
     "data": {
      "text/html": [
       "<div>\n",
       "<style scoped>\n",
       "    .dataframe tbody tr th:only-of-type {\n",
       "        vertical-align: middle;\n",
       "    }\n",
       "\n",
       "    .dataframe tbody tr th {\n",
       "        vertical-align: top;\n",
       "    }\n",
       "\n",
       "    .dataframe thead th {\n",
       "        text-align: right;\n",
       "    }\n",
       "</style>\n",
       "<table border=\"1\" class=\"dataframe\">\n",
       "  <thead>\n",
       "    <tr style=\"text-align: right;\">\n",
       "      <th></th>\n",
       "      <th>patient_id</th>\n",
       "      <th>age_at_diagnosis</th>\n",
       "      <th>type_of_breast_surgery</th>\n",
       "      <th>cancer_type</th>\n",
       "      <th>cancer_type_detailed</th>\n",
       "      <th>cellularity</th>\n",
       "      <th>chemotherapy</th>\n",
       "      <th>pam50_+_claudin-low_subtype</th>\n",
       "      <th>cohort</th>\n",
       "      <th>er_status_measured_by_ihc</th>\n",
       "      <th>...</th>\n",
       "      <th>mtap_mut</th>\n",
       "      <th>ppp2cb_mut</th>\n",
       "      <th>smarcd1_mut</th>\n",
       "      <th>nras_mut</th>\n",
       "      <th>ndfip1_mut</th>\n",
       "      <th>hras_mut</th>\n",
       "      <th>prps2_mut</th>\n",
       "      <th>smarcb1_mut</th>\n",
       "      <th>stmn2_mut</th>\n",
       "      <th>siah1_mut</th>\n",
       "    </tr>\n",
       "  </thead>\n",
       "  <tbody>\n",
       "    <tr>\n",
       "      <th>0</th>\n",
       "      <td>0</td>\n",
       "      <td>75.65</td>\n",
       "      <td>MASTECTOMY</td>\n",
       "      <td>Breast Cancer</td>\n",
       "      <td>Breast Invasive Ductal Carcinoma</td>\n",
       "      <td>NaN</td>\n",
       "      <td>0</td>\n",
       "      <td>claudin-low</td>\n",
       "      <td>1</td>\n",
       "      <td>Positve</td>\n",
       "      <td>...</td>\n",
       "      <td>0</td>\n",
       "      <td>0</td>\n",
       "      <td>0</td>\n",
       "      <td>0</td>\n",
       "      <td>0</td>\n",
       "      <td>0</td>\n",
       "      <td>0</td>\n",
       "      <td>0</td>\n",
       "      <td>0</td>\n",
       "      <td>0</td>\n",
       "    </tr>\n",
       "    <tr>\n",
       "      <th>1</th>\n",
       "      <td>2</td>\n",
       "      <td>43.19</td>\n",
       "      <td>BREAST CONSERVING</td>\n",
       "      <td>Breast Cancer</td>\n",
       "      <td>Breast Invasive Ductal Carcinoma</td>\n",
       "      <td>High</td>\n",
       "      <td>0</td>\n",
       "      <td>LumA</td>\n",
       "      <td>1</td>\n",
       "      <td>Positve</td>\n",
       "      <td>...</td>\n",
       "      <td>0</td>\n",
       "      <td>0</td>\n",
       "      <td>0</td>\n",
       "      <td>0</td>\n",
       "      <td>0</td>\n",
       "      <td>0</td>\n",
       "      <td>0</td>\n",
       "      <td>0</td>\n",
       "      <td>0</td>\n",
       "      <td>0</td>\n",
       "    </tr>\n",
       "    <tr>\n",
       "      <th>2</th>\n",
       "      <td>5</td>\n",
       "      <td>48.87</td>\n",
       "      <td>MASTECTOMY</td>\n",
       "      <td>Breast Cancer</td>\n",
       "      <td>Breast Invasive Ductal Carcinoma</td>\n",
       "      <td>High</td>\n",
       "      <td>1</td>\n",
       "      <td>LumB</td>\n",
       "      <td>1</td>\n",
       "      <td>Positve</td>\n",
       "      <td>...</td>\n",
       "      <td>0</td>\n",
       "      <td>0</td>\n",
       "      <td>0</td>\n",
       "      <td>0</td>\n",
       "      <td>0</td>\n",
       "      <td>0</td>\n",
       "      <td>0</td>\n",
       "      <td>0</td>\n",
       "      <td>0</td>\n",
       "      <td>0</td>\n",
       "    </tr>\n",
       "    <tr>\n",
       "      <th>3</th>\n",
       "      <td>6</td>\n",
       "      <td>47.68</td>\n",
       "      <td>MASTECTOMY</td>\n",
       "      <td>Breast Cancer</td>\n",
       "      <td>Breast Mixed Ductal and Lobular Carcinoma</td>\n",
       "      <td>Moderate</td>\n",
       "      <td>1</td>\n",
       "      <td>LumB</td>\n",
       "      <td>1</td>\n",
       "      <td>Positve</td>\n",
       "      <td>...</td>\n",
       "      <td>0</td>\n",
       "      <td>0</td>\n",
       "      <td>0</td>\n",
       "      <td>0</td>\n",
       "      <td>0</td>\n",
       "      <td>0</td>\n",
       "      <td>0</td>\n",
       "      <td>0</td>\n",
       "      <td>0</td>\n",
       "      <td>0</td>\n",
       "    </tr>\n",
       "    <tr>\n",
       "      <th>4</th>\n",
       "      <td>8</td>\n",
       "      <td>76.97</td>\n",
       "      <td>MASTECTOMY</td>\n",
       "      <td>Breast Cancer</td>\n",
       "      <td>Breast Mixed Ductal and Lobular Carcinoma</td>\n",
       "      <td>High</td>\n",
       "      <td>1</td>\n",
       "      <td>LumB</td>\n",
       "      <td>1</td>\n",
       "      <td>Positve</td>\n",
       "      <td>...</td>\n",
       "      <td>0</td>\n",
       "      <td>0</td>\n",
       "      <td>0</td>\n",
       "      <td>0</td>\n",
       "      <td>0</td>\n",
       "      <td>0</td>\n",
       "      <td>0</td>\n",
       "      <td>0</td>\n",
       "      <td>0</td>\n",
       "      <td>0</td>\n",
       "    </tr>\n",
       "  </tbody>\n",
       "</table>\n",
       "<p>5 rows × 694 columns</p>\n",
       "</div>"
      ],
      "text/plain": [
       "   patient_id  age_at_diagnosis type_of_breast_surgery    cancer_type   \n",
       "0           0             75.65             MASTECTOMY  Breast Cancer  \\\n",
       "1           2             43.19      BREAST CONSERVING  Breast Cancer   \n",
       "2           5             48.87             MASTECTOMY  Breast Cancer   \n",
       "3           6             47.68             MASTECTOMY  Breast Cancer   \n",
       "4           8             76.97             MASTECTOMY  Breast Cancer   \n",
       "\n",
       "                        cancer_type_detailed cellularity  chemotherapy   \n",
       "0           Breast Invasive Ductal Carcinoma         NaN             0  \\\n",
       "1           Breast Invasive Ductal Carcinoma        High             0   \n",
       "2           Breast Invasive Ductal Carcinoma        High             1   \n",
       "3  Breast Mixed Ductal and Lobular Carcinoma    Moderate             1   \n",
       "4  Breast Mixed Ductal and Lobular Carcinoma        High             1   \n",
       "\n",
       "  pam50_+_claudin-low_subtype  cohort er_status_measured_by_ihc  ... mtap_mut   \n",
       "0                 claudin-low       1                   Positve  ...        0  \\\n",
       "1                        LumA       1                   Positve  ...        0   \n",
       "2                        LumB       1                   Positve  ...        0   \n",
       "3                        LumB       1                   Positve  ...        0   \n",
       "4                        LumB       1                   Positve  ...        0   \n",
       "\n",
       "   ppp2cb_mut smarcd1_mut nras_mut ndfip1_mut  hras_mut prps2_mut smarcb1_mut   \n",
       "0           0           0        0          0         0         0           0  \\\n",
       "1           0           0        0          0         0         0           0   \n",
       "2           0           0        0          0         0         0           0   \n",
       "3           0           0        0          0         0         0           0   \n",
       "4           0           0        0          0         0         0           0   \n",
       "\n",
       "  stmn2_mut  siah1_mut  \n",
       "0         0          0  \n",
       "1         0          0  \n",
       "2         0          0  \n",
       "3         0          0  \n",
       "4         0          0  \n",
       "\n",
       "[5 rows x 694 columns]"
      ]
     },
     "execution_count": 51,
     "metadata": {},
     "output_type": "execute_result"
    }
   ],
   "source": [
    "df.head()"
   ]
  },
  {
   "cell_type": "markdown",
   "metadata": {},
   "source": [
    "## Forma y columnas de los datos"
   ]
  },
  {
   "cell_type": "code",
   "execution_count": 52,
   "metadata": {},
   "outputs": [
    {
     "name": "stdout",
     "output_type": "stream",
     "text": [
      "(1904, 694)\n",
      "Index(['patient_id', 'age_at_diagnosis', 'type_of_breast_surgery',\n",
      "       'cancer_type', 'cancer_type_detailed', 'cellularity', 'chemotherapy',\n",
      "       'pam50_+_claudin-low_subtype', 'cohort', 'er_status_measured_by_ihc',\n",
      "       ...\n",
      "       'mtap_mut', 'ppp2cb_mut', 'smarcd1_mut', 'nras_mut', 'ndfip1_mut',\n",
      "       'hras_mut', 'prps2_mut', 'smarcb1_mut', 'stmn2_mut', 'siah1_mut'],\n",
      "      dtype='object', length=694)\n"
     ]
    }
   ],
   "source": [
    "print(df.shape)\n",
    "print(df.columns)"
   ]
  },
  {
   "cell_type": "markdown",
   "metadata": {},
   "source": [
    "## Tipos de datos de cada columna"
   ]
  },
  {
   "cell_type": "code",
   "execution_count": 53,
   "metadata": {},
   "outputs": [
    {
     "data": {
      "text/plain": [
       "patient_id                  int64\n",
       "age_at_diagnosis          float64\n",
       "type_of_breast_surgery     object\n",
       "cancer_type                object\n",
       "cancer_type_detailed       object\n",
       "                           ...   \n",
       "hras_mut                   object\n",
       "prps2_mut                  object\n",
       "smarcb1_mut                object\n",
       "stmn2_mut                  object\n",
       "siah1_mut                  object\n",
       "Length: 694, dtype: object"
      ]
     },
     "execution_count": 53,
     "metadata": {},
     "output_type": "execute_result"
    }
   ],
   "source": [
    "df.dtypes"
   ]
  },
  {
   "cell_type": "markdown",
   "metadata": {},
   "source": [
    "## Algunas columnas muestran una alerta de diferentes tipos de datos"
   ]
  },
  {
   "cell_type": "code",
   "execution_count": 54,
   "metadata": {},
   "outputs": [
    {
     "data": {
      "text/plain": [
       "array(['spaca1_mut', 'ndfip1_mut', 'prps2_mut', 'stmn2_mut'], dtype=object)"
      ]
     },
     "execution_count": 54,
     "metadata": {},
     "output_type": "execute_result"
    }
   ],
   "source": [
    "df.columns.values[[678, 688, 690, 692]]"
   ]
  },
  {
   "cell_type": "code",
   "execution_count": 55,
   "metadata": {
    "scrolled": true
   },
   "outputs": [
    {
     "data": {
      "text/plain": [
       "rasgef1b_mut    object\n",
       "hras_mut        object\n",
       "smarcb1_mut     object\n",
       "siah1_mut       object\n",
       "dtype: object"
      ]
     },
     "execution_count": 55,
     "metadata": {},
     "output_type": "execute_result"
    }
   ],
   "source": [
    "df[['rasgef1b_mut', 'hras_mut', 'smarcb1_mut', 'siah1_mut']].dtypes"
   ]
  },
  {
   "cell_type": "markdown",
   "metadata": {},
   "source": [
    "## Descripcion de las variables con la alerta"
   ]
  },
  {
   "cell_type": "code",
   "execution_count": 56,
   "metadata": {},
   "outputs": [
    {
     "data": {
      "text/html": [
       "<div>\n",
       "<style scoped>\n",
       "    .dataframe tbody tr th:only-of-type {\n",
       "        vertical-align: middle;\n",
       "    }\n",
       "\n",
       "    .dataframe tbody tr th {\n",
       "        vertical-align: top;\n",
       "    }\n",
       "\n",
       "    .dataframe thead th {\n",
       "        text-align: right;\n",
       "    }\n",
       "</style>\n",
       "<table border=\"1\" class=\"dataframe\">\n",
       "  <thead>\n",
       "    <tr style=\"text-align: right;\">\n",
       "      <th></th>\n",
       "      <th>rasgef1b_mut</th>\n",
       "      <th>hras_mut</th>\n",
       "      <th>smarcb1_mut</th>\n",
       "      <th>siah1_mut</th>\n",
       "    </tr>\n",
       "  </thead>\n",
       "  <tbody>\n",
       "    <tr>\n",
       "      <th>count</th>\n",
       "      <td>1904</td>\n",
       "      <td>1904</td>\n",
       "      <td>1904</td>\n",
       "      <td>1904</td>\n",
       "    </tr>\n",
       "    <tr>\n",
       "      <th>unique</th>\n",
       "      <td>9</td>\n",
       "      <td>4</td>\n",
       "      <td>4</td>\n",
       "      <td>3</td>\n",
       "    </tr>\n",
       "    <tr>\n",
       "      <th>top</th>\n",
       "      <td>0</td>\n",
       "      <td>0</td>\n",
       "      <td>0</td>\n",
       "      <td>0</td>\n",
       "    </tr>\n",
       "    <tr>\n",
       "      <th>freq</th>\n",
       "      <td>1024</td>\n",
       "      <td>1024</td>\n",
       "      <td>1024</td>\n",
       "      <td>1024</td>\n",
       "    </tr>\n",
       "  </tbody>\n",
       "</table>\n",
       "</div>"
      ],
      "text/plain": [
       "        rasgef1b_mut  hras_mut  smarcb1_mut  siah1_mut\n",
       "count           1904      1904         1904       1904\n",
       "unique             9         4            4          3\n",
       "top                0         0            0          0\n",
       "freq            1024      1024         1024       1024"
      ]
     },
     "execution_count": 56,
     "metadata": {},
     "output_type": "execute_result"
    }
   ],
   "source": [
    "df[['rasgef1b_mut', 'hras_mut', 'smarcb1_mut', 'siah1_mut']].describe()"
   ]
  },
  {
   "cell_type": "markdown",
   "metadata": {},
   "source": [
    "## Las variables con la alerta indican mutaciones en los genes correspondientes. 0 = no mutacion ; x = mutacion hay valores de 0 como caracter. Estas columnas habrá que binarizarlas."
   ]
  },
  {
   "cell_type": "code",
   "execution_count": 57,
   "metadata": {
    "scrolled": false
   },
   "outputs": [
    {
     "name": "stdout",
     "output_type": "stream",
     "text": [
      "[0 '0' 'V418A' 'S343G' 'R140Q' 'X2_splice' 'R353H' 'H396Y' 'E78K']\n",
      "[0 '0' 'Q61R' 'N86T']\n",
      "[0 '0' 'D159N' 'I28L']\n",
      "[0 '0' 'T249A']\n"
     ]
    }
   ],
   "source": [
    "print(df['rasgef1b_mut'].unique())\n",
    "print(df['hras_mut'].unique())\n",
    "print(df['smarcb1_mut'].unique())\n",
    "print(df['siah1_mut'].unique())"
   ]
  },
  {
   "cell_type": "markdown",
   "metadata": {},
   "source": [
    "## Empezamos haciendo la conversión de '0' a 0 para todas las columnas donde había ambigüedad"
   ]
  },
  {
   "cell_type": "code",
   "execution_count": 58,
   "metadata": {},
   "outputs": [],
   "source": [
    "df[['rasgef1b_mut', 'hras_mut', 'smarcb1_mut', 'siah1_mut']] = df[['rasgef1b_mut', 'hras_mut', 'smarcb1_mut', 'siah1_mut']].replace(['0'], 0)"
   ]
  },
  {
   "cell_type": "code",
   "execution_count": 59,
   "metadata": {
    "scrolled": false
   },
   "outputs": [
    {
     "name": "stdout",
     "output_type": "stream",
     "text": [
      "[0 'V418A' 'S343G' 'R140Q' 'X2_splice' 'R353H' 'H396Y' 'E78K']\n",
      "[0 'Q61R' 'N86T']\n",
      "[0 'D159N' 'I28L']\n",
      "[0 'T249A']\n"
     ]
    }
   ],
   "source": [
    "print(df['rasgef1b_mut'].unique())\n",
    "print(df['hras_mut'].unique())\n",
    "print(df['smarcb1_mut'].unique())\n",
    "print(df['siah1_mut'].unique())"
   ]
  },
  {
   "cell_type": "markdown",
   "metadata": {},
   "source": [
    "## Algoritmo de binarización aplicado a mutaciones"
   ]
  },
  {
   "cell_type": "code",
   "execution_count": 60,
   "metadata": {},
   "outputs": [],
   "source": [
    "for mut in df['rasgef1b_mut'].unique():\n",
    "    if mut != 0:\n",
    "        column = df['rasgef1b_mut'] == mut\n",
    "        column = column.replace([False], 0).replace([True],1)\n",
    "        df[mut] = column"
   ]
  },
  {
   "cell_type": "markdown",
   "metadata": {},
   "source": [
    "## Histograma de edad de diagnóstico"
   ]
  },
  {
   "cell_type": "code",
   "execution_count": 61,
   "metadata": {},
   "outputs": [
    {
     "data": {
      "text/plain": [
       "(array([ 10.,  54., 159., 265., 315., 389., 379., 237.,  86.,  10.]),\n",
       " array([21.93 , 29.366, 36.802, 44.238, 51.674, 59.11 , 66.546, 73.982,\n",
       "        81.418, 88.854, 96.29 ]),\n",
       " <BarContainer object of 10 artists>)"
      ]
     },
     "execution_count": 61,
     "metadata": {},
     "output_type": "execute_result"
    },
    {
     "data": {
<<<<<<< Updated upstream
      "image/png": "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\n",
=======
      "image/png": "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",
>>>>>>> Stashed changes
      "text/plain": [
       "<Figure size 640x480 with 1 Axes>"
      ]
     },
     "metadata": {},
     "output_type": "display_data"
    }
   ],
   "source": [
    "plt.hist(df['age_at_diagnosis'])"
   ]
  },
  {
   "cell_type": "markdown",
   "metadata": {},
   "source": [
    "## Descripción de edad de diagnóstico"
   ]
  },
  {
   "cell_type": "code",
   "execution_count": 62,
   "metadata": {
    "scrolled": true
   },
   "outputs": [
    {
     "data": {
      "text/plain": [
       "count    1904.000000\n",
       "mean       61.087054\n",
       "std        12.978711\n",
       "min        21.930000\n",
       "25%        51.375000\n",
       "50%        61.770000\n",
       "75%        70.592500\n",
       "max        96.290000\n",
       "Name: age_at_diagnosis, dtype: float64"
      ]
     },
     "execution_count": 62,
     "metadata": {},
     "output_type": "execute_result"
    }
   ],
   "source": [
    "df['age_at_diagnosis'].describe()"
   ]
  },
  {
   "cell_type": "markdown",
   "metadata": {},
   "source": [
    "## Conteo de valores de las variables no genéticas"
   ]
  },
  {
   "cell_type": "code",
   "execution_count": 63,
   "metadata": {
    "scrolled": true
   },
   "outputs": [
    {
     "name": "stdout",
     "output_type": "stream",
     "text": [
      "2 type_of_breast_surgery\n",
      "type_of_breast_surgery\n",
      "MASTECTOMY           1127\n",
      "BREAST CONSERVING     755\n",
      "Name: count, dtype: int64\n",
      "nans: 22 \n",
      "\n",
      "3 cancer_type\n",
      "cancer_type\n",
      "Breast Cancer     1903\n",
      "Breast Sarcoma       1\n",
      "Name: count, dtype: int64\n",
      "nans: 0 \n",
      "\n",
      "4 cancer_type_detailed\n",
      "cancer_type_detailed\n",
      "Breast Invasive Ductal Carcinoma             1500\n",
      "Breast Mixed Ductal and Lobular Carcinoma     207\n",
      "Breast Invasive Lobular Carcinoma             142\n",
      "Breast Invasive Mixed Mucinous Carcinoma       22\n",
      "Breast                                         17\n",
      "Metaplastic Breast Cancer                       1\n",
      "Name: count, dtype: int64\n",
      "nans: 15 \n",
      "\n",
      "5 cellularity\n",
      "cellularity\n",
      "High        939\n",
      "Moderate    711\n",
      "Low         200\n",
      "Name: count, dtype: int64\n",
      "nans: 54 \n",
      "\n",
      "6 chemotherapy\n",
      "chemotherapy\n",
      "0    1508\n",
      "1     396\n",
      "Name: count, dtype: int64\n",
      "nans: 0 \n",
      "\n",
      "7 pam50_+_claudin-low_subtype\n",
      "pam50_+_claudin-low_subtype\n",
      "LumA           679\n",
      "LumB           461\n",
      "Her2           220\n",
      "claudin-low    199\n",
      "Basal          199\n",
      "Normal         140\n",
      "NC               6\n",
      "Name: count, dtype: int64\n",
      "nans: 0 \n",
      "\n",
      "8 cohort\n",
      "cohort\n",
      "3    734\n",
      "1    481\n",
      "2    286\n",
      "4    236\n",
      "5    167\n",
      "Name: count, dtype: int64\n",
      "nans: 0 \n",
      "\n",
      "9 er_status_measured_by_ihc\n",
      "er_status_measured_by_ihc\n",
      "Positve     1445\n",
      "Negative     429\n",
      "Name: count, dtype: int64\n",
      "nans: 30 \n",
      "\n",
      "10 er_status\n",
      "er_status\n",
      "Positive    1459\n",
      "Negative     445\n",
      "Name: count, dtype: int64\n",
      "nans: 0 \n",
      "\n",
      "11 neoplasm_histologic_grade\n",
      "neoplasm_histologic_grade\n",
      "3.0    927\n",
      "2.0    740\n",
      "1.0    165\n",
      "Name: count, dtype: int64\n",
      "nans: 72 \n",
      "\n",
      "12 her2_status_measured_by_snp6\n",
      "her2_status_measured_by_snp6\n",
      "NEUTRAL    1383\n",
      "GAIN        417\n",
      "LOSS        100\n",
      "UNDEF         4\n",
      "Name: count, dtype: int64\n",
      "nans: 0 \n",
      "\n",
      "13 her2_status\n",
      "her2_status\n",
      "Negative    1668\n",
      "Positive     236\n",
      "Name: count, dtype: int64\n",
      "nans: 0 \n",
      "\n",
      "14 tumor_other_histologic_subtype\n",
      "tumor_other_histologic_subtype\n",
      "Ductal/NST             1454\n",
      "Mixed                   207\n",
      "Lobular                 142\n",
      "Medullary                25\n",
      "Mucinous                 22\n",
      "Tubular/ cribriform      21\n",
      "Other                    17\n",
      "Metaplastic               1\n",
      "Name: count, dtype: int64\n",
      "nans: 15 \n",
      "\n",
      "15 hormone_therapy\n",
      "hormone_therapy\n",
      "1    1174\n",
      "0     730\n",
      "Name: count, dtype: int64\n",
      "nans: 0 \n",
      "\n",
      "16 inferred_menopausal_state\n",
      "inferred_menopausal_state\n",
      "Post    1493\n",
      "Pre      411\n",
      "Name: count, dtype: int64\n",
      "nans: 0 \n",
      "\n",
      "17 integrative_cluster\n",
      "integrative_cluster\n",
      "8       289\n",
      "3       282\n",
      "4ER+    244\n",
      "10      219\n",
      "5       184\n",
      "7       182\n",
      "9       142\n",
      "1       132\n",
      "6        84\n",
      "4ER-     74\n",
      "2        72\n",
      "Name: count, dtype: int64\n",
      "nans: 0 \n",
      "\n",
      "18 primary_tumor_laterality\n",
      "primary_tumor_laterality\n",
      "Left     935\n",
      "Right    863\n",
      "Name: count, dtype: int64\n",
      "nans: 106 \n",
      "\n",
      "19 lymph_nodes_examined_positive\n",
      "lymph_nodes_examined_positive\n",
      "0     993\n",
      "1     332\n",
      "2     163\n",
      "3     109\n",
      "4      54\n",
      "6      48\n",
      "5      43\n",
      "7      24\n",
      "8      20\n",
      "14     15\n",
      "9      15\n",
      "10     12\n",
      "11     11\n",
      "16     11\n",
      "12      8\n",
      "13      7\n",
      "15      7\n",
      "18      5\n",
      "22      4\n",
      "17      4\n",
      "19      3\n",
      "21      3\n",
      "25      2\n",
      "24      2\n",
      "23      2\n",
      "20      2\n",
      "41      1\n",
      "26      1\n",
      "31      1\n",
      "33      1\n",
      "45      1\n",
      "Name: count, dtype: int64\n",
      "nans: 0 \n",
      "\n",
      "20 mutation_count\n",
      "mutation_count\n",
      "5.0     268\n",
      "4.0     248\n",
      "6.0     232\n",
      "3.0     229\n",
      "2.0     193\n",
      "7.0     168\n",
      "8.0     121\n",
      "1.0     107\n",
      "9.0      90\n",
      "10.0     61\n",
      "11.0     38\n",
      "12.0     25\n",
      "13.0     17\n",
      "14.0     16\n",
      "15.0     11\n",
      "16.0      8\n",
      "17.0      5\n",
      "20.0      4\n",
      "22.0      4\n",
      "19.0      2\n",
      "23.0      2\n",
      "18.0      2\n",
      "40.0      1\n",
      "30.0      1\n",
      "46.0      1\n",
      "21.0      1\n",
      "24.0      1\n",
      "26.0      1\n",
      "28.0      1\n",
      "80.0      1\n",
      "Name: count, dtype: int64\n",
      "nans: 45 \n",
      "\n",
      "21 nottingham_prognostic_index\n",
      "nottingham_prognostic_index\n",
      "4.040    84\n",
      "3.040    70\n",
      "4.050    58\n",
      "4.030    56\n",
      "3.030    53\n",
      "         ..\n",
      "5.072     1\n",
      "5.086     1\n",
      "6.104     1\n",
      "6.088     1\n",
      "5.041     1\n",
      "Name: count, Length: 310, dtype: int64\n",
      "nans: 0 \n",
      "\n",
      "22 oncotree_code\n",
      "oncotree_code\n",
      "IDC       1500\n",
      "MDLC       207\n",
      "ILC        142\n",
      "IMMC        22\n",
      "BREAST      17\n",
      "MBC          1\n",
      "Name: count, dtype: int64\n",
      "nans: 15 \n",
      "\n",
      "23 overall_survival_months\n",
      "overall_survival_months\n",
      "192.200000    4\n",
      "96.966667     3\n",
      "152.066667    3\n",
      "119.466667    3\n",
      "102.066667    3\n",
      "             ..\n",
      "221.233333    1\n",
      "227.933333    1\n",
      "167.433333    1\n",
      "257.766667    1\n",
      "201.900000    1\n",
      "Name: count, Length: 1685, dtype: int64\n",
      "nans: 0 \n",
      "\n",
      "24 overall_survival\n",
      "overall_survival\n",
      "0    1103\n",
      "1     801\n",
      "Name: count, dtype: int64\n",
      "nans: 0 \n",
      "\n",
      "25 pr_status\n",
      "pr_status\n",
      "Positive    1009\n",
      "Negative     895\n",
      "Name: count, dtype: int64\n",
      "nans: 0 \n",
      "\n",
      "26 radio_therapy\n",
      "radio_therapy\n",
      "1    1137\n",
      "0     767\n",
      "Name: count, dtype: int64\n",
      "nans: 0 \n",
      "\n",
      "27 3-gene_classifier_subtype\n",
      "3-gene_classifier_subtype\n",
      "ER+/HER2- Low Prolif     619\n",
      "ER+/HER2- High Prolif    603\n",
      "ER-/HER2-                290\n",
      "HER2+                    188\n",
      "Name: count, dtype: int64\n",
      "nans: 204 \n",
      "\n",
      "28 tumor_size\n",
      "tumor_size\n",
      "20.0     229\n",
      "25.0     166\n",
      "30.0     155\n",
      "15.0     147\n",
      "18.0      75\n",
      "        ... \n",
      "180.0      1\n",
      "16.9       1\n",
      "24.4       1\n",
      "67.0       1\n",
      "20.5       1\n",
      "Name: count, Length: 111, dtype: int64\n",
      "nans: 20 \n",
      "\n",
      "29 tumor_stage\n",
      "tumor_stage\n",
      "2.0    800\n",
      "1.0    475\n",
      "3.0    115\n",
      "4.0      9\n",
      "0.0      4\n",
      "Name: count, dtype: int64\n",
      "nans: 501 \n",
      "\n",
      "30 death_from_cancer\n",
      "death_from_cancer\n",
      "Living                  801\n",
      "Died of Disease         622\n",
      "Died of Other Causes    480\n",
      "Name: count, dtype: int64\n",
      "nans: 1 \n",
      "\n"
     ]
    }
   ],
   "source": [
    "for i in range(2,31):\n",
    "    print(i, df.columns[i])\n",
    "    value_counts = df.iloc[:,i].value_counts()\n",
    "    nan = df.iloc[:,i].isna().sum()\n",
    "    print(value_counts)\n",
    "    print('nans:',nan, '\\n')"
   ]
  },
  {
   "cell_type": "code",
   "execution_count": 64,
   "metadata": {},
   "outputs": [
    {
     "data": {
      "text/plain": [
<<<<<<< Updated upstream
       "<matplotlib.collections.PathCollection at 0x1d67d158f10>"
=======
       "[Text(0.5, 0, 'Overall survival months'), Text(0, 0.5, 'Age at diagnosis')]"
>>>>>>> Stashed changes
      ]
     },
     "execution_count": 64,
     "metadata": {},
     "output_type": "execute_result"
    },
    {
     "data": {
<<<<<<< Updated upstream
      "image/png": "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\n",
=======
      "image/png": "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",
>>>>>>> Stashed changes
      "text/plain": [
       "<Figure size 640x480 with 1 Axes>"
      ]
     },
     "metadata": {},
     "output_type": "display_data"
    }
   ],
   "source": [
    "x1 = df.overall_survival_months[df.type_of_breast_surgery == 'MASTECTOMY']\n",
    "y1 = df.age_at_diagnosis[df.type_of_breast_surgery == 'MASTECTOMY']\n",
    "\n",
    "x2 = df.overall_survival_months[df.type_of_breast_surgery == 'BREAST CONSERVING']\n",
    "y2 = df.age_at_diagnosis[df.type_of_breast_surgery == 'BREAST CONSERVING']\n",
    "\n",
    "fig, ax = plt.subplots(1)\n",
    "ax.scatter(x1, y1)\n",
    "ax.scatter(x2, y2)\n",
    "ax.set(xlabel='Overall survival months', ylabel='Age at diagnosis')"
   ]
  },
  {
   "cell_type": "markdown",
   "metadata": {},
   "source": [
    "## Seleccionando los datos de entrenamiento y prueba"
   ]
  },
  {
   "cell_type": "code",
<<<<<<< Updated upstream
   "execution_count": 172,
=======
   "execution_count": 69,
   "metadata": {},
   "outputs": [
    {
     "name": "stdout",
     "output_type": "stream",
     "text": [
      "476\n",
      "['Supervivencia a la enfermedad' 'Supervivencia a la enfermedad'\n",
      " 'Supervivencia a la enfermedad' 'Supervivencia a la enfermedad'\n",
      " 'Supervivencia a la enfermedad' 'Supervivencia a la enfermedad'\n",
      " 'Supervivencia a la enfermedad' 'Muerte debido a la enfermedad'\n",
      " 'Muerte debido a la enfermedad' 'Muerte debido a la enfermedad'\n",
      " 'Muerte debido a la enfermedad' 'Muerte debido a la enfermedad'\n",
      " 'Muerte debido a la enfermedad' 'Supervivencia a la enfermedad'\n",
      " 'Muerte debido a la enfermedad' 'Supervivencia a la enfermedad'\n",
      " 'Supervivencia a la enfermedad' 'Supervivencia a la enfermedad'\n",
      " 'Muerte debido a la enfermedad' 'Supervivencia a la enfermedad'\n",
      " 'Supervivencia a la enfermedad' 'Supervivencia a la enfermedad'\n",
      " 'Supervivencia a la enfermedad' 'Supervivencia a la enfermedad'\n",
      " 'Muerte debido a la enfermedad' 'Supervivencia a la enfermedad'\n",
      " 'Supervivencia a la enfermedad' 'Supervivencia a la enfermedad'\n",
      " 'Supervivencia a la enfermedad' 'Supervivencia a la enfermedad'\n",
      " 'Supervivencia a la enfermedad' 'Supervivencia a la enfermedad'\n",
      " 'Supervivencia a la enfermedad' 'Muerte debido a la enfermedad'\n",
      " 'Muerte debido a la enfermedad' 'Supervivencia a la enfermedad'\n",
      " 'Supervivencia a la enfermedad' 'Supervivencia a la enfermedad'\n",
      " 'Muerte debido a la enfermedad' 'Supervivencia a la enfermedad'\n",
      " 'Muerte debido a la enfermedad' 'Supervivencia a la enfermedad'\n",
      " 'Muerte debido a la enfermedad' 'Supervivencia a la enfermedad'\n",
      " 'Supervivencia a la enfermedad' 'Supervivencia a la enfermedad'\n",
      " 'Supervivencia a la enfermedad' 'Supervivencia a la enfermedad'\n",
      " 'Supervivencia a la enfermedad' 'Supervivencia a la enfermedad'\n",
      " 'Supervivencia a la enfermedad' 'Supervivencia a la enfermedad'\n",
      " 'Muerte debido a la enfermedad' 'Supervivencia a la enfermedad'\n",
      " 'Supervivencia a la enfermedad' 'Supervivencia a la enfermedad'\n",
      " 'Supervivencia a la enfermedad' 'Supervivencia a la enfermedad'\n",
      " 'Muerte debido a la enfermedad' 'Muerte debido a la enfermedad'\n",
      " 'Muerte debido a la enfermedad' 'Muerte debido a la enfermedad'\n",
      " 'Muerte debido a la enfermedad' 'Supervivencia a la enfermedad'\n",
      " 'Supervivencia a la enfermedad' 'Supervivencia a la enfermedad'\n",
      " 'Muerte debido a la enfermedad' 'Supervivencia a la enfermedad'\n",
      " 'Muerte debido a la enfermedad' 'Muerte debido a la enfermedad'\n",
      " 'Muerte debido a la enfermedad' 'Supervivencia a la enfermedad'\n",
      " 'Supervivencia a la enfermedad' 'Supervivencia a la enfermedad'\n",
      " 'Supervivencia a la enfermedad' 'Supervivencia a la enfermedad'\n",
      " 'Supervivencia a la enfermedad' 'Supervivencia a la enfermedad'\n",
      " 'Supervivencia a la enfermedad' 'Muerte debido a la enfermedad'\n",
      " 'Supervivencia a la enfermedad' 'Supervivencia a la enfermedad'\n",
      " 'Supervivencia a la enfermedad' 'Supervivencia a la enfermedad'\n",
      " 'Supervivencia a la enfermedad' 'Supervivencia a la enfermedad'\n",
      " 'Supervivencia a la enfermedad' 'Supervivencia a la enfermedad'\n",
      " 'Supervivencia a la enfermedad' 'Supervivencia a la enfermedad'\n",
      " 'Supervivencia a la enfermedad' 'Muerte debido a la enfermedad'\n",
      " 'Supervivencia a la enfermedad' 'Supervivencia a la enfermedad'\n",
      " 'Muerte debido a la enfermedad' 'Supervivencia a la enfermedad'\n",
      " 'Supervivencia a la enfermedad' 'Supervivencia a la enfermedad'\n",
      " 'Supervivencia a la enfermedad' 'Supervivencia a la enfermedad'\n",
      " 'Supervivencia a la enfermedad' 'Supervivencia a la enfermedad'\n",
      " 'Muerte debido a la enfermedad' 'Supervivencia a la enfermedad'\n",
      " 'Supervivencia a la enfermedad' 'Muerte debido a la enfermedad'\n",
      " 'Muerte debido a la enfermedad' 'Supervivencia a la enfermedad'\n",
      " 'Supervivencia a la enfermedad' 'Supervivencia a la enfermedad'\n",
      " 'Supervivencia a la enfermedad' 'Muerte debido a la enfermedad'\n",
      " 'Muerte debido a la enfermedad' 'Supervivencia a la enfermedad'\n",
      " 'Supervivencia a la enfermedad' 'Supervivencia a la enfermedad'\n",
      " 'Supervivencia a la enfermedad' 'Supervivencia a la enfermedad'\n",
      " 'Muerte debido a la enfermedad' 'Muerte debido a la enfermedad'\n",
      " 'Supervivencia a la enfermedad' 'Supervivencia a la enfermedad'\n",
      " 'Muerte debido a la enfermedad' 'Supervivencia a la enfermedad'\n",
      " 'Supervivencia a la enfermedad' 'Supervivencia a la enfermedad'\n",
      " 'Muerte debido a la enfermedad' 'Supervivencia a la enfermedad'\n",
      " 'Supervivencia a la enfermedad' 'Supervivencia a la enfermedad'\n",
      " 'Supervivencia a la enfermedad' 'Supervivencia a la enfermedad'\n",
      " 'Supervivencia a la enfermedad' 'Supervivencia a la enfermedad'\n",
      " 'Muerte debido a la enfermedad' 'Supervivencia a la enfermedad'\n",
      " 'Supervivencia a la enfermedad' 'Muerte debido a la enfermedad'\n",
      " 'Muerte debido a la enfermedad' 'Supervivencia a la enfermedad'\n",
      " 'Muerte debido a la enfermedad' 'Muerte debido a la enfermedad'\n",
      " 'Muerte debido a la enfermedad' 'Muerte debido a la enfermedad'\n",
      " 'Muerte debido a la enfermedad' 'Muerte debido a la enfermedad'\n",
      " 'Muerte debido a la enfermedad' 'Supervivencia a la enfermedad'\n",
      " 'Supervivencia a la enfermedad' 'Muerte debido a la enfermedad'\n",
      " 'Supervivencia a la enfermedad' 'Supervivencia a la enfermedad'\n",
      " 'Supervivencia a la enfermedad' 'Muerte debido a la enfermedad'\n",
      " 'Muerte debido a la enfermedad' 'Supervivencia a la enfermedad'\n",
      " 'Supervivencia a la enfermedad' 'Muerte debido a la enfermedad'\n",
      " 'Muerte debido a la enfermedad' 'Supervivencia a la enfermedad'\n",
      " 'Supervivencia a la enfermedad' 'Supervivencia a la enfermedad'\n",
      " 'Muerte debido a la enfermedad' 'Muerte debido a la enfermedad'\n",
      " 'Supervivencia a la enfermedad' 'Supervivencia a la enfermedad'\n",
      " 'Supervivencia a la enfermedad' 'Muerte debido a la enfermedad'\n",
      " 'Supervivencia a la enfermedad' 'Supervivencia a la enfermedad'\n",
      " 'Supervivencia a la enfermedad' 'Muerte debido a la enfermedad'\n",
      " 'Supervivencia a la enfermedad' 'Supervivencia a la enfermedad'\n",
      " 'Muerte debido a la enfermedad' 'Supervivencia a la enfermedad'\n",
      " 'Supervivencia a la enfermedad' 'Supervivencia a la enfermedad'\n",
      " 'Supervivencia a la enfermedad' 'Muerte debido a la enfermedad'\n",
      " 'Supervivencia a la enfermedad' 'Muerte debido a la enfermedad'\n",
      " 'Supervivencia a la enfermedad' 'Supervivencia a la enfermedad'\n",
      " 'Supervivencia a la enfermedad' 'Supervivencia a la enfermedad'\n",
      " 'Supervivencia a la enfermedad' 'Muerte debido a la enfermedad'\n",
      " 'Supervivencia a la enfermedad' 'Supervivencia a la enfermedad'\n",
      " 'Supervivencia a la enfermedad' 'Supervivencia a la enfermedad'\n",
      " 'Supervivencia a la enfermedad' 'Supervivencia a la enfermedad'\n",
      " 'Muerte debido a la enfermedad' 'Supervivencia a la enfermedad'\n",
      " 'Supervivencia a la enfermedad' 'Supervivencia a la enfermedad'\n",
      " 'Supervivencia a la enfermedad' 'Supervivencia a la enfermedad'\n",
      " 'Supervivencia a la enfermedad' 'Muerte debido a la enfermedad'\n",
      " 'Supervivencia a la enfermedad' 'Muerte debido a la enfermedad'\n",
      " 'Supervivencia a la enfermedad' 'Muerte debido a la enfermedad'\n",
      " 'Supervivencia a la enfermedad' 'Supervivencia a la enfermedad'\n",
      " 'Supervivencia a la enfermedad' 'Supervivencia a la enfermedad'\n",
      " 'Supervivencia a la enfermedad' 'Muerte debido a la enfermedad'\n",
      " 'Supervivencia a la enfermedad' 'Muerte debido a la enfermedad'\n",
      " 'Muerte debido a la enfermedad' 'Supervivencia a la enfermedad'\n",
      " 'Muerte debido a la enfermedad' 'Muerte debido a la enfermedad'\n",
      " 'Muerte debido a la enfermedad' 'Muerte debido a la enfermedad'\n",
      " 'Muerte debido a la enfermedad' 'Muerte debido a la enfermedad'\n",
      " 'Supervivencia a la enfermedad' 'Supervivencia a la enfermedad'\n",
      " 'Supervivencia a la enfermedad' 'Supervivencia a la enfermedad'\n",
      " 'Muerte debido a la enfermedad' 'Supervivencia a la enfermedad'\n",
      " 'Muerte debido a la enfermedad' 'Muerte debido a la enfermedad'\n",
      " 'Supervivencia a la enfermedad' 'Muerte debido a la enfermedad'\n",
      " 'Supervivencia a la enfermedad' 'Supervivencia a la enfermedad'\n",
      " 'Supervivencia a la enfermedad' 'Muerte debido a la enfermedad'\n",
      " 'Muerte debido a la enfermedad' 'Supervivencia a la enfermedad'\n",
      " 'Supervivencia a la enfermedad' 'Supervivencia a la enfermedad'\n",
      " 'Supervivencia a la enfermedad' 'Muerte debido a la enfermedad'\n",
      " 'Supervivencia a la enfermedad' 'Supervivencia a la enfermedad'\n",
      " 'Supervivencia a la enfermedad' 'Supervivencia a la enfermedad'\n",
      " 'Muerte debido a la enfermedad' 'Supervivencia a la enfermedad'\n",
      " 'Supervivencia a la enfermedad' 'Supervivencia a la enfermedad'\n",
      " 'Muerte debido a la enfermedad' 'Supervivencia a la enfermedad'\n",
      " 'Muerte debido a la enfermedad' 'Supervivencia a la enfermedad'\n",
      " 'Muerte debido a la enfermedad' 'Supervivencia a la enfermedad'\n",
      " 'Muerte debido a la enfermedad' 'Supervivencia a la enfermedad'\n",
      " 'Supervivencia a la enfermedad' 'Supervivencia a la enfermedad'\n",
      " 'Supervivencia a la enfermedad' 'Supervivencia a la enfermedad'\n",
      " 'Muerte debido a la enfermedad' 'Muerte debido a la enfermedad'\n",
      " 'Supervivencia a la enfermedad' 'Muerte debido a la enfermedad'\n",
      " 'Supervivencia a la enfermedad' 'Supervivencia a la enfermedad'\n",
      " 'Supervivencia a la enfermedad' 'Muerte debido a la enfermedad'\n",
      " 'Muerte debido a la enfermedad' 'Supervivencia a la enfermedad'\n",
      " 'Muerte debido a la enfermedad' 'Supervivencia a la enfermedad'\n",
      " 'Supervivencia a la enfermedad' 'Supervivencia a la enfermedad'\n",
      " 'Muerte debido a la enfermedad' 'Supervivencia a la enfermedad'\n",
      " 'Supervivencia a la enfermedad' 'Muerte debido a la enfermedad'\n",
      " 'Muerte debido a la enfermedad' 'Muerte debido a la enfermedad'\n",
      " 'Muerte debido a la enfermedad' 'Muerte debido a la enfermedad'\n",
      " 'Supervivencia a la enfermedad' 'Supervivencia a la enfermedad'\n",
      " 'Muerte debido a la enfermedad' 'Supervivencia a la enfermedad'\n",
      " 'Supervivencia a la enfermedad' 'Supervivencia a la enfermedad'\n",
      " 'Muerte debido a la enfermedad' 'Muerte debido a la enfermedad'\n",
      " 'Supervivencia a la enfermedad' 'Supervivencia a la enfermedad'\n",
      " 'Muerte debido a la enfermedad' 'Supervivencia a la enfermedad'\n",
      " 'Supervivencia a la enfermedad' 'Supervivencia a la enfermedad'\n",
      " 'Muerte debido a la enfermedad' 'Muerte debido a la enfermedad'\n",
      " 'Supervivencia a la enfermedad' 'Supervivencia a la enfermedad'\n",
      " 'Supervivencia a la enfermedad' 'Supervivencia a la enfermedad'\n",
      " 'Muerte debido a la enfermedad' 'Supervivencia a la enfermedad'\n",
      " 'Supervivencia a la enfermedad' 'Supervivencia a la enfermedad'\n",
      " 'Muerte debido a la enfermedad' 'Supervivencia a la enfermedad'\n",
      " 'Supervivencia a la enfermedad' 'Muerte debido a la enfermedad'\n",
      " 'Muerte debido a la enfermedad' 'Supervivencia a la enfermedad'\n",
      " 'Supervivencia a la enfermedad' 'Supervivencia a la enfermedad'\n",
      " 'Muerte debido a la enfermedad' 'Muerte debido a la enfermedad'\n",
      " 'Muerte debido a la enfermedad' 'Supervivencia a la enfermedad'\n",
      " 'Supervivencia a la enfermedad' 'Supervivencia a la enfermedad'\n",
      " 'Supervivencia a la enfermedad' 'Muerte debido a la enfermedad'\n",
      " 'Supervivencia a la enfermedad' 'Muerte debido a la enfermedad'\n",
      " 'Supervivencia a la enfermedad' 'Supervivencia a la enfermedad'\n",
      " 'Supervivencia a la enfermedad' 'Supervivencia a la enfermedad'\n",
      " 'Muerte debido a la enfermedad' 'Muerte debido a la enfermedad'\n",
      " 'Supervivencia a la enfermedad' 'Supervivencia a la enfermedad'\n",
      " 'Supervivencia a la enfermedad' 'Supervivencia a la enfermedad'\n",
      " 'Muerte debido a la enfermedad' 'Supervivencia a la enfermedad'\n",
      " 'Supervivencia a la enfermedad' 'Muerte debido a la enfermedad'\n",
      " 'Supervivencia a la enfermedad' 'Supervivencia a la enfermedad'\n",
      " 'Muerte debido a la enfermedad' 'Muerte debido a la enfermedad'\n",
      " 'Supervivencia a la enfermedad' 'Supervivencia a la enfermedad'\n",
      " 'Muerte debido a la enfermedad' 'Muerte debido a la enfermedad'\n",
      " 'Muerte debido a la enfermedad' 'Muerte debido a la enfermedad'\n",
      " 'Supervivencia a la enfermedad' 'Supervivencia a la enfermedad'\n",
      " 'Supervivencia a la enfermedad' 'Muerte debido a la enfermedad'\n",
      " 'Supervivencia a la enfermedad' 'Supervivencia a la enfermedad'\n",
      " 'Supervivencia a la enfermedad' 'Supervivencia a la enfermedad'\n",
      " 'Supervivencia a la enfermedad' 'Supervivencia a la enfermedad'\n",
      " 'Supervivencia a la enfermedad' 'Muerte debido a la enfermedad'\n",
      " 'Supervivencia a la enfermedad' 'Muerte debido a la enfermedad'\n",
      " 'Supervivencia a la enfermedad' 'Supervivencia a la enfermedad'\n",
      " 'Supervivencia a la enfermedad' 'Muerte debido a la enfermedad'\n",
      " 'Supervivencia a la enfermedad' 'Supervivencia a la enfermedad'\n",
      " 'Muerte debido a la enfermedad' 'Muerte debido a la enfermedad'\n",
      " 'Supervivencia a la enfermedad' 'Supervivencia a la enfermedad'\n",
      " 'Supervivencia a la enfermedad' 'Muerte debido a la enfermedad'\n",
      " 'Muerte debido a la enfermedad' 'Supervivencia a la enfermedad'\n",
      " 'Muerte debido a la enfermedad' 'Muerte debido a la enfermedad'\n",
      " 'Supervivencia a la enfermedad' 'Supervivencia a la enfermedad'\n",
      " 'Supervivencia a la enfermedad' 'Supervivencia a la enfermedad'\n",
      " 'Supervivencia a la enfermedad' 'Muerte debido a la enfermedad'\n",
      " 'Supervivencia a la enfermedad' 'Muerte debido a la enfermedad'\n",
      " 'Supervivencia a la enfermedad' 'Supervivencia a la enfermedad'\n",
      " 'Supervivencia a la enfermedad' 'Supervivencia a la enfermedad'\n",
      " 'Supervivencia a la enfermedad' 'Supervivencia a la enfermedad'\n",
      " 'Supervivencia a la enfermedad' 'Muerte debido a la enfermedad'\n",
      " 'Supervivencia a la enfermedad' 'Supervivencia a la enfermedad'\n",
      " 'Supervivencia a la enfermedad' 'Supervivencia a la enfermedad'\n",
      " 'Supervivencia a la enfermedad' 'Muerte debido a la enfermedad'\n",
      " 'Supervivencia a la enfermedad' 'Supervivencia a la enfermedad'\n",
      " 'Supervivencia a la enfermedad' 'Muerte debido a la enfermedad'\n",
      " 'Supervivencia a la enfermedad' 'Muerte debido a la enfermedad'\n",
      " 'Supervivencia a la enfermedad' 'Muerte debido a la enfermedad'\n",
      " 'Supervivencia a la enfermedad' 'Supervivencia a la enfermedad'\n",
      " 'Supervivencia a la enfermedad' 'Supervivencia a la enfermedad'\n",
      " 'Muerte debido a la enfermedad' 'Muerte debido a la enfermedad'\n",
      " 'Supervivencia a la enfermedad' 'Muerte debido a la enfermedad'\n",
      " 'Supervivencia a la enfermedad' 'Muerte debido a la enfermedad'\n",
      " 'Supervivencia a la enfermedad' 'Supervivencia a la enfermedad'\n",
      " 'Supervivencia a la enfermedad' 'Supervivencia a la enfermedad'\n",
      " 'Supervivencia a la enfermedad' 'Supervivencia a la enfermedad'\n",
      " 'Muerte debido a la enfermedad' 'Supervivencia a la enfermedad'\n",
      " 'Supervivencia a la enfermedad' 'Muerte debido a la enfermedad'\n",
      " 'Muerte debido a la enfermedad' 'Muerte debido a la enfermedad'\n",
      " 'Supervivencia a la enfermedad' 'Supervivencia a la enfermedad'\n",
      " 'Muerte debido a la enfermedad' 'Supervivencia a la enfermedad'\n",
      " 'Supervivencia a la enfermedad' 'Muerte debido a la enfermedad'\n",
      " 'Supervivencia a la enfermedad' 'Supervivencia a la enfermedad'\n",
      " 'Supervivencia a la enfermedad' 'Supervivencia a la enfermedad'\n",
      " 'Muerte debido a la enfermedad' 'Supervivencia a la enfermedad'\n",
      " 'Supervivencia a la enfermedad' 'Supervivencia a la enfermedad'\n",
      " 'Supervivencia a la enfermedad' 'Supervivencia a la enfermedad'\n",
      " 'Muerte debido a la enfermedad' 'Supervivencia a la enfermedad'\n",
      " 'Muerte debido a la enfermedad' 'Supervivencia a la enfermedad'\n",
      " 'Supervivencia a la enfermedad' 'Muerte debido a la enfermedad'\n",
      " 'Muerte debido a la enfermedad' 'Muerte debido a la enfermedad'\n",
      " 'Supervivencia a la enfermedad' 'Supervivencia a la enfermedad'\n",
      " 'Supervivencia a la enfermedad' 'Supervivencia a la enfermedad'\n",
      " 'Supervivencia a la enfermedad' 'Muerte debido a la enfermedad'\n",
      " 'Muerte debido a la enfermedad' 'Muerte debido a la enfermedad'\n",
      " 'Supervivencia a la enfermedad' 'Muerte debido a la enfermedad'\n",
      " 'Muerte debido a la enfermedad' 'Supervivencia a la enfermedad'\n",
      " 'Muerte debido a la enfermedad' 'Supervivencia a la enfermedad'\n",
      " 'Muerte debido a la enfermedad' 'Muerte debido a la enfermedad'\n",
      " 'Supervivencia a la enfermedad' 'Supervivencia a la enfermedad'\n",
      " 'Supervivencia a la enfermedad' 'Supervivencia a la enfermedad']\n",
      "314\n"
     ]
    },
    {
     "data": {
      "text/plain": [
       "Text(0.5, 0.98, 'Confusion matrices for death from disease classification')"
      ]
     },
     "execution_count": 69,
     "metadata": {},
     "output_type": "execute_result"
    },
    {
     "data": {
      "image/png": "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",
      "text/plain": [
       "<Figure size 640x480 with 1 Axes>"
      ]
     },
     "metadata": {},
     "output_type": "display_data"
    }
   ],
   "source": [
    "train_dataset = df.sample(frac=0.75, random_state=1)\n",
    "test_dataset = df.drop(train_dataset.index)\n",
    "\n",
    "max_iter = 1000\n",
    "log_reg = LogisticRegression(multi_class='multinomial', max_iter=max_iter)\n",
    "x_train = train_dataset.loc[:,'brca1':'ugt2b7']\n",
    "x_test = test_dataset.loc[:,'brca1':'ugt2b7']\n",
    "\n",
    "log_reg.fit(x_train, train_dataset['death_from_disease_binary'])\n",
    "predictions = log_reg.predict(x_test)\n",
    "counter = predictions.tolist()\n",
    "print(counter.count('Supervivencia a la enfermedad'))\n",
    "score = log_reg.score(x_test, test_dataset['death_from_disease_binary'])\n",
    "#print(score)\n",
    "cm = metrics.confusion_matrix(test_dataset['death_from_disease_binary'], predictions)\n",
    "# print(cm)\n",
    "\n",
    "fig, axs = plt.subplots(1)\n",
    "axs.imshow(cm, cmap=\"Greens\")\n",
    "axs.set_title('Acc: {0}'.format(round(score,3)), fontsize = 10)\n",
    "axs.set_xticks([0,1])\n",
    "axs.set_yticks([0,1])\n",
    "axs.set(xlabel='Predicted label', ylabel='Actual label')\n",
    "for k in range(len(cm)):\n",
    "        for j in range(len(cm)):\n",
    "            text = axs.text(j, k, cm[k, j],\n",
    "                           ha=\"center\", va=\"center\", color=\"seagreen\")\n",
    "fig.suptitle('Confusion matrices for death from disease classification')\n"
   ]
  },
  {
   "cell_type": "markdown",
   "metadata": {},
   "source": [
    "### Regresión logística aplicada para clasificar tipos de cáncer en función del perfil genético"
   ]
  },
  {
   "cell_type": "code",
   "execution_count": null,
>>>>>>> Stashed changes
   "metadata": {},
   "outputs": [],
   "source": [
    "train_dataset = df.dropna().sample(frac=0.75, random_state=1)\n",
    "test_dataset = df.drop(train_dataset.index).dropna()\n",
    "\n",
    "x_train, y_train = train_dataset.loc[:,'brca1':'ugt2b7'], train_dataset['overall_survival']\n",
    "x_test, y_test = test_dataset.loc[:,'brca1':'ugt2b7'], test_dataset['overall_survival']"
   ]
  },
  {
   "cell_type": "code",
<<<<<<< Updated upstream
   "execution_count": 173,
   "metadata": {},
   "outputs": [
    {
     "name": "stdout",
     "output_type": "stream",
     "text": [
      "['Breast Invasive Lobular Carcinoma' 'Breast Invasive Ductal Carcinoma'\n",
      " 'Breast Mixed Ductal and Lobular Carcinoma'\n",
      " 'Breast Invasive Mixed Mucinous Carcinoma' 'Breast']\n"
     ]
    }
   ],
=======
   "execution_count": null,
   "metadata": {
    "scrolled": true
   },
   "outputs": [],
>>>>>>> Stashed changes
   "source": [
    "print(test_dataset['cancer_type_detailed'].unique())\n",
    "y_train = pd.get_dummies(train_dataset['cancer_type_detailed'])\n",
    "y_test = pd.get_dummies(test_dataset['cancer_type_detailed'])\n"
   ]
  },
  {
   "cell_type": "code",
<<<<<<< Updated upstream
   "execution_count": 34,
   "metadata": {
    "scrolled": true
   },
   "outputs": [
    {
     "name": "stdout",
     "output_type": "stream",
     "text": [
      "819\n",
      "273\n",
      "Index(['dtx2', 'dtx3', 'dtx4', 'ep300', 'fbxw7', 'hdac1', 'hdac2', 'hes1',\n",
      "       'hes5', 'heyl',\n",
      "       ...\n",
      "       'mmp14', 'mmp15', 'mmp16', 'mmp17', 'mmp19', 'mmp2', 'mmp21', 'mmp23b',\n",
      "       'mmp24', 'mmp25'],\n",
      "      dtype='object', length=150)\n"
     ]
    }
   ],
=======
   "execution_count": null,
   "metadata": {
    "scrolled": true
   },
   "outputs": [],
>>>>>>> Stashed changes
   "source": [
    "print(len(train_dataset))\n",
    "print(len(test_dataset))\n",
    "\n",
    "print(train_dataset.columns[100:250])"
   ]
  },
  {
   "cell_type": "code",
<<<<<<< Updated upstream
   "execution_count": 39,
=======
   "execution_count": null,
>>>>>>> Stashed changes
   "metadata": {
    "scrolled": true
   },
<<<<<<< Updated upstream
   "outputs": [
    {
     "name": "stdout",
     "output_type": "stream",
     "text": [
      "Breast Invasive Lobular Carcinoma\n",
      "0    255\n",
      "1     18\n",
      "Name: Breast Invasive Lobular Carcinoma, dtype: int64\n",
      "0.9340659340659341\n",
      "[[255   0]\n",
      " [ 18   0]]\n",
      "Breast Invasive Ductal Carcinoma\n",
      "1    214\n",
      "0     59\n",
      "Name: Breast Invasive Ductal Carcinoma, dtype: int64\n",
      "0.7838827838827839\n",
      "[[  0  59]\n",
      " [  0 214]]\n",
      "Breast Mixed Ductal and Lobular Carcinoma\n",
      "0    238\n",
      "1     35\n",
      "Name: Breast Mixed Ductal and Lobular Carcinoma, dtype: int64\n",
      "0.8717948717948718\n",
      "[[238   0]\n",
      " [ 35   0]]\n",
      "Breast Invasive Mixed Mucinous Carcinoma\n",
      "0    269\n",
      "1      4\n",
      "Name: Breast Invasive Mixed Mucinous Carcinoma, dtype: int64\n",
      "0.9853479853479854\n",
      "[[269   0]\n",
      " [  4   0]]\n",
      "Breast\n",
      "0    271\n",
      "1      2\n",
      "Name: Breast, dtype: int64\n",
      "0.9926739926739927\n",
      "[[271   0]\n",
      " [  2   0]]\n"
     ]
    }
   ],
=======
   "outputs": [],
>>>>>>> Stashed changes
   "source": [
    "max_iter = 1000\n",
    "log_reg = LogisticRegression(multi_class='multinomial', max_iter=max_iter)\n",
    "x_train = train_dataset.loc[:,'brca1':'ugt2b7']\n",
    "x_test = test_dataset.loc[:,'brca1':'ugt2b7']\n",
    "\n",
    "for cancer_type in test_dataset['cancer_type_detailed'].dropna().unique():\n",
    "    print(cancer_type)\n",
    "    print(y_test[cancer_type].value_counts())\n",
    "    log_reg.fit(x_train, y_train[cancer_type])\n",
    "    predictions = log_reg.predict(x_test)\n",
    "    score = log_reg.score(x_test, y_test[cancer_type])\n",
    "    print(score)\n",
    "    cm = metrics.confusion_matrix(y_test[cancer_type], predictions)\n",
<<<<<<< Updated upstream
    "    print(cm)\n"
=======
    "    # print(cm)\n",
    "    # print(\"*\"*50)\n",
    "\n",
    "    axs[int(i/3), i%3].imshow(cm, cmap=\"Greens\")\n",
    "    axs[int(i/3), i%3].set_title('{0}\\nAcc: {1}'.format(cancer_type[0:-9] ,round(score,3)), fontsize = 10)\n",
    "    axs[int(i/3), i%3].set_xticks([0,1])\n",
    "    axs[int(i/3), i%3].set_yticks([0,1])\n",
    "    \n",
    "    for k in range(len(cm)):\n",
    "        for j in range(len(cm)):\n",
    "            text = axs[int(i/3), i%3].text(j, k, cm[k, j],\n",
    "                           ha=\"center\", va=\"center\", color=\"seagreen\")\n",
    "    \n",
    "    for ax in axs.flat:\n",
    "        ax.set(xlabel='Predicted label', ylabel='Actual label')\n",
    "        ax.label_outer()\n",
    "\n",
    "axs[1, 2].imshow(np.array([[0,0],[0,0]]) , cmap=\"YlGn\")\n",
    "axs[1, 2].set_xticks([0,1])\n",
    "axs[1, 2].set_yticks([0,1])\n",
    "fig.suptitle('Confusion matrices for detailed cancer classification')\n",
    "fig.tight_layout()\n",
    "fig.subplots_adjust(wspace=0.5)"
>>>>>>> Stashed changes
   ]
  },
  {
   "cell_type": "code",
<<<<<<< Updated upstream
   "execution_count": 177,
   "metadata": {},
   "outputs": [
    {
     "name": "stdout",
     "output_type": "stream",
     "text": [
      "[[ 59   0]\n",
      " [214   0]]\n"
     ]
    }
   ],
=======
   "execution_count": null,
   "metadata": {},
   "outputs": [],
   "source": [
    "from sklearn.ensemble import RandomForestClassifier"
   ]
  },
  {
   "cell_type": "code",
   "execution_count": null,
   "metadata": {
    "scrolled": true
   },
   "outputs": [],
   "source": [
    "score = []\n",
    "score_train = []\n",
    "fig, axs = plt.subplots(2, 2)\n",
    "\n",
    "for i in range(2,6):\n",
    "    clf = RandomForestClassifier(max_depth=i, random_state=0)\n",
    "    clf.fit(x_train, train_dataset['cancer_type_detailed'])\n",
    "    \n",
    "    score_train.append(clf.score(x_train, train_dataset['cancer_type_detailed']))\n",
    "    score.append(clf.score(x_test, test_dataset['cancer_type_detailed']))\n",
    "    predictions = clf.predict(x_test)\n",
    "    \n",
    "    # print(clf.classes_)\n",
    "    # print(clf.feature_importances_)\n",
    "    cm = metrics.confusion_matrix(test_dataset['cancer_type_detailed'], predictions)\n",
    "    # print(cm)\n",
    "    axs[int((i-2)/2), i%2].imshow(cm, cmap=\"Greens\")\n",
    "    axs[int((i-2)/2), i%2].set_title('Max_depth = {0}\\nAcc: {1}'.format(i ,round(score[i-2] ,3)), fontsize = 10)\n",
    "    axs[int((i-2)/2), i%2].set_xticks(range(0,5))\n",
    "    axs[int((i-2)/2), i%2].set_yticks(range(0,5))\n",
    "    \n",
    "    for k in range(len(cm)):\n",
    "        for j in range(len(cm)):\n",
    "            text = axs[int((i-2)/2), i%2].text(j, k, cm[k, j],\n",
    "                           ha=\"center\", va=\"center\", color=\"seagreen\")\n",
    "    \n",
    "    for ax in axs.flat:\n",
    "        ax.set(xlabel='Predicted label', ylabel='Actual label')\n",
    "        ax.label_outer()\n",
    "    \n",
    "fig.suptitle('Confusion matrices for cancer classification')\n",
    "fig.tight_layout()"
   ]
  },
  {
   "cell_type": "code",
   "execution_count": null,
   "metadata": {},
   "outputs": [],
>>>>>>> Stashed changes
   "source": [
    "cm = metrics.confusion_matrix(y_test['Breast Invasive Ductal Carcinoma'], predictions)\n",
    "print(cm)"
   ]
  },
  {
   "cell_type": "code",
<<<<<<< Updated upstream
   "execution_count": 178,
   "metadata": {},
   "outputs": [
    {
     "data": {
      "image/png": "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\n",
      "text/plain": [
       "<Figure size 900x900 with 2 Axes>"
      ]
     },
     "metadata": {},
     "output_type": "display_data"
    }
   ],
   "source": [
    "plt.figure(figsize=(9,9))\n",
    "sns.heatmap(cm, annot=True, fmt=\".3f\", linewidths=.5, square = True, cmap = 'Blues_r');\n",
    "plt.ylabel('Actual label');\n",
    "plt.xlabel('Predicted label');\n",
    "all_sample_title = 'Accuracy Score: {0}'.format(score)\n",
    "plt.title(all_sample_title, size = 15);"
=======
   "execution_count": null,
   "metadata": {},
   "outputs": [],
   "source": [
    "clf = RandomForestClassifier(max_depth=6)\n",
    "clf.fit(x_train, y_train)\n",
    "clf.score(x_test, y_test)\n",
    "score_train = []\n",
    "score_test = []\n",
    "\n",
    "fig, axs = plt.subplots(2, 4)\n",
    "\n",
    "for i in range(2,10):\n",
    "    clf = RandomForestClassifier(max_depth=i, random_state=0)\n",
    "    clf.fit(x_train, train_dataset['overall_survival'])\n",
    "    predictions = clf.predict(x_test)\n",
    "    score_train.append(clf.score(x_train, train_dataset['overall_survival']))\n",
    "    score_test.append(clf.score(x_test, test_dataset['overall_survival']))\n",
    "    # print(clf.feature_importances_)\n",
    "    cm = metrics.confusion_matrix(test_dataset['overall_survival'], predictions)\n",
    "\n",
    "    axs[int((i-2)/4), (i-2)%4].imshow(cm, cmap=\"Greens\")\n",
    "    axs[int((i-2)/4), (i-2)%4].set_title('Max_depth = {0}\\nAcc: {1}'.format(i ,round(score_test[i-2] ,3)), fontsize = 10)\n",
    "    axs[int((i-2)/4), (i-2)%4].set_xticks([0,1])\n",
    "    axs[int((i-2)/4), (i-2)%4].set_yticks([0,1])\n",
    "    \n",
    "    for k in range(len(cm)):\n",
    "        for j in range(len(cm)):\n",
    "            text = axs[int((i-2)/4), (i-2)%4].text(j, k, cm[k, j],\n",
    "                           ha=\"center\", va=\"center\", color=\"seagreen\")\n",
    "    \n",
    "    for ax in axs.flat:\n",
    "        ax.set(xlabel='Predicted label', ylabel='Actual label')\n",
    "        ax.label_outer()\n",
    "\n",
    "fig.suptitle('Confusion matrices for overall survival classification')\n",
    "fig.tight_layout()"
>>>>>>> Stashed changes
   ]
  },
  {
   "cell_type": "code",
<<<<<<< Updated upstream
   "execution_count": 106,
=======
   "execution_count": null,
   "metadata": {},
   "outputs": [],
   "source": [
    "f, ax = plt.subplots(1)\n",
    "ax.plot(range(2,10), score_train)\n",
    "ax.plot(range(2,10), score_test)\n",
    "ax.set_ylim(ymin=0.5, ymax=1.1)\n",
    "ax.set_title(\"Score curve\")\n",
    "ax.set(xlabel='Max_depth', ylabel='Performance')\n",
    "ax.legend([\"Train\", \"Test\"], loc=\"upper right\")\n",
    "\n",
    "plt.show(f)\n",
    "print(\"Mejor desempeño con el conjunto de pruebas: {0} con un árbol de profundidad {1}\".format(round(max(score_test),3), score_test.index(max(score_test))+2))"
   ]
  },
  {
   "cell_type": "code",
   "execution_count": null,
>>>>>>> Stashed changes
   "metadata": {},
   "outputs": [],
   "source": [
    "from sklearn.neural_network import MLPClassifier"
   ]
  },
  {
   "cell_type": "code",
<<<<<<< Updated upstream
   "execution_count": 182,
   "metadata": {},
   "outputs": [
    {
     "name": "stdout",
     "output_type": "stream",
     "text": [
      "(819, 169) (819, 5)\n",
      "(273, 169) (273, 5)\n",
      "0.6593406593406593\n"
     ]
    },
    {
     "ename": "ValueError",
     "evalue": "Found input variables with inconsistent numbers of samples: [273, 1]",
     "output_type": "error",
     "traceback": [
      "\u001b[1;31m---------------------------------------------------------------------------\u001b[0m",
      "\u001b[1;31mValueError\u001b[0m                                Traceback (most recent call last)",
      "\u001b[1;32m~\\AppData\\Local\\Temp\\ipykernel_7532\\1026711645.py\u001b[0m in \u001b[0;36m<module>\u001b[1;34m\u001b[0m\n\u001b[0;32m      6\u001b[0m \u001b[0mprint\u001b[0m\u001b[1;33m(\u001b[0m\u001b[0mclf\u001b[0m\u001b[1;33m.\u001b[0m\u001b[0mscore\u001b[0m\u001b[1;33m(\u001b[0m\u001b[0mx_test\u001b[0m\u001b[1;33m,\u001b[0m\u001b[0my_test\u001b[0m\u001b[1;33m)\u001b[0m\u001b[1;33m)\u001b[0m\u001b[1;33m\u001b[0m\u001b[1;33m\u001b[0m\u001b[0m\n\u001b[0;32m      7\u001b[0m \u001b[0mpredictions\u001b[0m \u001b[1;33m=\u001b[0m \u001b[0mclf\u001b[0m\u001b[1;33m.\u001b[0m\u001b[0mpredict\u001b[0m\u001b[1;33m(\u001b[0m\u001b[0mx_test\u001b[0m\u001b[1;33m[\u001b[0m\u001b[1;33m:\u001b[0m\u001b[1;36m1\u001b[0m\u001b[1;33m]\u001b[0m\u001b[1;33m)\u001b[0m\u001b[1;33m\u001b[0m\u001b[1;33m\u001b[0m\u001b[0m\n\u001b[1;32m----> 8\u001b[1;33m \u001b[0mcm\u001b[0m \u001b[1;33m=\u001b[0m \u001b[0mmetrics\u001b[0m\u001b[1;33m.\u001b[0m\u001b[0mconfusion_matrix\u001b[0m\u001b[1;33m(\u001b[0m\u001b[0my_test\u001b[0m\u001b[1;33m,\u001b[0m \u001b[0mpredictions\u001b[0m\u001b[1;33m)\u001b[0m\u001b[1;33m\u001b[0m\u001b[1;33m\u001b[0m\u001b[0m\n\u001b[0m",
      "\u001b[1;32m~\\Anaconda3\\lib\\site-packages\\sklearn\\metrics\\_classification.py\u001b[0m in \u001b[0;36mconfusion_matrix\u001b[1;34m(y_true, y_pred, labels, sample_weight, normalize)\u001b[0m\n\u001b[0;32m    305\u001b[0m     \u001b[1;33m(\u001b[0m\u001b[1;36m0\u001b[0m\u001b[1;33m,\u001b[0m \u001b[1;36m2\u001b[0m\u001b[1;33m,\u001b[0m \u001b[1;36m1\u001b[0m\u001b[1;33m,\u001b[0m \u001b[1;36m1\u001b[0m\u001b[1;33m)\u001b[0m\u001b[1;33m\u001b[0m\u001b[1;33m\u001b[0m\u001b[0m\n\u001b[0;32m    306\u001b[0m     \"\"\"\n\u001b[1;32m--> 307\u001b[1;33m     \u001b[0my_type\u001b[0m\u001b[1;33m,\u001b[0m \u001b[0my_true\u001b[0m\u001b[1;33m,\u001b[0m \u001b[0my_pred\u001b[0m \u001b[1;33m=\u001b[0m \u001b[0m_check_targets\u001b[0m\u001b[1;33m(\u001b[0m\u001b[0my_true\u001b[0m\u001b[1;33m,\u001b[0m \u001b[0my_pred\u001b[0m\u001b[1;33m)\u001b[0m\u001b[1;33m\u001b[0m\u001b[1;33m\u001b[0m\u001b[0m\n\u001b[0m\u001b[0;32m    308\u001b[0m     \u001b[1;32mif\u001b[0m \u001b[0my_type\u001b[0m \u001b[1;32mnot\u001b[0m \u001b[1;32min\u001b[0m \u001b[1;33m(\u001b[0m\u001b[1;34m\"binary\"\u001b[0m\u001b[1;33m,\u001b[0m \u001b[1;34m\"multiclass\"\u001b[0m\u001b[1;33m)\u001b[0m\u001b[1;33m:\u001b[0m\u001b[1;33m\u001b[0m\u001b[1;33m\u001b[0m\u001b[0m\n\u001b[0;32m    309\u001b[0m         \u001b[1;32mraise\u001b[0m \u001b[0mValueError\u001b[0m\u001b[1;33m(\u001b[0m\u001b[1;34m\"%s is not supported\"\u001b[0m \u001b[1;33m%\u001b[0m \u001b[0my_type\u001b[0m\u001b[1;33m)\u001b[0m\u001b[1;33m\u001b[0m\u001b[1;33m\u001b[0m\u001b[0m\n",
      "\u001b[1;32m~\\Anaconda3\\lib\\site-packages\\sklearn\\metrics\\_classification.py\u001b[0m in \u001b[0;36m_check_targets\u001b[1;34m(y_true, y_pred)\u001b[0m\n\u001b[0;32m     82\u001b[0m     \u001b[0my_pred\u001b[0m \u001b[1;33m:\u001b[0m \u001b[0marray\u001b[0m \u001b[1;32mor\u001b[0m \u001b[0mindicator\u001b[0m \u001b[0mmatrix\u001b[0m\u001b[1;33m\u001b[0m\u001b[1;33m\u001b[0m\u001b[0m\n\u001b[0;32m     83\u001b[0m     \"\"\"\n\u001b[1;32m---> 84\u001b[1;33m     \u001b[0mcheck_consistent_length\u001b[0m\u001b[1;33m(\u001b[0m\u001b[0my_true\u001b[0m\u001b[1;33m,\u001b[0m \u001b[0my_pred\u001b[0m\u001b[1;33m)\u001b[0m\u001b[1;33m\u001b[0m\u001b[1;33m\u001b[0m\u001b[0m\n\u001b[0m\u001b[0;32m     85\u001b[0m     \u001b[0mtype_true\u001b[0m \u001b[1;33m=\u001b[0m \u001b[0mtype_of_target\u001b[0m\u001b[1;33m(\u001b[0m\u001b[0my_true\u001b[0m\u001b[1;33m)\u001b[0m\u001b[1;33m\u001b[0m\u001b[1;33m\u001b[0m\u001b[0m\n\u001b[0;32m     86\u001b[0m     \u001b[0mtype_pred\u001b[0m \u001b[1;33m=\u001b[0m \u001b[0mtype_of_target\u001b[0m\u001b[1;33m(\u001b[0m\u001b[0my_pred\u001b[0m\u001b[1;33m)\u001b[0m\u001b[1;33m\u001b[0m\u001b[1;33m\u001b[0m\u001b[0m\n",
      "\u001b[1;32m~\\Anaconda3\\lib\\site-packages\\sklearn\\utils\\validation.py\u001b[0m in \u001b[0;36mcheck_consistent_length\u001b[1;34m(*arrays)\u001b[0m\n\u001b[0;32m    330\u001b[0m     \u001b[0muniques\u001b[0m \u001b[1;33m=\u001b[0m \u001b[0mnp\u001b[0m\u001b[1;33m.\u001b[0m\u001b[0munique\u001b[0m\u001b[1;33m(\u001b[0m\u001b[0mlengths\u001b[0m\u001b[1;33m)\u001b[0m\u001b[1;33m\u001b[0m\u001b[1;33m\u001b[0m\u001b[0m\n\u001b[0;32m    331\u001b[0m     \u001b[1;32mif\u001b[0m \u001b[0mlen\u001b[0m\u001b[1;33m(\u001b[0m\u001b[0muniques\u001b[0m\u001b[1;33m)\u001b[0m \u001b[1;33m>\u001b[0m \u001b[1;36m1\u001b[0m\u001b[1;33m:\u001b[0m\u001b[1;33m\u001b[0m\u001b[1;33m\u001b[0m\u001b[0m\n\u001b[1;32m--> 332\u001b[1;33m         raise ValueError(\n\u001b[0m\u001b[0;32m    333\u001b[0m             \u001b[1;34m\"Found input variables with inconsistent numbers of samples: %r\"\u001b[0m\u001b[1;33m\u001b[0m\u001b[1;33m\u001b[0m\u001b[0m\n\u001b[0;32m    334\u001b[0m             \u001b[1;33m%\u001b[0m \u001b[1;33m[\u001b[0m\u001b[0mint\u001b[0m\u001b[1;33m(\u001b[0m\u001b[0ml\u001b[0m\u001b[1;33m)\u001b[0m \u001b[1;32mfor\u001b[0m \u001b[0ml\u001b[0m \u001b[1;32min\u001b[0m \u001b[0mlengths\u001b[0m\u001b[1;33m]\u001b[0m\u001b[1;33m\u001b[0m\u001b[1;33m\u001b[0m\u001b[0m\n",
      "\u001b[1;31mValueError\u001b[0m: Found input variables with inconsistent numbers of samples: [273, 1]"
     ]
    }
   ],
   "source": [
    "clf = MLPClassifier(solver='lbfgs', alpha=1e-3, random_state=1)\n",
    "model = clf.fit(x_train, y_train)\n",
    "print(x_train.shape, y_train.shape)\n",
    "print(x_test.shape, y_test.shape)\n",
    "\n",
    "print(clf.score(x_test,y_test))\n",
    "predictions = clf.predict(x_test[:1])\n",
    "cm = metrics.confusion_matrix(y_test, predictions)\n"
=======
   "execution_count": null,
   "metadata": {},
   "outputs": [],
   "source": [
    "MLP_set = df.dropna(subset=['cancer_type_detailed'])\n",
    "clf = MLPClassifier(random_state=1, max_iter=300, early_stopping=True, validation_fraction=0.2).fit(MLP_set.loc[:,'brca1':'ugt2b7'], MLP_set['cancer_type_detailed'])"
   ]
  },
  {
   "cell_type": "code",
   "execution_count": null,
   "metadata": {},
   "outputs": [],
   "source": [
    "clf.predict_proba(x_test)\n",
    "predictions = clf.predict(x_test)\n",
    "cm = metrics.confusion_matrix(test_dataset['cancer_type_detailed'], predictions)\n",
    "\n",
    "f, ax = plt.subplots(1)\n",
    "ax.imshow(cm, cmap=\"Greens\")\n",
    "ax.set_title('Acc: {0}'.format(round(clf.score(x_test, test_dataset['cancer_type_detailed']),3)), fontsize = 10)\n",
    "for k in range(len(cm)):\n",
    "    for j in range(len(cm)):\n",
    "        text = ax.text(j, k, cm[k, j], ha=\"center\", va=\"center\", color=\"seagreen\")\n",
    "ax.set(xlabel='Predicted label', ylabel='Actual label')"
   ]
  },
  {
   "cell_type": "code",
   "execution_count": null,
   "metadata": {},
   "outputs": [],
   "source": [
    "f, ax = plt.subplots(2)\n",
    "ax[0].plot(clf.loss_curve_)\n",
    "ax[0].set_title('Loss curve')\n",
    "ax[0].set(xlabel='Epoch')\n",
    "\n",
    "ax[1] .plot(clf.validation_scores_)\n",
    "ax[1].set_title('Scores curve')\n",
    "ax[1].set(xlabel='Epoch', ylabel='Validation score')\n",
    "f.suptitle(\"Performance curves\")\n",
    "plt.subplots_adjust(hspace=0.5)\n",
    "fig.tight_layout()\n",
    "plt.show()\n",
    "print(\"Mejor desempeño: \", round(clf.best_validation_score_,3))"
>>>>>>> Stashed changes
   ]
  },
  {
   "cell_type": "code",
   "execution_count": null,
   "metadata": {},
   "outputs": [],
<<<<<<< Updated upstream
=======
   "source": [
    "clf.classes_"
   ]
  },
  {
   "cell_type": "code",
   "execution_count": null,
   "metadata": {},
   "outputs": [],
   "source": []
  },
  {
   "cell_type": "code",
   "execution_count": null,
   "metadata": {},
   "outputs": [],
>>>>>>> Stashed changes
   "source": []
  },
  {
   "cell_type": "code",
   "execution_count": null,
   "metadata": {},
   "outputs": [],
   "source": []
  }
 ],
 "metadata": {
  "kernelspec": {
   "display_name": "Python 3 (ipykernel)",
   "language": "python",
   "name": "python3"
  },
  "language_info": {
   "codemirror_mode": {
    "name": "ipython",
    "version": 3
   },
   "file_extension": ".py",
   "mimetype": "text/x-python",
   "name": "python",
   "nbconvert_exporter": "python",
   "pygments_lexer": "ipython3",
<<<<<<< Updated upstream
   "version": "3.9.16"
=======
   "version": "3.10.9"
>>>>>>> Stashed changes
  }
 },
 "nbformat": 4,
 "nbformat_minor": 4
}
