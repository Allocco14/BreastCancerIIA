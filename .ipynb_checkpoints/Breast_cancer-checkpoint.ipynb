{
 "cells": [
  {
   "cell_type": "markdown",
   "metadata": {},
   "source": [
    "# Análisis de datos genéticos de cáncer de seno\n",
    "## Importación de librerías"
   ]
  },
  {
   "cell_type": "code",
   "execution_count": 1,
   "metadata": {},
   "outputs": [],
   "source": [
    "import pandas as pd\n",
    "import numpy as np\n",
    "import matplotlib as mpl\n",
    "import matplotlib.pyplot as plt\n",
    "import seaborn as sns\n",
    "from sklearn import datasets\n",
    "from sklearn.linear_model import LogisticRegression\n",
    "from sklearn.preprocessing import OneHotEncoder, LabelBinarizer\n",
    "from sklearn import metrics"
   ]
  },
  {
   "cell_type": "markdown",
   "metadata": {},
   "source": [
    "## Carga de datos"
   ]
  },
  {
   "cell_type": "code",
   "execution_count": 2,
   "metadata": {
    "scrolled": true
   },
   "outputs": [
    {
     "name": "stderr",
     "output_type": "stream",
     "text": [
      "C:\\Users\\achav\\AppData\\Local\\Temp\\ipykernel_148\\1524619863.py:1: DtypeWarning: Columns (680,690,692,694) have mixed types. Specify dtype option on import or set low_memory=False.\n",
      "  df = pd.read_csv('METABRIC_RNA_MUTATION.csv')\n"
     ]
    }
   ],
   "source": [
    "df = pd.read_csv('METABRIC_RNA_MUTATION.csv')"
   ]
  },
  {
   "cell_type": "markdown",
   "metadata": {},
   "source": [
    "## Encabezado de la tabla"
   ]
  },
  {
   "cell_type": "code",
   "execution_count": 3,
   "metadata": {},
   "outputs": [
    {
     "data": {
      "text/html": [
       "<div>\n",
       "<style scoped>\n",
       "    .dataframe tbody tr th:only-of-type {\n",
       "        vertical-align: middle;\n",
       "    }\n",
       "\n",
       "    .dataframe tbody tr th {\n",
       "        vertical-align: top;\n",
       "    }\n",
       "\n",
       "    .dataframe thead th {\n",
       "        text-align: right;\n",
       "    }\n",
       "</style>\n",
       "<table border=\"1\" class=\"dataframe\">\n",
       "  <thead>\n",
       "    <tr style=\"text-align: right;\">\n",
       "      <th></th>\n",
       "      <th>patient_id</th>\n",
       "      <th>age_at_diagnosis</th>\n",
       "      <th>type_of_breast_surgery</th>\n",
       "      <th>cancer_type</th>\n",
       "      <th>cancer_type_detailed</th>\n",
       "      <th>cellularity</th>\n",
       "      <th>chemotherapy</th>\n",
       "      <th>pam50_+_claudin-low_subtype</th>\n",
       "      <th>cohort</th>\n",
       "      <th>er_status_measured_by_ihc</th>\n",
       "      <th>...</th>\n",
       "      <th>mtap_mut</th>\n",
       "      <th>ppp2cb_mut</th>\n",
       "      <th>smarcd1_mut</th>\n",
       "      <th>nras_mut</th>\n",
       "      <th>ndfip1_mut</th>\n",
       "      <th>hras_mut</th>\n",
       "      <th>prps2_mut</th>\n",
       "      <th>smarcb1_mut</th>\n",
       "      <th>stmn2_mut</th>\n",
       "      <th>siah1_mut</th>\n",
       "    </tr>\n",
       "  </thead>\n",
       "  <tbody>\n",
       "    <tr>\n",
       "      <th>0</th>\n",
       "      <td>0</td>\n",
       "      <td>75.65</td>\n",
       "      <td>MASTECTOMY</td>\n",
       "      <td>Breast Cancer</td>\n",
       "      <td>Breast Invasive Ductal Carcinoma</td>\n",
       "      <td>NaN</td>\n",
       "      <td>0</td>\n",
       "      <td>claudin-low</td>\n",
       "      <td>1</td>\n",
       "      <td>Positve</td>\n",
       "      <td>...</td>\n",
       "      <td>0</td>\n",
       "      <td>0</td>\n",
       "      <td>0</td>\n",
       "      <td>0</td>\n",
       "      <td>0</td>\n",
       "      <td>0</td>\n",
       "      <td>0</td>\n",
       "      <td>0</td>\n",
       "      <td>0</td>\n",
       "      <td>0</td>\n",
       "    </tr>\n",
       "    <tr>\n",
       "      <th>1</th>\n",
       "      <td>2</td>\n",
       "      <td>43.19</td>\n",
       "      <td>BREAST CONSERVING</td>\n",
       "      <td>Breast Cancer</td>\n",
       "      <td>Breast Invasive Ductal Carcinoma</td>\n",
       "      <td>High</td>\n",
       "      <td>0</td>\n",
       "      <td>LumA</td>\n",
       "      <td>1</td>\n",
       "      <td>Positve</td>\n",
       "      <td>...</td>\n",
       "      <td>0</td>\n",
       "      <td>0</td>\n",
       "      <td>0</td>\n",
       "      <td>0</td>\n",
       "      <td>0</td>\n",
       "      <td>0</td>\n",
       "      <td>0</td>\n",
       "      <td>0</td>\n",
       "      <td>0</td>\n",
       "      <td>0</td>\n",
       "    </tr>\n",
       "    <tr>\n",
       "      <th>2</th>\n",
       "      <td>5</td>\n",
       "      <td>48.87</td>\n",
       "      <td>MASTECTOMY</td>\n",
       "      <td>Breast Cancer</td>\n",
       "      <td>Breast Invasive Ductal Carcinoma</td>\n",
       "      <td>High</td>\n",
       "      <td>1</td>\n",
       "      <td>LumB</td>\n",
       "      <td>1</td>\n",
       "      <td>Positve</td>\n",
       "      <td>...</td>\n",
       "      <td>0</td>\n",
       "      <td>0</td>\n",
       "      <td>0</td>\n",
       "      <td>0</td>\n",
       "      <td>0</td>\n",
       "      <td>0</td>\n",
       "      <td>0</td>\n",
       "      <td>0</td>\n",
       "      <td>0</td>\n",
       "      <td>0</td>\n",
       "    </tr>\n",
       "    <tr>\n",
       "      <th>3</th>\n",
       "      <td>6</td>\n",
       "      <td>47.68</td>\n",
       "      <td>MASTECTOMY</td>\n",
       "      <td>Breast Cancer</td>\n",
       "      <td>Breast Mixed Ductal and Lobular Carcinoma</td>\n",
       "      <td>Moderate</td>\n",
       "      <td>1</td>\n",
       "      <td>LumB</td>\n",
       "      <td>1</td>\n",
       "      <td>Positve</td>\n",
       "      <td>...</td>\n",
       "      <td>0</td>\n",
       "      <td>0</td>\n",
       "      <td>0</td>\n",
       "      <td>0</td>\n",
       "      <td>0</td>\n",
       "      <td>0</td>\n",
       "      <td>0</td>\n",
       "      <td>0</td>\n",
       "      <td>0</td>\n",
       "      <td>0</td>\n",
       "    </tr>\n",
       "    <tr>\n",
       "      <th>4</th>\n",
       "      <td>8</td>\n",
       "      <td>76.97</td>\n",
       "      <td>MASTECTOMY</td>\n",
       "      <td>Breast Cancer</td>\n",
       "      <td>Breast Mixed Ductal and Lobular Carcinoma</td>\n",
       "      <td>High</td>\n",
       "      <td>1</td>\n",
       "      <td>LumB</td>\n",
       "      <td>1</td>\n",
       "      <td>Positve</td>\n",
       "      <td>...</td>\n",
       "      <td>0</td>\n",
       "      <td>0</td>\n",
       "      <td>0</td>\n",
       "      <td>0</td>\n",
       "      <td>0</td>\n",
       "      <td>0</td>\n",
       "      <td>0</td>\n",
       "      <td>0</td>\n",
       "      <td>0</td>\n",
       "      <td>0</td>\n",
       "    </tr>\n",
       "  </tbody>\n",
       "</table>\n",
       "<p>5 rows × 695 columns</p>\n",
       "</div>"
      ],
      "text/plain": [
       "   patient_id  age_at_diagnosis type_of_breast_surgery    cancer_type  \\\n",
       "0           0             75.65             MASTECTOMY  Breast Cancer   \n",
       "1           2             43.19      BREAST CONSERVING  Breast Cancer   \n",
       "2           5             48.87             MASTECTOMY  Breast Cancer   \n",
       "3           6             47.68             MASTECTOMY  Breast Cancer   \n",
       "4           8             76.97             MASTECTOMY  Breast Cancer   \n",
       "\n",
       "                        cancer_type_detailed cellularity  chemotherapy  \\\n",
       "0           Breast Invasive Ductal Carcinoma         NaN             0   \n",
       "1           Breast Invasive Ductal Carcinoma        High             0   \n",
       "2           Breast Invasive Ductal Carcinoma        High             1   \n",
       "3  Breast Mixed Ductal and Lobular Carcinoma    Moderate             1   \n",
       "4  Breast Mixed Ductal and Lobular Carcinoma        High             1   \n",
       "\n",
       "  pam50_+_claudin-low_subtype  cohort er_status_measured_by_ihc  ... mtap_mut  \\\n",
       "0                 claudin-low       1                   Positve  ...        0   \n",
       "1                        LumA       1                   Positve  ...        0   \n",
       "2                        LumB       1                   Positve  ...        0   \n",
       "3                        LumB       1                   Positve  ...        0   \n",
       "4                        LumB       1                   Positve  ...        0   \n",
       "\n",
       "   ppp2cb_mut smarcd1_mut nras_mut ndfip1_mut  hras_mut prps2_mut smarcb1_mut  \\\n",
       "0           0           0        0          0         0         0           0   \n",
       "1           0           0        0          0         0         0           0   \n",
       "2           0           0        0          0         0         0           0   \n",
       "3           0           0        0          0         0         0           0   \n",
       "4           0           0        0          0         0         0           0   \n",
       "\n",
       "  stmn2_mut  siah1_mut  \n",
       "0         0          0  \n",
       "1         0          0  \n",
       "2         0          0  \n",
       "3         0          0  \n",
       "4         0          0  \n",
       "\n",
       "[5 rows x 695 columns]"
      ]
     },
     "execution_count": 3,
     "metadata": {},
     "output_type": "execute_result"
    }
   ],
   "source": [
    "df.head()"
   ]
  },
  {
   "cell_type": "markdown",
   "metadata": {},
   "source": [
    "## Forma y columnas de los datos"
   ]
  },
  {
   "cell_type": "code",
   "execution_count": null,
   "metadata": {},
   "outputs": [],
   "source": [
    "print(df.shape)\n",
    "print(df.columns)"
   ]
  },
  {
   "cell_type": "markdown",
   "metadata": {},
   "source": [
    "## Tipos de datos de cada columna"
   ]
  },
  {
   "cell_type": "code",
   "execution_count": null,
   "metadata": {},
   "outputs": [],
   "source": [
    "df.dtypes"
   ]
  },
  {
   "cell_type": "markdown",
   "metadata": {},
   "source": [
    "## Algunas columnas muestran una alerta de diferentes tipos de datos"
   ]
  },
  {
   "cell_type": "code",
   "execution_count": null,
   "metadata": {},
   "outputs": [],
   "source": [
    "df.columns.values[[678, 688, 690, 692]]"
   ]
  },
  {
   "cell_type": "code",
   "execution_count": null,
   "metadata": {
    "scrolled": true
   },
   "outputs": [],
   "source": [
    "df[['rasgef1b_mut', 'hras_mut', 'smarcb1_mut', 'siah1_mut']].dtypes"
   ]
  },
  {
   "cell_type": "code",
   "execution_count": null,
   "metadata": {},
   "outputs": [],
   "source": [
    "df[['rasgef1b_mut', 'hras_mut', 'smarcb1_mut', 'siah1_mut']].describe()"
   ]
  },
  {
   "cell_type": "markdown",
   "metadata": {},
   "source": [
    "## Las variables con la alerta indican mutaciones en los genes correspondientes. 0 = no mutacion ; x = mutacion hay valores de 0 como caracter. Estas columnas habrá que binarizarlas."
   ]
  },
  {
   "cell_type": "code",
   "execution_count": null,
   "metadata": {
    "scrolled": false
   },
   "outputs": [],
   "source": [
    "print(df['rasgef1b_mut'].unique())\n",
    "print(df['hras_mut'].unique())\n",
    "print(df['smarcb1_mut'].unique())\n",
    "print(df['siah1_mut'].unique())"
   ]
  },
  {
   "cell_type": "markdown",
   "metadata": {},
   "source": [
    "## Descripcion de las variables con la alerta"
   ]
  },
  {
   "cell_type": "markdown",
   "metadata": {},
   "source": [
    "## Empezamos haciendo la conversión de '0' a 0 para todas las columnas donde había ambigüedad"
   ]
  },
  {
   "cell_type": "code",
   "execution_count": null,
   "metadata": {},
   "outputs": [],
   "source": [
    "df[['rasgef1b_mut', 'hras_mut', 'smarcb1_mut', 'siah1_mut']] = df[['rasgef1b_mut', 'hras_mut', 'smarcb1_mut', 'siah1_mut']].replace(['0'], 0)"
   ]
  },
  {
   "cell_type": "code",
   "execution_count": null,
   "metadata": {
    "scrolled": false
   },
   "outputs": [],
   "source": [
    "print(df['rasgef1b_mut'].unique())\n",
    "print(df['hras_mut'].unique())\n",
    "print(df['smarcb1_mut'].unique())\n",
    "print(df['siah1_mut'].unique())"
   ]
  },
  {
   "cell_type": "markdown",
   "metadata": {},
   "source": [
    "## Algoritmo de binarización aplicado a mutaciones"
   ]
  },
  {
   "cell_type": "code",
   "execution_count": null,
   "metadata": {},
   "outputs": [],
   "source": [
    "for mut in df['rasgef1b_mut'].unique():\n",
    "    if mut != 0:\n",
    "        column = df['rasgef1b_mut'] == mut\n",
    "        column = column.replace([False], 0).replace([True],1)\n",
    "        df[mut] = column"
   ]
  },
  {
   "cell_type": "markdown",
   "metadata": {},
   "source": [
    "## Histograma de edad de diagnóstico"
   ]
  },
  {
   "cell_type": "code",
   "execution_count": null,
   "metadata": {},
   "outputs": [],
   "source": [
    "plt.hist(df['age_at_diagnosis'])"
   ]
  },
  {
   "cell_type": "markdown",
   "metadata": {},
   "source": [
    "## Descripción de edad de diagnóstico"
   ]
  },
  {
   "cell_type": "code",
   "execution_count": null,
   "metadata": {
    "scrolled": true
   },
   "outputs": [],
   "source": [
    "df['age_at_diagnosis'].describe()"
   ]
  },
  {
   "cell_type": "markdown",
   "metadata": {},
   "source": [
    "## Conteo de valores de las variables no genéticas"
   ]
  },
  {
   "cell_type": "code",
   "execution_count": null,
   "metadata": {
    "scrolled": true
   },
   "outputs": [],
   "source": [
    "for i in range(2,31):\n",
    "    print(i, df.columns[i])\n",
    "    value_counts = df.iloc[:,i].value_counts()\n",
    "    nan = df.iloc[:,i].isna().sum()\n",
    "    print(value_counts)\n",
    "    print('nans:',nan, '\\n')"
   ]
  },
  {
   "cell_type": "code",
   "execution_count": null,
   "metadata": {},
   "outputs": [],
   "source": [
    "x1 = df.overall_survival_months[df.type_of_breast_surgery == 'MASTECTOMY']\n",
    "y1 = df.age_at_diagnosis[df.type_of_breast_surgery == 'MASTECTOMY']\n",
    "\n",
    "x2 = df.overall_survival_months[df.type_of_breast_surgery == 'BREAST CONSERVING']\n",
    "y2 = df.age_at_diagnosis[df.type_of_breast_surgery == 'BREAST CONSERVING']\n",
    "\n",
    "fig, ax = plt.subplots(1)\n",
    "ax.scatter(x1, y1)\n",
    "ax.scatter(x2, y2)\n",
    "ax.set(xlabel='Overall survival months', ylabel='Age at diagnosis')"
   ]
  },
  {
   "cell_type": "markdown",
   "metadata": {},
   "source": [
    "## Aplicando las técnicas de IA"
   ]
  },
  {
   "cell_type": "markdown",
   "metadata": {},
   "source": [
    "### Regresión logística aplicada a la supervivencia en función del perfil genético"
   ]
  },
  {
   "cell_type": "code",
   "execution_count": null,
   "metadata": {},
   "outputs": [],
   "source": [
    "train_dataset = df.sample(frac=0.75, random_state=1)\n",
    "test_dataset = df.drop(train_dataset.index)\n",
    "\n",
    "max_iter = 1000\n",
    "log_reg = LogisticRegression(multi_class='multinomial', max_iter=max_iter)\n",
    "x_train = train_dataset.loc[:,'brca1':'ugt2b7']\n",
    "x_test = test_dataset.loc[:,'brca1':'ugt2b7']\n",
    "\n",
    "log_reg.fit(x_train, train_dataset['5_year_sup'])\n",
    "predictions = log_reg.predict(x_test)\n",
    "counter = predictions.tolist()\n",
    "#print(counter.count('1'))\n",
    "score = log_reg.score(x_test, test_dataset['5_year_sup'])\n",
    "#print(score)\n",
    "cm = metrics.confusion_matrix(test_dataset['5_year_sup'], predictions)\n",
    "# print(cm)\n",
    "\n",
    "fig, axs = plt.subplots(1)\n",
    "axs.imshow(cm, cmap=\"Greens\")\n",
    "axs.set_title('Acc: {0}'.format(round(score,3)), fontsize = 10)\n",
    "axs.set_xticks([0,1])\n",
    "axs.set_yticks([0,1])\n",
    "axs.set(xlabel='Predicted label', ylabel='Actual label')\n",
    "for k in range(len(cm)):\n",
    "        for j in range(len(cm)):\n",
    "            text = axs.text(j, k, cm[k, j],\n",
    "                           ha=\"center\", va=\"center\", color=\"seagreen\")\n",
    "fig.suptitle('Confusion matrices for death from disease classification')\n"
   ]
  },
  {
   "cell_type": "code",
   "execution_count": null,
   "metadata": {},
   "outputs": [],
   "source": [
    "import matplotlib.pyplot as plt\n",
    "from sklearn.metrics import roc_curve, auc\n",
    "\n",
    "# Entrenar el modelo de regresión logística\n",
    "log_reg.fit(x_train, train_dataset['5_year_sup'])\n",
    "\n",
    "# Obtener las probabilidades de predicción para la clase positiva\n",
    "#print(log_reg.predict_proba(x_test))\n",
    "probabilities = log_reg.predict_proba(x_test)[:, 1]\n",
    "\n",
    "# Calcular la curva ROC\n",
    "fpr, tpr, thresholds = roc_curve(test_dataset['5_year_sup'], probabilities)\n",
    "roc_auc = auc(fpr, tpr)\n",
    "\n",
    "# Imprimir el área bajo la curva ROC\n",
    "print('Area bajo la curva ROC:', roc_auc)\n",
    "\n",
    "# Graficar la curva ROC\n",
    "plt.figure()\n",
    "plt.plot(fpr, tpr, color='darkorange', lw=2, label='Curva ROC (AUC = %0.2f)' % roc_auc)\n",
    "plt.plot([0, 1], [0, 1], color='navy', lw=2, linestyle='--')\n",
    "plt.xlim([0.0, 1.0])\n",
    "plt.ylim([0.0, 1.05])\n",
    "plt.xlabel('Tasa de Falsos Positivos')\n",
    "plt.ylabel('Tasa de Verdaderos Positivos')\n",
    "plt.title('Curva ROC')\n",
    "plt.legend(loc=\"lower right\")\n",
    "plt.show()"
   ]
  },
  {
   "cell_type": "markdown",
   "metadata": {},
   "source": [
    "### Regresión logística aplicada para clasificar tipos de cáncer en función del perfil genético"
   ]
  },
  {
   "cell_type": "code",
   "execution_count": null,
   "metadata": {},
   "outputs": [],
   "source": [
    "train_dataset = df.dropna().sample(frac=0.75, random_state=1)\n",
    "test_dataset = df.drop(train_dataset.index).dropna()\n",
    "\n",
    "x_train_wb = train_dataset\n",
    "x_test_wb = test_dataset\n",
    "\n",
    "x_train_wb = x_train_wb[x_train_wb['cancer_type_detailed'] != 'Breast']\n",
    "x_test_wb = x_test_wb[x_test_wb['cancer_type_detailed'] != 'Breast']\n",
    "\n",
    "x_train, y_train = x_train_wb.loc[:,'brca1':'ugt2b7'], x_train_wb['5_year_sup']\n",
    "x_test, y_test = x_test_wb.loc[:,'brca1':'ugt2b7'], x_test_wb['5_year_sup']"
   ]
  },
  {
   "cell_type": "markdown",
   "metadata": {},
   "source": [
    "#### Binarización de los tipos de cáncer"
   ]
  },
  {
   "cell_type": "code",
   "execution_count": null,
   "metadata": {
    "scrolled": true
   },
   "outputs": [],
   "source": [
    "print(x_train_wb['cancer_type_detailed'].unique())\n",
    "print(x_test_wb['cancer_type_detailed'].unique())\n",
    "\n",
    "y_train = pd.get_dummies(x_train_wb['cancer_type_detailed'])\n",
    "y_test = pd.get_dummies(x_test_wb['cancer_type_detailed'])"
   ]
  },
  {
   "cell_type": "markdown",
   "metadata": {},
   "source": [
    "#### Tamaño de los sets de entrenamiento y prueba"
   ]
  },
  {
   "cell_type": "code",
   "execution_count": null,
   "metadata": {
    "scrolled": true
   },
   "outputs": [],
   "source": [
    "print(len(train_dataset))\n",
    "print(len(test_dataset))"
   ]
  },
  {
   "cell_type": "code",
   "execution_count": null,
   "metadata": {
    "scrolled": false
   },
   "outputs": [],
   "source": [
    "max_iter = 1000\n",
    "log_reg = LogisticRegression(multi_class='multinomial', max_iter=max_iter)\n",
    "\n",
    "x_train = x_train_wb.loc[:,'brca1':'ugt2b7']\n",
    "x_test = x_test_wb.loc[:,'brca1':'ugt2b7']\n",
    "\n",
    "fpr_cancer_type = {}\n",
    "tpr_cancer_type = {}\n",
    "auc_cancer_type = {}\n",
    "names = {}\n",
    "\n",
    "fig, axs = plt.subplots(2, 2)\n",
    "\n",
    "for i, cancer_type in enumerate(x_test_wb['cancer_type_detailed'].dropna().unique()):\n",
    "    \n",
    "    log_reg.fit(x_train, y_train[cancer_type])\n",
    "    predictions = log_reg.predict(x_test)\n",
    "    score = log_reg.score(x_test, y_test[cancer_type])\n",
    "    # print(score)\n",
    "    cm = metrics.confusion_matrix(y_test[cancer_type], predictions)\n",
    "\n",
    "    axs[int(i/2), i%2].imshow(cm, cmap=\"Greens\")\n",
    "    axs[int(i/2), i%2].set_title('{0}\\nAcc: {1}'.format(cancer_type[0:-9] ,round(score,3)), fontsize = 10)\n",
    "    axs[int(i/2), i%2].set_xticks([0,1])\n",
    "    axs[int(i/2), i%2].set_yticks([0,1])\n",
    "    \n",
    "    probabilities = log_reg.predict_proba(x_test)[:, 1]\n",
    "        \n",
    "    fpr_cancer_type[i], tpr_cancer_type[i], _ = roc_curve(y_test[cancer_type], probabilities)\n",
    "    auc_cancer_type[i] = auc(fpr_cancer_type[i], tpr_cancer_type[i])\n",
    "    names[i] = cancer_type\n",
    "\n",
    "    \n",
    "    for k in range(len(cm)):\n",
    "        for j in range(len(cm)):\n",
    "            text = axs[int(i/2), i%2].text(j, k, cm[k, j],\n",
    "                           ha=\"center\", va=\"center\", color=\"seagreen\")\n",
    "    \n",
    "    for ax in axs.flat:\n",
    "        ax.set(xlabel='Predicted label', ylabel='Actual label')\n",
    "        ax.label_outer()\n",
    "\n",
    "fig.suptitle('Confusion matrices for detailed cancer classification')\n",
    "fig.tight_layout()\n",
    "fig.subplots_adjust(wspace=0.5)"
   ]
  },
  {
   "cell_type": "code",
   "execution_count": null,
   "metadata": {},
   "outputs": [],
   "source": [
    "plt.figure(figsize=(8, 6))\n",
    "plt.plot(fpr_cancer_type[0], tpr_cancer_type[0], label='{} (AUC = {:.2f})'.format(names[0], auc_cancer_type[0]))\n",
    "plt.plot(fpr_cancer_type[1], tpr_cancer_type[1], label='{} (AUC = {:.2f})'.format(names[1], auc_cancer_type[1]))\n",
    "plt.plot(fpr_cancer_type[2], tpr_cancer_type[2], label='{} (AUC = {:.2f})'.format(names[2], auc_cancer_type[2]))\n",
    "plt.plot(fpr_cancer_type[3], tpr_cancer_type[3], label='{} (AUC = {:.2f})'.format(names[3], auc_cancer_type[3]))\n",
    "\n",
    "plt.plot([0, 1], [0, 1], 'k--', label='Random')\n",
    "plt.xlim([0.0, 1.0])\n",
    "plt.ylim([0.0, 1.05])\n",
    "plt.xlabel('False Positive Rate')\n",
    "plt.ylabel('True Positive Rate')\n",
    "plt.title('Receiver Operating Characteristic')\n",
    "plt.legend(loc='lower right')\n",
    "plt.show()"
   ]
  },
  {
   "cell_type": "code",
   "execution_count": null,
   "metadata": {},
   "outputs": [],
   "source": [
    "from sklearn.ensemble import RandomForestClassifier"
   ]
  },
  {
   "cell_type": "code",
   "execution_count": null,
   "metadata": {
    "scrolled": true
   },
   "outputs": [],
   "source": [
    "score = []\n",
    "score_train = []\n",
    "fig, axs = plt.subplots(2, 2)\n",
    "\n",
    "x_train = train_dataset.loc[:,'brca1':'ugt2b7']\n",
    "x_test = test_dataset.loc[:,'brca1':'ugt2b7']\n",
    "\n",
    "y_train = pd.get_dummies(train_dataset['cancer_type_detailed'])\n",
    "y_test = pd.get_dummies(test_dataset['cancer_type_detailed'])\n",
    "\n",
    "for i in range(2,6):\n",
    "    clf = RandomForestClassifier(max_depth=i, random_state=0)\n",
    "    clf.fit(x_train, train_dataset['cancer_type_detailed'])\n",
    "    \n",
    "    score_train.append(clf.score(x_train, train_dataset['cancer_type_detailed']))\n",
    "    score.append(clf.score(x_test, test_dataset['cancer_type_detailed']))\n",
    "    predictions = clf.predict(x_test)\n",
    "    \n",
    "    # print(clf.classes_)\n",
    "    # print(clf.feature_importances_)\n",
    "    cm = metrics.confusion_matrix(test_dataset['cancer_type_detailed'], predictions)\n",
    "    # print(cm)\n",
    "    axs[int((i-2)/2), i%2].imshow(cm, cmap=\"Greens\")\n",
    "    axs[int((i-2)/2), i%2].set_title('Max_depth = {0}\\nAcc: {1}'.format(i ,round(score[i-2] ,3)), fontsize = 10)\n",
    "    axs[int((i-2)/2), i%2].set_xticks(range(0,5))\n",
    "    axs[int((i-2)/2), i%2].set_yticks(range(0,5))\n",
    "    \n",
    "    for k in range(len(cm)):\n",
    "        for j in range(len(cm)):\n",
    "            text = axs[int((i-2)/2), i%2].text(j, k, cm[k, j],\n",
    "                           ha=\"center\", va=\"center\", color=\"black\")\n",
    "    \n",
    "    for ax in axs.flat:\n",
    "        ax.set(xlabel='Predicted label', ylabel='Actual label')\n",
    "        ax.label_outer()\n",
    "    \n",
    "fig.suptitle('Confusion matrices for cancer classification')\n",
    "fig.tight_layout()"
   ]
  },
  {
   "cell_type": "code",
   "execution_count": null,
   "metadata": {
    "scrolled": true
   },
   "outputs": [],
   "source": [
    "f, ax = plt.subplots(1)\n",
    "ax.plot(score)\n",
    "ax.plot(score_train)\n",
    "ax.set_ylim(ymin=0.7, ymax=0.9)\n",
    "f.suptitle(\"Score curve\")\n",
    "plt.show(f)\n",
    "print(\"Mejor desempeño con el conjunto de pruebas: \", max(score))"
   ]
  },
  {
   "cell_type": "code",
   "execution_count": null,
   "metadata": {
    "scrolled": true
   },
   "outputs": [],
   "source": [
    "clf = RandomForestClassifier(max_depth=6)\n",
    "clf.fit(x_train, y_train)\n",
    "clf.score(x_test, y_test)\n",
    "score_train = []\n",
    "score_test = []\n",
    "\n",
    "fig, axs = plt.subplots(2, 4)\n",
    "\n",
    "for i in range(2,10):\n",
    "    clf = RandomForestClassifier(max_depth=i, random_state=0)\n",
    "    clf.fit(x_train, train_dataset['overall_survival'])\n",
    "    predictions = clf.predict(x_test)\n",
    "    score_train.append(clf.score(x_train, train_dataset['overall_survival']))\n",
    "    score_test.append(clf.score(x_test, test_dataset['overall_survival']))\n",
    "    # print(clf.feature_importances_)\n",
    "    cm = metrics.confusion_matrix(test_dataset['overall_survival'], predictions)\n",
    "\n",
    "    axs[int((i-2)/4), (i-2)%4].imshow(cm, cmap=\"Greens\")\n",
    "    axs[int((i-2)/4), (i-2)%4].set_title('Max_depth = {0}\\nAcc: {1}'.format(i ,round(score_test[i-2] ,3)), fontsize = 10)\n",
    "    axs[int((i-2)/4), (i-2)%4].set_xticks([0,1])\n",
    "    axs[int((i-2)/4), (i-2)%4].set_yticks([0,1])\n",
    "    \n",
    "    for k in range(len(cm)):\n",
    "        for j in range(len(cm)):\n",
    "            text = axs[int((i-2)/4), (i-2)%4].text(j, k, cm[k, j],\n",
    "                           ha=\"center\", va=\"center\", color=\"seagreen\")\n",
    "    \n",
    "    for ax in axs.flat:\n",
    "        ax.set(xlabel='Predicted label', ylabel='Actual label')\n",
    "        ax.label_outer()\n",
    "\n",
    "fig.suptitle('Confusion matrices for overall survival classification')\n",
    "fig.tight_layout()"
   ]
  },
  {
   "cell_type": "code",
   "execution_count": null,
   "metadata": {},
   "outputs": [],
   "source": [
    "# Obtener las probabilidades de predicción para la clase positiva\n",
    "\n",
    "probabilities = clf.predict_proba(x_test)[:, 1]\n",
    "\n",
    "# Calcular la curva ROC\n",
    "fpr, tpr, thresholds = roc_curve(test_dataset['overall_survival'], probabilities)\n",
    "roc_auc = auc(fpr, tpr)\n",
    "\n",
    "# Imprimir el área bajo la curva ROC\n",
    "print('Area bajo la curva ROC:', roc_auc)\n",
    "\n",
    "# Graficar la curva ROC\n",
    "plt.figure()\n",
    "plt.plot(fpr, tpr, color='darkorange', lw=2, label='Curva ROC (AUC = %0.2f)' % roc_auc)\n",
    "plt.plot([0, 1], [0, 1], color='navy', lw=2, linestyle='--')\n",
    "plt.xlim([0.0, 1.0])\n",
    "plt.ylim([0.0, 1.05])\n",
    "plt.xlabel('Tasa de Falsos Positivos')\n",
    "plt.ylabel('Tasa de Verdaderos Positivos')\n",
    "plt.title('Curva ROC')\n",
    "plt.legend(loc=\"lower right\")\n",
    "plt.show()"
   ]
  },
  {
   "cell_type": "code",
   "execution_count": null,
   "metadata": {},
   "outputs": [],
   "source": [
    "f, ax = plt.subplots(1)\n",
    "ax.plot(range(2,10), score_train)\n",
    "ax.plot(range(2,10), score_test)\n",
    "ax.set_ylim(ymin=0.5, ymax=1.1)\n",
    "ax.set_title(\"Score curve\")\n",
    "ax.set(xlabel='Max_depth', ylabel='Performance')\n",
    "ax.legend([\"Train\", \"Test\"], loc=\"upper right\")\n",
    "\n",
    "plt.show(f)\n",
    "print(\"Mejor desempeño con el conjunto de pruebas: {0} con un árbol de profundidad {1}\".format(round(max(score_test),3), score_test.index(max(score_test))+2))"
   ]
  },
  {
   "cell_type": "code",
   "execution_count": null,
   "metadata": {},
   "outputs": [],
   "source": [
    "from sklearn.neural_network import MLPClassifier"
   ]
  },
  {
   "cell_type": "code",
   "execution_count": null,
   "metadata": {},
   "outputs": [],
   "source": [
    "MLP_set = df.dropna(subset=['cancer_type_detailed'])\n",
    "clf = MLPClassifier(random_state=1, max_iter=300, early_stopping=True, validation_fraction=0.2).fit(MLP_set.loc[:,'brca1':'ugt2b7'], MLP_set['cancer_type_detailed'])"
   ]
  },
  {
   "cell_type": "code",
   "execution_count": null,
   "metadata": {},
   "outputs": [],
   "source": [
    "clf.predict_proba(x_test)\n",
    "predictions = clf.predict(x_test)\n",
    "cm = metrics.confusion_matrix(test_dataset['cancer_type_detailed'], predictions)\n",
    "\n",
    "f, ax = plt.subplots(1)\n",
    "ax.imshow(cm, cmap=\"Greens\")\n",
    "ax.set_title('Acc: {0}'.format(round(clf.score(x_test, test_dataset['cancer_type_detailed']),3)), fontsize = 10)\n",
    "for k in range(len(cm)):\n",
    "    for j in range(len(cm)):\n",
    "        text = ax.text(j, k, cm[k, j], ha=\"center\", va=\"center\", color=\"seagreen\")\n",
    "ax.set(xlabel='Predicted label', ylabel='Actual label')"
   ]
  },
  {
   "cell_type": "code",
   "execution_count": null,
   "metadata": {},
   "outputs": [],
   "source": [
    "# Obtener las probabilidades de predicción para la clase positiva\n",
    "\n",
    "prob1 = clf.predict_proba(x_test)[:,1]\n",
    "prob2 = clf.predict_proba(x_test)[:,2]\n",
    "prob3 = clf.predict_proba(x_test)[:,3]\n",
    "prob4 = clf.predict_proba(x_test)[:,4]\n",
    "prob5 = clf.predict_proba(x_test)[:,5]\n",
    "\n",
    "# Calcular la curva ROC\n",
    "fpr1, tpr1, thresholds = roc_curve(y_test['Breast Invasive Ductal Carcinoma'], prob1)\n",
    "roc_auc1 = auc(fpr1, tpr1)\n",
    "fpr2, tpr2, thresholds = roc_curve(y_test['Breast Invasive Lobular Carcinoma'], prob2)\n",
    "roc_auc2 = auc(fpr2, tpr2)\n",
    "fpr3, tpr3, thresholds = roc_curve(y_test['Breast Invasive Mixed Mucinous Carcinoma'], prob3)\n",
    "roc_auc3 = auc(fpr3, tpr3)\n",
    "fpr4, tpr4, thresholds = roc_curve(y_test['Breast Mixed Ductal and Lobular Carcinoma'], prob4)\n",
    "roc_auc4 = auc(fpr4, tpr4)\n",
    "\n",
    "# Graficar la curva ROC\n",
    "plt.figure()\n",
    "plt.plot(fpr1, tpr1, lw=2, label='Breast Invasive Ductal Carcinoma (AUC = %0.2f)' % roc_auc1)\n",
    "plt.plot(fpr2, tpr2, lw=2, label='Breast Invasive Lobular Carcinoma (AUC = %0.2f)' % roc_auc2)\n",
    "plt.plot(fpr3, tpr3, lw=2, label='Breast Invasive Mixed Mucinous Carcinoma (AUC = %0.2f)' % roc_auc3)\n",
    "plt.plot(fpr4, tpr4, lw=2, label='Breast Mixed Ductal and Lobular Carcinoma (AUC = %0.2f)' % roc_auc4)\n",
    "plt.plot([0, 1], [0, 1], color='navy', lw=2, linestyle='--')\n",
    "plt.xlim([0.0, 1.0])\n",
    "plt.ylim([0.0, 1.05])\n",
    "plt.xlabel('Tasa de Falsos Positivos')\n",
    "plt.ylabel('Tasa de Verdaderos Positivos')\n",
    "plt.title('Curva ROC')\n",
    "plt.legend(loc=\"lower right\")\n",
    "plt.show()"
   ]
  },
  {
   "cell_type": "code",
   "execution_count": null,
   "metadata": {},
   "outputs": [],
   "source": [
    "f, ax = plt.subplots(2)\n",
    "ax[0].plot(clf.loss_curve_)\n",
    "ax[0].set_title('Loss curve')\n",
    "ax[0].set(xlabel='Epoch')\n",
    "\n",
    "ax[1] .plot(clf.validation_scores_)\n",
    "ax[1].set_title('Scores curve')\n",
    "ax[1].set(xlabel='Epoch', ylabel='Validation score')\n",
    "f.suptitle(\"Performance curves\")\n",
    "plt.subplots_adjust(hspace=0.5)\n",
    "fig.tight_layout()\n",
    "plt.show()\n",
    "print(\"Mejor desempeño: \", round(clf.best_validation_score_,3))"
   ]
  },
  {
   "cell_type": "code",
   "execution_count": null,
   "metadata": {},
   "outputs": [],
   "source": [
    "clf.classes_"
   ]
  }
 ],
 "metadata": {
  "kernelspec": {
   "display_name": "Python 3 (ipykernel)",
   "language": "python",
   "name": "python3"
  },
  "language_info": {
   "codemirror_mode": {
    "name": "ipython",
    "version": 3
   },
   "file_extension": ".py",
   "mimetype": "text/x-python",
   "name": "python",
   "nbconvert_exporter": "python",
   "pygments_lexer": "ipython3",
   "version": "3.9.16"
  }
 },
 "nbformat": 4,
 "nbformat_minor": 4
}
